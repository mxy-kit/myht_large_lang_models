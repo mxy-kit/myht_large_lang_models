{
 "cells": [
  {
   "cell_type": "markdown",
   "metadata": {
    "id": "JBA5IPyb4BFH"
   },
   "source": [
    "# Его величество, \"домашка №1\""
   ]
  },
  {
   "cell_type": "markdown",
   "metadata": {
    "id": "cOnY6pwvpghE"
   },
   "source": [
    "В этой домашней работе вам предоставится уникальная возможность обучить Byte-level BPE токенизатор и небольшую LM.  \n",
    "\n",
    "Домашняя работа состоит из нескольких последовательных блоков: реализация и обучение токенизатора, реализация Transformer модели и обучение модели на датасете с русскими анекдотами!\n",
    "\n",
    "Обученные токенизатор и модель можно и нужно выложить на [🤗 HuggingFace](https://huggingface.co/). Зарегистрируйтесь там, подпишитесь на [deep vk](https://huggingface.co/deepvk) и создайте себе API токен.\n",
    "\n",
    "Следуйте ячейкам тетрадки и заполняйте пропущенные ячейки. В конце тетрадки вы найдете задачи со звездочкой, чтобы получить максимальный балл!"
   ]
  },
  {
   "cell_type": "code",
   "execution_count": 2,
   "metadata": {
    "colab": {
     "base_uri": "https://localhost:8080/"
    },
    "execution": {
     "iopub.execute_input": "2025-03-12T18:17:31.697828Z",
     "iopub.status.busy": "2025-03-12T18:17:31.697561Z",
     "iopub.status.idle": "2025-03-12T18:17:37.324805Z",
     "shell.execute_reply": "2025-03-12T18:17:37.323834Z",
     "shell.execute_reply.started": "2025-03-12T18:17:31.697797Z"
    },
    "id": "0byNYx5dzB4b",
    "outputId": "3b15ec01-7d07-439e-ae25-fcfffbf934dd"
   },
   "outputs": [
    {
     "name": "stdout",
     "output_type": "stream",
     "text": [
      "\u001b[?25l   \u001b[90m━━━━━━━━━━━━━━━━━━━━━━━━━━━━━━━━━━━━━━━━\u001b[0m \u001b[32m0.0/485.4 kB\u001b[0m \u001b[31m?\u001b[0m eta \u001b[36m-:--:--\u001b[0m\r",
      "\u001b[2K   \u001b[90m━━━━━━━━━━━━━━━━━━━━━━━━━━━━━━━━━━━━━━━━\u001b[0m \u001b[32m485.4/485.4 kB\u001b[0m \u001b[31m14.9 MB/s\u001b[0m eta \u001b[36m0:00:00\u001b[0m\n",
      "\u001b[?25h\u001b[?25l   \u001b[90m━━━━━━━━━━━━━━━━━━━━━━━━━━━━━━━━━━━━━━━━\u001b[0m \u001b[32m0.0/116.3 kB\u001b[0m \u001b[31m?\u001b[0m eta \u001b[36m-:--:--\u001b[0m\r",
      "\u001b[2K   \u001b[90m━━━━━━━━━━━━━━━━━━━━━━━━━━━━━━━━━━━━━━━━\u001b[0m \u001b[32m116.3/116.3 kB\u001b[0m \u001b[31m9.4 MB/s\u001b[0m eta \u001b[36m0:00:00\u001b[0m\n",
      "\u001b[?25h\u001b[?25l   \u001b[90m━━━━━━━━━━━━━━━━━━━━━━━━━━━━━━━━━━━━━━━━\u001b[0m \u001b[32m0.0/143.5 kB\u001b[0m \u001b[31m?\u001b[0m eta \u001b[36m-:--:--\u001b[0m\r",
      "\u001b[2K   \u001b[90m━━━━━━━━━━━━━━━━━━━━━━━━━━━━━━━━━━━━━━━━\u001b[0m \u001b[32m143.5/143.5 kB\u001b[0m \u001b[31m9.2 MB/s\u001b[0m eta \u001b[36m0:00:00\u001b[0m\n",
      "\u001b[?25h\u001b[?25l   \u001b[90m━━━━━━━━━━━━━━━━━━━━━━━━━━━━━━━━━━━━━━━━\u001b[0m \u001b[32m0.0/194.8 kB\u001b[0m \u001b[31m?\u001b[0m eta \u001b[36m-:--:--\u001b[0m\r",
      "\u001b[2K   \u001b[90m━━━━━━━━━━━━━━━━━━━━━━━━━━━━━━━━━━━━━━━━\u001b[0m \u001b[32m194.8/194.8 kB\u001b[0m \u001b[31m16.0 MB/s\u001b[0m eta \u001b[36m0:00:00\u001b[0m\n",
      "\u001b[?25h"
     ]
    }
   ],
   "source": [
    "# Установим необходимые дополнительные библиотеки\n",
    "\n",
    "!pip install --quiet datasets livelossplot"
   ]
  },
  {
   "cell_type": "code",
   "execution_count": 3,
   "metadata": {
    "execution": {
     "iopub.execute_input": "2025-03-12T18:17:37.326128Z",
     "iopub.status.busy": "2025-03-12T18:17:37.325811Z",
     "iopub.status.idle": "2025-03-12T18:17:44.288307Z",
     "shell.execute_reply": "2025-03-12T18:17:44.287633Z",
     "shell.execute_reply.started": "2025-03-12T18:17:37.326091Z"
    },
    "id": "UILR1tu3z9oI"
   },
   "outputs": [],
   "source": [
    "# Необходимые импорты\n",
    "\n",
    "import inspect\n",
    "import json\n",
    "import os\n",
    "from collections import Counter\n",
    "from dataclasses import dataclass\n",
    "from functools import lru_cache, partial\n",
    "from pathlib import Path\n",
    "\n",
    "import regex as re\n",
    "import torch\n",
    "import torch.nn as nn\n",
    "from datasets import load_dataset\n",
    "from huggingface_hub import HfApi, PyTorchModelHubMixin, interpreter_login, snapshot_download\n",
    "from huggingface_hub.utils import SoftTemporaryDirectory\n",
    "from livelossplot import PlotLosses\n",
    "from torch import Tensor\n",
    "from torch.nn import functional as F\n",
    "from torch.utils.data import DataLoader\n",
    "from tqdm.auto import tqdm, trange"
   ]
  },
  {
   "cell_type": "code",
   "execution_count": 4,
   "metadata": {
    "execution": {
     "iopub.execute_input": "2025-03-12T18:17:44.289383Z",
     "iopub.status.busy": "2025-03-12T18:17:44.289008Z",
     "iopub.status.idle": "2025-03-12T18:17:44.293241Z",
     "shell.execute_reply": "2025-03-12T18:17:44.292327Z",
     "shell.execute_reply.started": "2025-03-12T18:17:44.289356Z"
    },
    "id": "4p7OLSivnPW0"
   },
   "outputs": [],
   "source": [
    "# Этой функцией будут помечены все места, которые необходимо дозаполнить\n",
    "# Это могут быть как целые функции, так и отдельные части внутри них\n",
    "# Всегда можно воспользоваться интроспекцией и найти места использования этой функции :)\n",
    "\n",
    "\n",
    "def todo():\n",
    "    stack = inspect.stack()\n",
    "    caller_frame = stack[1]\n",
    "    function_name = caller_frame.function\n",
    "    line_number = caller_frame.lineno\n",
    "    raise NotImplementedError(f\"TODO at {function_name}, line {line_number}\")"
   ]
  },
  {
   "cell_type": "code",
   "execution_count": 5,
   "metadata": {
    "colab": {
     "base_uri": "https://localhost:8080/"
    },
    "execution": {
     "iopub.execute_input": "2025-03-12T18:17:44.295215Z",
     "iopub.status.busy": "2025-03-12T18:17:44.294916Z",
     "iopub.status.idle": "2025-03-12T18:18:24.074604Z",
     "shell.execute_reply": "2025-03-12T18:18:24.073946Z",
     "shell.execute_reply.started": "2025-03-12T18:17:44.295180Z"
    },
    "id": "bCkJJp2JK99x",
    "outputId": "95a48e1f-bb1d-4c31-853e-69518c9429fb"
   },
   "outputs": [
    {
     "name": "stdout",
     "output_type": "stream",
     "text": [
      "\n",
      "    _|    _|  _|    _|    _|_|_|    _|_|_|  _|_|_|  _|      _|    _|_|_|      _|_|_|_|    _|_|      _|_|_|  _|_|_|_|\n",
      "    _|    _|  _|    _|  _|        _|          _|    _|_|    _|  _|            _|        _|    _|  _|        _|\n",
      "    _|_|_|_|  _|    _|  _|  _|_|  _|  _|_|    _|    _|  _|  _|  _|  _|_|      _|_|_|    _|_|_|_|  _|        _|_|_|\n",
      "    _|    _|  _|    _|  _|    _|  _|    _|    _|    _|    _|_|  _|    _|      _|        _|    _|  _|        _|\n",
      "    _|    _|    _|_|      _|_|_|    _|_|_|  _|_|_|  _|      _|    _|_|_|      _|        _|    _|    _|_|_|  _|_|_|_|\n",
      "\n"
     ]
    },
    {
     "name": "stderr",
     "output_type": "stream",
     "text": [
      "/usr/local/lib/python3.11/dist-packages/huggingface_hub/utils/_auth.py:94: UserWarning: \n",
      "The secret `HF_TOKEN` does not exist in your Colab secrets.\n",
      "To authenticate with the Hugging Face Hub, create a token in your settings tab (https://huggingface.co/settings/tokens), set it as secret in your Google Colab and restart your session.\n",
      "You will be able to reuse this secret in all of your notebooks.\n",
      "Please note that authentication is recommended but still optional to access public models or datasets.\n",
      "  warnings.warn(\n"
     ]
    },
    {
     "name": "stdout",
     "output_type": "stream",
     "text": [
      "Enter your token (input will not be visible): ··········\n",
      "Add token as git credential? (Y/n) y\n"
     ]
    }
   ],
   "source": [
    "interpreter_login()"
   ]
  },
  {
   "cell_type": "code",
   "execution_count": 6,
   "metadata": {
    "colab": {
     "base_uri": "https://localhost:8080/"
    },
    "execution": {
     "iopub.execute_input": "2025-03-12T18:18:24.076069Z",
     "iopub.status.busy": "2025-03-12T18:18:24.075843Z",
     "iopub.status.idle": "2025-03-12T18:18:24.118012Z",
     "shell.execute_reply": "2025-03-12T18:18:24.117309Z",
     "shell.execute_reply.started": "2025-03-12T18:18:24.076047Z"
    },
    "id": "GVWKkwaryDTq",
    "outputId": "3bf0882e-974a-40fd-e935-1b3400a4a746"
   },
   "outputs": [
    {
     "name": "stdout",
     "output_type": "stream",
     "text": [
      "Homework repository: 'xinyuema/llm-course-hw1'\n"
     ]
    }
   ],
   "source": [
    "# Подготовим репозиторий для будущей модели и токенизатора\n",
    "username = HfApi().whoami()[\"name\"]\n",
    "REPO_NAME = f\"{username}/llm-course-hw1\"  # Или как вам хочется\n",
    "\n",
    "print(f\"Homework repository: '{REPO_NAME}'\")\n",
    "\n",
    "# И другие полезные вещи\n",
    "SEED = 0xC0FFEE"
   ]
  },
  {
   "cell_type": "markdown",
   "metadata": {
    "id": "GxN5JUbZ3ToV"
   },
   "source": [
    "# Датасет\n",
    "\n",
    "Первым делом загрузим данные: [🤗 IgorVolochay/russian_jokes](https://huggingface.co/datasets/IgorVolochay/russian_jokes)\n",
    "\n",
    "И немного посмотрим на них 👀"
   ]
  },
  {
   "cell_type": "code",
   "execution_count": 7,
   "metadata": {
    "colab": {
     "base_uri": "https://localhost:8080/",
     "height": 200,
     "referenced_widgets": [
      "535ef891e92e4ca89f60b1176c5a3ccc",
      "21718aa2ecfb4afb9c7848bb502b1ae5",
      "27f4098a5f364c3abf600665c4e0703f",
      "23c7844122cc49168eec8971bd231362",
      "ed12421ea46a4cdbafe937f7bfa44325",
      "5860e9c8db8f4ae6a876eb5e43accf87",
      "eb682271e1e445c2a0b6f6e14f3fadb8",
      "8c80c7c086d9480596b4dd44c6cc742e",
      "51b57ee99573432da12c5548484369ac",
      "bbe0281ad89e402d89d591b7a7ac2623",
      "84a5f03b096d493a945c66e2c568618e",
      "41f54a937b8e4a20a6e57fc45662b7a9",
      "9f9c23e6c3324aaab313ffd6881e26b8",
      "2539d9529948415faa1aea9eecc7eaf4",
      "aa030d91bb7e43fc9f2a373e9607ee16",
      "69f9aa2f3cc4474092ec08b498dec4b3",
      "ea357b5f9dc84652991f1dcb71fe5c7e",
      "92496a9ac2bf4e6697198426d11e3442",
      "c3fb92e8963748abbdef219fa7d0fe81",
      "b29577f03ac845c88e4cf84dfad62093",
      "36e6c13c98924097bafca7a323e9230f",
      "b0ed991e842149bfad15307321d961a5",
      "9ea1b8274e3c4c4789cfbadcc64c26ec",
      "b9dd65c2ae5c431db08a67c0ceeb5b96",
      "662afbe612d245c5a881150bc7ae50f0",
      "47effe9635f7420db5d80b01bdbb883d",
      "1be72c87f094475fa620ff94ce7bda86",
      "53b1c9da478d4ff2b8da0211a6026a67",
      "b342e2912dfa45949df6a8982d6fdb42",
      "d13f01ec3abe472491a1ab5130f73f68",
      "e3aaa06e431946028dfb4e6a8a4aeb5b",
      "929acf2f9d444077b90481018ff18834",
      "60ae73f261bd4ccbb4352aa2dde29f9c"
     ]
    },
    "execution": {
     "iopub.execute_input": "2025-03-12T18:18:24.119152Z",
     "iopub.status.busy": "2025-03-12T18:18:24.118870Z",
     "iopub.status.idle": "2025-03-12T18:18:27.433180Z",
     "shell.execute_reply": "2025-03-12T18:18:27.432353Z",
     "shell.execute_reply.started": "2025-03-12T18:18:24.119123Z"
    },
    "id": "rT78JNcqpRXW",
    "outputId": "68eec0ed-ab1c-4216-e120-170c8f48df4e"
   },
   "outputs": [
    {
     "data": {
      "application/vnd.jupyter.widget-view+json": {
       "model_id": "535ef891e92e4ca89f60b1176c5a3ccc",
       "version_major": 2,
       "version_minor": 0
      },
      "text/plain": [
       "README.md:   0%|          | 0.00/99.0 [00:00<?, ?B/s]"
      ]
     },
     "metadata": {},
     "output_type": "display_data"
    },
    {
     "data": {
      "application/vnd.jupyter.widget-view+json": {
       "model_id": "41f54a937b8e4a20a6e57fc45662b7a9",
       "version_major": 2,
       "version_minor": 0
      },
      "text/plain": [
       "dataset.txt:   0%|          | 0.00/41.7M [00:00<?, ?B/s]"
      ]
     },
     "metadata": {},
     "output_type": "display_data"
    },
    {
     "data": {
      "application/vnd.jupyter.widget-view+json": {
       "model_id": "9ea1b8274e3c4c4789cfbadcc64c26ec",
       "version_major": 2,
       "version_minor": 0
      },
      "text/plain": [
       "Generating train split:   0%|          | 0/150553 [00:00<?, ? examples/s]"
      ]
     },
     "metadata": {},
     "output_type": "display_data"
    },
    {
     "name": "stdout",
     "output_type": "stream",
     "text": [
      "- Зять, а ты знаешь, где найти того мужчину, который спас меня, когда я тонула?- Да, он уже приходил ко мне извиняться!\n",
      "===\n",
      "После проведения акции \"К животным по-человечески\" животные посовещались и решили провести акцию \"К человеку по-скотски\".\n",
      "===\n",
      "Штирлиц пришел домой и сразу завалился на боковую. Средняя от досады заплакала.\n"
     ]
    }
   ],
   "source": [
    "dataset = load_dataset(\"IgorVolochay/russian_jokes\")\n",
    "print(\"\\n===\\n\".join(dataset[\"train\"][\"text\"][:3]))"
   ]
  },
  {
   "cell_type": "code",
   "execution_count": 8,
   "metadata": {
    "colab": {
     "base_uri": "https://localhost:8080/"
    },
    "execution": {
     "iopub.execute_input": "2025-03-12T18:18:27.434521Z",
     "iopub.status.busy": "2025-03-12T18:18:27.434063Z",
     "iopub.status.idle": "2025-03-12T18:18:27.477625Z",
     "shell.execute_reply": "2025-03-12T18:18:27.476961Z",
     "shell.execute_reply.started": "2025-03-12T18:18:27.434490Z"
    },
    "id": "z7G7o6OdK99z",
    "outputId": "8eb6fee6-16ed-454b-d3e7-f60db3643cf9"
   },
   "outputs": [
    {
     "data": {
      "text/plain": [
       "DatasetDict({\n",
       "    train: Dataset({\n",
       "        features: ['text'],\n",
       "        num_rows: 135497\n",
       "    })\n",
       "    test: Dataset({\n",
       "        features: ['text'],\n",
       "        num_rows: 15056\n",
       "    })\n",
       "})"
      ]
     },
     "execution_count": 8,
     "metadata": {},
     "output_type": "execute_result"
    }
   ],
   "source": [
    "# Подготовим холдауты\n",
    "dataset = dataset[\"train\"].train_test_split(test_size=0.1, seed=SEED)\n",
    "dataset"
   ]
  },
  {
   "cell_type": "markdown",
   "metadata": {
    "id": "aZzvdEVO3-kM"
   },
   "source": [
    "# Токенизатор [6 баллов]\n",
    "\n",
    "В качестве токенизатора будем использоват Byte-level BPE.\n",
    "\n",
    "Для этого:\n",
    "1. Реализуем его обучения, нам необходимо построить словарь заданного размера и набор слияний по этому словарю\n",
    "2. Обучим токенизатор на датасете\n",
    "3. Реализуем инференс токенизатора: кодирование текста и декодирование токенов\n"
   ]
  },
  {
   "cell_type": "code",
   "execution_count": 9,
   "metadata": {
    "execution": {
     "iopub.execute_input": "2025-03-12T18:18:27.478659Z",
     "iopub.status.busy": "2025-03-12T18:18:27.478380Z",
     "iopub.status.idle": "2025-03-12T18:18:27.484754Z",
     "shell.execute_reply": "2025-03-12T18:18:27.484038Z",
     "shell.execute_reply.started": "2025-03-12T18:18:27.478617Z"
    },
    "id": "15U6H1iLU3kI"
   },
   "outputs": [],
   "source": [
    "# Всякие полезности\n",
    "\n",
    "WHITESPACE_SPLITTER = re.compile(r\"\"\"'s|'t|'re|'ve|'m|'ll|'d| ?\\p{L}+| ?\\p{N}+| ?[^\\s\\p{L}\\p{N}]+|\\s+(?!\\S)|\\s+\"\"\")\n",
    "\n",
    "\n",
    "def bytes_to_unicode() -> dict[int, str]:\n",
    "    \"\"\"The original dictionary consists of 256 bytes and their corresponding Unicode characters.\n",
    "    For example, chr(33) is '!'. However, not all bytes have a visually appealing representation,\n",
    "    so such characters are skipped and replaced with the first available ones, i.e. shifted by 256.\n",
    "    \"\"\"\n",
    "    initial_bytes = (\n",
    "        list(range(ord(\"!\"), ord(\"~\") + 1)) + list(range(ord(\"¡\"), ord(\"¬\") + 1)) + list(range(ord(\"®\"), ord(\"ÿ\") + 1))\n",
    "    )\n",
    "    initial_chars = [chr(it) for it in initial_bytes]\n",
    "    n = 0\n",
    "    for byte in range(2**8):\n",
    "        if byte not in initial_bytes:\n",
    "            initial_bytes.append(byte)\n",
    "            initial_chars.append(chr(2**8 + n))\n",
    "            n += 1\n",
    "    return dict(sorted(zip(initial_bytes, initial_chars)))"
   ]
  },
  {
   "cell_type": "code",
   "execution_count": 10,
   "metadata": {
    "execution": {
     "iopub.execute_input": "2025-03-12T18:18:27.485827Z",
     "iopub.status.busy": "2025-03-12T18:18:27.485548Z",
     "iopub.status.idle": "2025-03-12T18:18:27.515542Z",
     "shell.execute_reply": "2025-03-12T18:18:27.513148Z",
     "shell.execute_reply.started": "2025-03-12T18:18:27.485799Z"
    },
    "id": "yk919hENEFwL"
   },
   "outputs": [],
   "source": [
    "def merge(merge_pair: tuple[str, str], pair_frequences: Counter[tuple[str, str]], words_by_tokens: Counter[tuple[str]]):\n",
    "    new_token = \"\".join(merge_pair)\n",
    "    new_words = Counter()\n",
    "\n",
    "    # Обновляем токенизацию слов\n",
    "    for word_tokens, count in words_by_tokens.items():\n",
    "        new_word = []\n",
    "        i = 0\n",
    "        while i < len(word_tokens):\n",
    "            if i < len(word_tokens)-1 and (word_tokens[i], word_tokens[i+1]) == merge_pair:\n",
    "                new_word.append(new_token)\n",
    "                i += 2\n",
    "            else:\n",
    "                new_word.append(word_tokens[i])\n",
    "                i += 1\n",
    "        new_words[tuple(new_word)] += count\n",
    "\n",
    "    # Пересчитываем пары\n",
    "    new_pair_freq = Counter()\n",
    "    for word_tokens, count in new_words.items():\n",
    "        for pair in zip(word_tokens[:-1], word_tokens[1:]):\n",
    "            new_pair_freq[pair] += count\n",
    "\n",
    "    return new_pair_freq, new_words\n",
    "\n",
    "def train(data: list[str], vocab_size: int = 1024, special_tokens: list[str] = None):\n",
    "    \"\"\"Train BPE tokenizer on passed data\"\"\"\n",
    "    if vocab_size < 256:\n",
    "        raise ValueError(\"Vocab size can't be less than 256\")\n",
    "    if special_tokens is None:\n",
    "        special_tokens = []\n",
    "\n",
    "    # 1. Initialize vocabulary (using inverse one during training)\n",
    "    id2token = bytes_to_unicode()\n",
    "    merges = []\n",
    "\n",
    "    # 2. Load data\n",
    "    words_by_tokens = Counter()\n",
    "    for sample in tqdm(data, desc=\"Loading data\"):\n",
    "        # 2.1 Split into words\n",
    "        words = WHITESPACE_SPLITTER.findall(sample.strip())\n",
    "        for word in words:\n",
    "            # 2.2 Tokenize with base vocabulary\n",
    "            # Convert word to bytes then to Unicode characters\n",
    "            byte_representation = [id2token[b] for b in word.encode('utf-8')]\n",
    "            words_by_tokens[tuple(byte_representation)] += 1\n",
    "\n",
    "    # 3. Calculate statistic of token's pairs\n",
    "    pair_frequences = Counter()\n",
    "    for word_tokens, count in words_by_tokens.items():\n",
    "        for i in range(len(word_tokens)-1):\n",
    "            pair = (word_tokens[i], word_tokens[i+1])\n",
    "            pair_frequences[pair] += count\n",
    "\n",
    "    # 4. Build vocabulary\n",
    "    pbar = trange(vocab_size, desc=\"Building vocabulary\", initial=len(id2token) + len(special_tokens))\n",
    "    while len(id2token) < vocab_size - len(special_tokens):\n",
    "        if len(pair_frequences) == 0:\n",
    "            print(\"Not enough data to fulfil vocabulary\")\n",
    "            break\n",
    "\n",
    "        # 4.1 Find the most frequent pair and create new token\n",
    "        top_pair, _ = pair_frequences.most_common(1)[0]\n",
    "        new_token = \"\".join(top_pair)\n",
    "        del pair_frequences[top_pair]\n",
    "\n",
    "        # 4.2 Add to vocabulary\n",
    "        if new_token in id2token.values():\n",
    "            continue\n",
    "        id2token[len(id2token)] = new_token\n",
    "        merges.append(top_pair)\n",
    "\n",
    "        # 4.3 Update stats and merge the top pair in all tokens\n",
    "        pair_frequences, words_by_tokens = merge(top_pair, pair_frequences, words_by_tokens)\n",
    "\n",
    "        pbar.update()\n",
    "    pbar.close()\n",
    "\n",
    "    # 5. Add special tokens\n",
    "    for special_token in special_tokens:\n",
    "        id2token[len(id2token)] = special_token\n",
    "\n",
    "    return {v: k for k, v in id2token.items()}, merges"
   ]
  },
  {
   "cell_type": "code",
   "execution_count": 11,
   "metadata": {
    "colab": {
     "base_uri": "https://localhost:8080/",
     "height": 81,
     "referenced_widgets": [
      "4c9c9c33d5bd436fa14823ddf0a278a0",
      "a737284069e9417eba18eef81cfab90f",
      "f790d96bb00c4e42820036e29832e78d",
      "b02d3e242dd64d53b71ac1f4d6ceeb0c",
      "3a83deec3e384b28be2f9708848f9b62",
      "b32991ebfef84bc2a5366250412901fe",
      "13cf04fc9d964096a7339fe60bfa2b06",
      "d98d2b03108946f1aa61a0ff1096d4fe",
      "777d1e1b18ae4dca8f1e29afc69ccaf9",
      "2a065526a12f4c0a9aa3563a5e8a457a",
      "41484c41a60f4d418323b300f3434441",
      "8ddcc7d02ce24b3b89330c59ff5486a7",
      "bc40695429a34002a91f1affe86daf61",
      "0d38071365314138b49e0b9393e37189",
      "31140344e9c747dda06f51bbef76c68e",
      "a17be48c03fe4a499a6a5da6ffb97d0a",
      "6de1174d8a9f496ea2dc869684e5b986",
      "a25e6b4563974610a896088314a6b5e0",
      "8f9ec57d59c043c38e67313f99ee2776",
      "12b0d0bc06f24099b11eec58d91058bc",
      "d3731a79dbc7481e84d51392d4e2b148",
      "9a25a8a5abed4aa3bdf6f909f49bf4fe"
     ]
    },
    "execution": {
     "iopub.status.busy": "2025-03-12T18:18:27.515981Z",
     "iopub.status.idle": "2025-03-12T18:18:27.516213Z",
     "shell.execute_reply": "2025-03-12T18:18:27.516117Z"
    },
    "id": "iLwur-KgK990",
    "outputId": "4ca0357d-325d-49cb-9f3d-0adcc5ef53a3"
   },
   "outputs": [
    {
     "data": {
      "application/vnd.jupyter.widget-view+json": {
       "model_id": "4c9c9c33d5bd436fa14823ddf0a278a0",
       "version_major": 2,
       "version_minor": 0
      },
      "text/plain": [
       "Loading data:   0%|          | 0/135497 [00:00<?, ?it/s]"
      ]
     },
     "metadata": {},
     "output_type": "display_data"
    },
    {
     "data": {
      "application/vnd.jupyter.widget-view+json": {
       "model_id": "8ddcc7d02ce24b3b89330c59ff5486a7",
       "version_major": 2,
       "version_minor": 0
      },
      "text/plain": [
       "Building vocabulary:  25%|##5       | 257/1024 [00:00<?, ?it/s]"
      ]
     },
     "metadata": {},
     "output_type": "display_data"
    }
   ],
   "source": [
    "# Обучаем токенизатор на тренировочных текстах\n",
    "# Для нашей задачи хватит и небольшого словаря, но можете пробовать и большего размера обучить!\n",
    "\n",
    "\n",
    "vocab, merges = train(dataset[\"train\"][\"text\"], vocab_size=1024, special_tokens=[\"[EOS]\"])"
   ]
  },
  {
   "cell_type": "code",
   "execution_count": 12,
   "metadata": {
    "colab": {
     "base_uri": "https://localhost:8080/"
    },
    "execution": {
     "iopub.status.busy": "2025-03-12T18:18:27.518059Z",
     "iopub.status.idle": "2025-03-12T18:18:27.518473Z",
     "shell.execute_reply": "2025-03-12T18:18:27.518283Z"
    },
    "id": "kcsapJUAK990",
    "outputId": "04a3e87d-64d7-4bf7-a7cc-2004b5a9728e"
   },
   "outputs": [
    {
     "name": "stdout",
     "output_type": "stream",
     "text": [
      "Token #512: ' Я'\n",
      "Token #614: ' уже'\n",
      "Token #768: ' Нет'\n",
      "Token #888: ' него'\n",
      "Token #1022: ' голов'\n"
     ]
    }
   ],
   "source": [
    "# Посмотрим на случайные токены\n",
    "\n",
    "random_tokens = [512, 614, 768, 888, 1022]\n",
    "unicode_to_bytes = {v: k for k, v in bytes_to_unicode().items()}\n",
    "for token_id in random_tokens:\n",
    "    token = [k for k, v in vocab.items() if v == token_id][0]\n",
    "    raw_bytes = bytes([unicode_to_bytes[it] for it in token])\n",
    "    print(f\"Token #{token_id}: '{raw_bytes.decode('utf-8', errors='replace')}'\")"
   ]
  },
  {
   "cell_type": "code",
   "execution_count": 13,
   "metadata": {
    "execution": {
     "iopub.status.busy": "2025-03-12T18:18:27.519541Z",
     "iopub.status.idle": "2025-03-12T18:18:27.519933Z",
     "shell.execute_reply": "2025-03-12T18:18:27.519773Z"
    },
    "id": "ugUz7cma1Czs"
   },
   "outputs": [],
   "source": [
    "class ByteLevelBPETokenizer:\n",
    "\n",
    "    def __init__(self, vocab: dict[str, int], merges: list[tuple[str, str]], eos_token: str = \"[EOS]\"):\n",
    "        \"\"\"Byte-Level BPE Tokenizer\n",
    "\n",
    "        Args:\n",
    "            vocab: mapping from string token to id\n",
    "            merges: list of merges in prioritized order\n",
    "            eos_token: string representation of EOS token\n",
    "        \"\"\"\n",
    "        super().__init__()\n",
    "        if eos_token not in vocab:\n",
    "            raise ValueError(\"There is no EOS token in vocab\")\n",
    "        self.byte_encoder = bytes_to_unicode()\n",
    "        self.byte_decoder = {v: k for k, v in self.byte_encoder.items()}\n",
    "        self.token2id = vocab\n",
    "        self.id2token = {v: k for k, v in self.token2id.items()}\n",
    "        self.eos_token = eos_token\n",
    "        self.eos_token_id = self.token2id[eos_token]\n",
    "\n",
    "        # The closer the pair is to the beginning, the higher the rank\n",
    "        self.merges = merges\n",
    "        self.bpe_ranks = {pair: i for i, pair in enumerate(merges)}\n",
    "\n",
    "    @lru_cache\n",
    "    def bpe(self, word: tuple[str]) -> tuple[str]:\n",
    "        \"\"\"Process word into tokenized representation.\n",
    "        Word is a tuple of base tokens, i.e. bytes.\n",
    "\n",
    "        Under the hood:\n",
    "        1. Tracks the set of token pairs, bi-grams\n",
    "        2. While possible, replaces the highest-ranking pair with its union\n",
    "\n",
    "        Args:\n",
    "            word: list of base string tokens\n",
    "        Return:\n",
    "            list of BPE tokens\n",
    "        \"\"\"\n",
    "        pairs = set(zip(word[:-1], word[1:]))\n",
    "        if not pairs:\n",
    "            return word\n",
    "\n",
    "        while True:\n",
    "            min_rank = float('inf')\n",
    "            merge_candidate = None\n",
    "            for pair in pairs:\n",
    "                rank = self.bpe_ranks.get(pair, None)\n",
    "                if rank is not None and rank < min_rank:\n",
    "                    min_rank = rank\n",
    "                    merge_candidate = pair\n",
    "\n",
    "            if merge_candidate is None:\n",
    "                break\n",
    "\n",
    "            first, second = merge_candidate\n",
    "            new_word = []\n",
    "            i = 0\n",
    "            while i < len(word):\n",
    "                try:\n",
    "                    j = word.index(first, i)\n",
    "                    new_word.extend(word[i:j])\n",
    "                    i = j\n",
    "                except ValueError:\n",
    "                    new_word.extend(word[i:])\n",
    "                    break\n",
    "\n",
    "                if i < len(word)-1 and word[i] == first and word[i+1] == second:\n",
    "                    new_word.append(first+second)\n",
    "                    i += 2\n",
    "                else:\n",
    "                    new_word.append(word[i])\n",
    "                    i += 1\n",
    "\n",
    "            word = tuple(new_word)\n",
    "            pairs = set(zip(word[:-1], word[1:]))\n",
    "\n",
    "        return word\n",
    "\n",
    "    def encode(self, text: str, add_eos_token: bool = True) -> list[int]:\n",
    "        \"\"\"Convert string to list of token ids.\n",
    "\n",
    "        Args:\n",
    "            text: input string, may contain multiple words\n",
    "            add_eos_token: whether to add eos token id at the end\n",
    "        Return:\n",
    "            list of ints, ids of tokenized text\n",
    "        \"\"\"\n",
    "        words = WHITESPACE_SPLITTER.findall(text)\n",
    "        token_ids = []\n",
    "        for word in words:\n",
    "            word_bytes = word.encode('utf-8')\n",
    "            encoded_word = tuple(self.byte_encoder[b] for b in word_bytes)\n",
    "            bpe_tokens = self.bpe(encoded_word)\n",
    "            token_ids.extend(self.token2id[token] for token in bpe_tokens)\n",
    "\n",
    "        if add_eos_token:\n",
    "            token_ids.append(self.eos_token_id)\n",
    "\n",
    "        return token_ids\n",
    "\n",
    "    def decode(self, idx: list[int]) -> str:\n",
    "        \"\"\"Convert list of tokens' ids to text, opposite to encode method\n",
    "\n",
    "        Args:\n",
    "            idx: list of tokens' ids\n",
    "        Return:\n",
    "            string, decoded text\n",
    "        \"\"\"\n",
    "        tokens = [self.id2token[i] for i in idx if i != self.eos_token_id]\n",
    "        text_bytes = bytearray()\n",
    "        for token in tokens:\n",
    "            bytes_seq = [self.byte_decoder[c] for c in token]\n",
    "            text_bytes.extend(bytes_seq)\n",
    "        return text_bytes.decode('utf-8', errors='replace')\n",
    "\n",
    "    def push_to_hub(self, repo_id, *, private=None, token=None):\n",
    "        api = HfApi()\n",
    "        repo_id = api.create_repo(repo_id=repo_id, token=token, private=private, exist_ok=True).repo_id\n",
    "\n",
    "        # Push the files to the repo in a single commit\n",
    "        with SoftTemporaryDirectory() as tmp:\n",
    "            save_directory = Path(tmp) / repo_id\n",
    "            save_directory.mkdir(parents=True)\n",
    "            with open(save_directory / \"vocabulary.json\", \"w\") as f_out:\n",
    "                print(json.dumps(self.token2id, indent=2), file=f_out)\n",
    "            with open(save_directory / \"merges.json\", \"w\") as f_out:\n",
    "                print(json.dumps({\"merges\": self.merges}), file=f_out)\n",
    "\n",
    "            return api.upload_folder(repo_id=repo_id, folder_path=save_directory, token=token)\n",
    "\n",
    "    @classmethod\n",
    "    def from_pretrained(cls, pretrained_model_name_or_path, *, token=None, **model_kwargs):\n",
    "        if not os.path.isdir(pretrained_model_name_or_path):\n",
    "            storage_folder = snapshot_download(repo_id=pretrained_model_name_or_path, token=token)\n",
    "        else:\n",
    "            storage_folder = pretrained_model_name_or_path\n",
    "        storage_folder = Path(storage_folder)\n",
    "        with open(storage_folder / \"vocabulary.json\", \"r\") as f_in:\n",
    "            vocab = json.load(f_in)\n",
    "        with open(storage_folder / \"merges.json\", \"r\") as f_in:\n",
    "            merges = [tuple(it) for it in json.load(f_in)[\"merges\"]]\n",
    "        return cls(vocab, merges, **model_kwargs)"
   ]
  },
  {
   "cell_type": "code",
   "execution_count": 14,
   "metadata": {
    "execution": {
     "iopub.status.busy": "2025-03-12T18:18:27.520693Z",
     "iopub.status.idle": "2025-03-12T18:18:27.521055Z",
     "shell.execute_reply": "2025-03-12T18:18:27.520895Z"
    },
    "id": "xRTQzO3wK991"
   },
   "outputs": [],
   "source": [
    "# Инициализируем токенизатор\n",
    "\n",
    "\n",
    "tokenizer = ByteLevelBPETokenizer(vocab, merges)"
   ]
  },
  {
   "cell_type": "code",
   "execution_count": 15,
   "metadata": {
    "colab": {
     "base_uri": "https://localhost:8080/",
     "height": 121
    },
    "execution": {
     "iopub.status.busy": "2025-03-12T18:18:27.522335Z",
     "iopub.status.idle": "2025-03-12T18:18:27.522715Z",
     "shell.execute_reply": "2025-03-12T18:18:27.522543Z"
    },
    "id": "qTHPo1nmPz_8",
    "outputId": "c6629a63-eba4-4831-8eed-f431f001024d"
   },
   "outputs": [
    {
     "name": "stderr",
     "output_type": "stream",
     "text": [
      "No files have been modified since last commit. Skipping to prevent empty commit.\n",
      "WARNING:huggingface_hub.hf_api:No files have been modified since last commit. Skipping to prevent empty commit.\n"
     ]
    },
    {
     "data": {
      "application/vnd.google.colaboratory.intrinsic+json": {
       "type": "string"
      },
      "text/plain": [
       "CommitInfo(commit_url='https://huggingface.co/xinyuema/llm-course-hw1/commit/200e40cee2fc62dfa5c4874f7a29562e44accd56', commit_message='Upload folder using huggingface_hub', commit_description='', oid='200e40cee2fc62dfa5c4874f7a29562e44accd56', pr_url=None, repo_url=RepoUrl('https://huggingface.co/xinyuema/llm-course-hw1', endpoint='https://huggingface.co', repo_type='model', repo_id='xinyuema/llm-course-hw1'), pr_revision=None, pr_num=None)"
      ]
     },
     "execution_count": 15,
     "metadata": {},
     "output_type": "execute_result"
    }
   ],
   "source": [
    "# Загружаем токенизатор на хаб\n",
    "\n",
    "tokenizer.push_to_hub(REPO_NAME)"
   ]
  },
  {
   "cell_type": "code",
   "execution_count": 16,
   "metadata": {
    "colab": {
     "base_uri": "https://localhost:8080/",
     "height": 145,
     "referenced_widgets": [
      "34b9704822024565b76615e4d38cdc3a",
      "6566532e7af841a99f4ec5b8c2de6b05",
      "d69a2bc503804d6a8f243586bb7df40f",
      "025b35349aad44c1adee60d31ddfd761",
      "c078532fc1084a1397ac6b816573fb63",
      "44e1cda9a28743e4a094ce5fc1729354",
      "0b181e12b8b1402eb634eba1c80d7c05",
      "dc09bb3628dd48a49e8646560cfe8ac0",
      "01bcb87a54104ed6b4541b4e50aa0fd1",
      "bed052cfb44b4e3e8365146953b004df",
      "343564049afc4cb28ee2653c98f60d4d",
      "a4e6d505402346e69bfc8e12aea16649",
      "33c4e302e8a94a77bafcec0cf1a85b76",
      "b13b20eebdb74deaa09aa37f7567b78e",
      "11406aecd1b9493282471c69591b7b5f",
      "31d79cfc91ca459190e83f4592fa55d3",
      "17866eb3c4d6453d9039379771878d25",
      "d3779a4404a9461bb64054a40f1466f0",
      "07c39082beab49528135dd81faf434ad",
      "0706324f87924eb1888ea096edfec551",
      "35b7a649f3a042e0827a5c811ae30e33",
      "84bc0098fad94ab4880c10ec17c38f25",
      "1439d184acf9447eae756f5ab1b3bc6c",
      "0e680ddbedcb4778b6bc69984d934835",
      "19671af73f91455cb7edca8741788ab9",
      "6ee97bc6a2074580a8a23ea9ddf2c934",
      "9bbaed3881154bfc86cb4486b3005308",
      "98cbc7c1114b45f389854015c47c3390",
      "665c087b0c814734946b5d10870c1e55",
      "fc7163317b9b409c8159c19abe496b0b",
      "7f5837e2cd27418b89e239502bf70cd9",
      "c70c39f982494d99af5bfd2472e9f49d",
      "d925e0f72e614e128591b4e694bec782",
      "836e0293177f418694e11c1929adecc4",
      "ebcf499ea5644551b0b4e28621323a7d",
      "a3909346bc3c468a9823b2cf39577037",
      "a68ea40c790c4f0e95992f9890e6e43d",
      "d1c34281620a44cd9bdd54d82c4cb46e",
      "9954731ac1444796b98d35a95f60c4f3",
      "4ff2a87dbb46450791ec69ff7ba3d78d",
      "5a99324c0ed84c76a3f8acf4ca42a83b",
      "5836188d4579429c8c14d8b374ca1010",
      "2262494437ad4f5ca62948999a284954",
      "11a852b458a5428aab89cded0a7c962b"
     ]
    },
    "execution": {
     "iopub.status.busy": "2025-03-12T18:18:27.523677Z",
     "iopub.status.idle": "2025-03-12T18:18:27.524046Z",
     "shell.execute_reply": "2025-03-12T18:18:27.523882Z"
    },
    "id": "S9VohtKrK991",
    "outputId": "5552f496-6388-4b48-9fce-83c0f0a7bd1d"
   },
   "outputs": [
    {
     "data": {
      "application/vnd.jupyter.widget-view+json": {
       "model_id": "34b9704822024565b76615e4d38cdc3a",
       "version_major": 2,
       "version_minor": 0
      },
      "text/plain": [
       "Fetching 3 files:   0%|          | 0/3 [00:00<?, ?it/s]"
      ]
     },
     "metadata": {},
     "output_type": "display_data"
    },
    {
     "data": {
      "application/vnd.jupyter.widget-view+json": {
       "model_id": "a4e6d505402346e69bfc8e12aea16649",
       "version_major": 2,
       "version_minor": 0
      },
      "text/plain": [
       ".gitattributes:   0%|          | 0.00/1.52k [00:00<?, ?B/s]"
      ]
     },
     "metadata": {},
     "output_type": "display_data"
    },
    {
     "data": {
      "application/vnd.jupyter.widget-view+json": {
       "model_id": "1439d184acf9447eae756f5ab1b3bc6c",
       "version_major": 2,
       "version_minor": 0
      },
      "text/plain": [
       "vocabulary.json:   0%|          | 0.00/37.7k [00:00<?, ?B/s]"
      ]
     },
     "metadata": {},
     "output_type": "display_data"
    },
    {
     "data": {
      "application/vnd.jupyter.widget-view+json": {
       "model_id": "836e0293177f418694e11c1929adecc4",
       "version_major": 2,
       "version_minor": 0
      },
      "text/plain": [
       "merges.json:   0%|          | 0.00/33.1k [00:00<?, ?B/s]"
      ]
     },
     "metadata": {},
     "output_type": "display_data"
    }
   ],
   "source": [
    "# Скачиваем токенизатор с хаба\n",
    "\n",
    "tokenizer = ByteLevelBPETokenizer.from_pretrained(REPO_NAME)"
   ]
  },
  {
   "cell_type": "code",
   "execution_count": 17,
   "metadata": {
    "colab": {
     "base_uri": "https://localhost:8080/"
    },
    "execution": {
     "iopub.status.busy": "2025-03-12T18:18:27.525026Z",
     "iopub.status.idle": "2025-03-12T18:18:27.525441Z",
     "shell.execute_reply": "2025-03-12T18:18:27.525264Z"
    },
    "id": "MFvf_Q8knPW4",
    "outputId": "fa046e84-703d-4f2e-e60f-010440e4fd1b"
   },
   "outputs": [
    {
     "name": "stdout",
     "output_type": "stream",
     "text": [
      "[795, 282, 755, 481, 350, 305, 258, 276, 337, 358, 63, 357, 302, 362, 257, 330, 617, 769, 419, 634, 658, 782, 406, 44, 481, 350, 305, 258, 276, 337, 358, 398, 361, 339, 336, 865, 277, 323, 316, 338, 272, 380, 345, 316, 372, 503, 349, 279, 350, 391, 264, 259, 46, 1023]\n",
      "Ч|то| было| пол|г|од|а| н|аз|ад|?| П|ом|им|о| г|ран|ди|оз|ных| соб|ыт|ий|,| пол|г|од|а| н|аз|ад| бы|ли| е|щ|ё| с|ем|ин|ар|ы| по| л|ин|ей|ной| а|л|г|еб|р|е|.|\n",
      "Что было полгода назад? Помимо грандиозных событий, полгода назад были ещё семинары по линейной алгебре.\n"
     ]
    }
   ],
   "source": [
    "# Смотрим на работу токенизатора\n",
    "\n",
    "text = \"Что было полгода назад? Помимо грандиозных событий, полгода назад были ещё семинары по линейной алгебре.\"\n",
    "ids = tokenizer.encode(text)\n",
    "print(ids)\n",
    "reverse_text = [tokenizer.decode([it]) for it in ids]\n",
    "print(\"|\".join(reverse_text))\n",
    "print(tokenizer.decode(ids))"
   ]
  },
  {
   "cell_type": "code",
   "execution_count": 18,
   "metadata": {
    "colab": {
     "base_uri": "https://localhost:8080/",
     "height": 84,
     "referenced_widgets": [
      "c692da53253b4625be539834799eda69",
      "89d5bbdf8271494684e2927c9ea07a60",
      "acf565cdb6434b81bd14c0096cfb0b05",
      "4da66ebdc3814c369ca8bcf3554f8387",
      "a91b8952359d4798980480c5182013aa",
      "6a9683b76df4489f823ba49b057d06f1",
      "1aebf4b1b98a47268f7fcc553003cf69",
      "ab7af8bafae84dbfa043898888cad1e3",
      "1bba83a195ce44f2b0cfc9354bb3ae43",
      "d0e104dc66a6445bbe952e79dbf7fb33",
      "46b2fd63aa4a4cae86d9eccdbab167a7"
     ]
    },
    "execution": {
     "iopub.status.busy": "2025-03-12T18:18:27.526157Z",
     "iopub.status.idle": "2025-03-12T18:18:27.526546Z",
     "shell.execute_reply": "2025-03-12T18:18:27.526384Z"
    },
    "id": "_QgpwFYiK991",
    "outputId": "b7ffcc13-7f8c-431c-e03b-11ffc2d68883"
   },
   "outputs": [
    {
     "data": {
      "application/vnd.jupyter.widget-view+json": {
       "model_id": "c692da53253b4625be539834799eda69",
       "version_major": 2,
       "version_minor": 0
      },
      "text/plain": [
       "  0%|          | 0/15056 [00:00<?, ?it/s]"
      ]
     },
     "metadata": {},
     "output_type": "display_data"
    },
    {
     "name": "stdout",
     "output_type": "stream",
     "text": [
      "Average token len per sample: 70.42\n",
      "Minimum and maximum lens are: 5 and 3324\n"
     ]
    }
   ],
   "source": [
    "# Посчитаем немного статистики по токенизации, определимся с размером контекста у модели\n",
    "\n",
    "lens = []\n",
    "for text in tqdm(dataset[\"test\"][\"text\"]):\n",
    "    ids = tokenizer.encode(text)\n",
    "    lens.append(len(ids))\n",
    "\n",
    "print(f\"Average token len per sample: {sum(lens) / len(lens):.2f}\")\n",
    "print(f\"Minimum and maximum lens are: {min(lens)} and {max(lens)}\")"
   ]
  },
  {
   "cell_type": "markdown",
   "metadata": {
    "id": "OwN3mfmznPW5"
   },
   "source": [
    "Должно получиться в среднем по 70 токенов на последовательность.\n",
    "Контекста в 128 токенов будет вполне достаточно."
   ]
  },
  {
   "cell_type": "markdown",
   "metadata": {
    "id": "Ub1FljGXC7I-"
   },
   "source": [
    "# Модель [10 баллов]\n",
    "\n",
    "В качестве модели реализуем трансформер, в котором\n",
    "1. В качестве позиционных эмбеддингов используется ALiBi\n",
    "2. Механизм внимания использует GQA\n",
    "3. В Feed-Forward блоке SwiGLU"
   ]
  },
  {
   "cell_type": "code",
   "execution_count": 19,
   "metadata": {
    "execution": {
     "iopub.status.busy": "2025-03-12T18:18:27.527733Z",
     "iopub.status.idle": "2025-03-12T18:18:27.528049Z",
     "shell.execute_reply": "2025-03-12T18:18:27.527908Z"
    },
    "id": "ipZrCvkmK992"
   },
   "outputs": [],
   "source": [
    "# Для удобства заведем конфиг для модели\n",
    "\n",
    "\n",
    "@dataclass\n",
    "class TransformerConfig:\n",
    "    n_layer: int\n",
    "    n_head: int\n",
    "    n_kv_head: int\n",
    "    hidden_dim: int\n",
    "    intermediate_dim: int\n",
    "    dropout: float = 0.1\n",
    "    vocab_size: int = 1024\n",
    "    max_seq_len: int = 128\n",
    "\n",
    "\n",
    "model_configs = {\n",
    "    \"nano\": TransformerConfig(n_layer=3, n_head=4, n_kv_head=2, hidden_dim=96, intermediate_dim=256),\n",
    "    \"mini\": TransformerConfig(n_layer=6, n_head=6, n_kv_head=3, hidden_dim=384, intermediate_dim=1024),\n",
    "    \"small\": TransformerConfig(n_layer=12, n_head=12, n_kv_head=6, hidden_dim=768, intermediate_dim=2048),\n",
    "}"
   ]
  },
  {
   "cell_type": "code",
   "execution_count": 20,
   "metadata": {
    "execution": {
     "iopub.status.busy": "2025-03-12T18:18:27.528951Z",
     "iopub.status.idle": "2025-03-12T18:18:27.529312Z",
     "shell.execute_reply": "2025-03-12T18:18:27.529165Z"
    },
    "id": "aYXMb5PEDFkt"
   },
   "outputs": [],
   "source": [
    "class RMSNorm(nn.Module):\n",
    "    def __init__(self, dim: int, eps: float = 1e-6):\n",
    "        \"\"\"Root Mean Square Layer Normalization\n",
    "\n",
    "        Args:\n",
    "            dim: Feature dimension\n",
    "            eps: Small constant for numerical stability\n",
    "        \"\"\"\n",
    "        super().__init__()\n",
    "        self.eps = eps\n",
    "        self.scale = nn.Parameter(torch.ones(dim))\n",
    "\n",
    "    def forward(self, x: Tensor) -> Tensor:\n",
    "        rms = torch.sqrt(x.pow(2).mean(-1, keepdim=True) + self.eps)\n",
    "        return self.scale * (x / rms)\n",
    "\n",
    "\n",
    "class CausalSelfAttention(nn.Module):\n",
    "    def __init__(self, config: TransformerConfig):\n",
    "        \"\"\"Causal Self-Attention with support of\n",
    "        Grouped-Query Attention and ALiBi for positional encoding\n",
    "        \"\"\"\n",
    "        super().__init__()\n",
    "        self.config = config\n",
    "        assert self.config.hidden_dim % self.config.n_head == 0\n",
    "        assert self.config.n_head % self.config.n_kv_head == 0\n",
    "        self.head_dim = self.config.hidden_dim // self.config.n_head\n",
    "        self.scale = self.head_dim**-0.5\n",
    "        self.q_per_kv = self.config.n_head // self.config.n_kv_head\n",
    "\n",
    "        # Init projection layers\n",
    "        self.q_proj = nn.Linear(config.hidden_dim, config.n_head * self.head_dim, bias=False)\n",
    "        self.kv_proj = nn.Linear(config.hidden_dim, 2 * config.n_kv_head * self.head_dim, bias=False)\n",
    "        self.out_proj = nn.Linear(config.hidden_dim, config.hidden_dim, bias=False)\n",
    "\n",
    "        self.attn_dropout = nn.Dropout(self.config.dropout)\n",
    "\n",
    "        self.register_buffer(\"causal_mask\", self._create_causal_mask(self.config.max_seq_len))\n",
    "        self.register_buffer(\"alibi\", self._build_alibi_bias(self.config.n_head))\n",
    "\n",
    "    def _build_alibi_bias(self, num_heads: int) -> Tensor:\n",
    "        \"\"\"Build ALiBi for specified number of heads:\n",
    "\n",
    "        Returns:\n",
    "            Tensor with ALiBi biases, shape: [1, num heads, 1, 1]\n",
    "        \"\"\"\n",
    "        return torch.tensor([(2 ** (-i * 8 / num_heads)) for i in range(num_heads)]).view(1, num_heads, 1, 1)\n",
    "\n",
    "    def _create_causal_mask(self, max_seq_len: int) -> Tensor:\n",
    "        \"\"\"Create causal mask with ones where tokens can attend to each other.\n",
    "\n",
    "        Returns:\n",
    "            Tensor with causal mask, shape: [1, 1, seq len, seq len]\n",
    "        \"\"\"\n",
    "        return torch.tril(torch.ones(max_seq_len, max_seq_len)).bool()[None, None]\n",
    "\n",
    "    def forward(self, x: Tensor, attention_mask: Tensor = None) -> Tensor:\n",
    "        \"\"\"Apply Self-Attention to input data with respect to pad tokens.\n",
    "\n",
    "        Args:\n",
    "            x: input tensor, shape [bs, seq len, hidden dim]\n",
    "            attention_mask: mask with zeros for pad tokens, shape [bs, seq len, hidden dim]\n",
    "        Returns:\n",
    "            result tensor, shape [bs, seq len, hidden dim]\n",
    "        \"\"\"\n",
    "        B, T, C = x.size()\n",
    "\n",
    "        q = self.q_proj(x).view(B, T, self.config.n_head, self.head_dim).transpose(1,2)  # [B, n_head, T, head_dim]\n",
    "        kv = self.kv_proj(x).view(B, T, self.config.n_kv_head, 2, self.head_dim)\n",
    "        k, v = kv[..., 0, :], kv[..., 1, :]  # [B, T, n_kv_head, head_dim]\n",
    "        k = k.transpose(1,2)  # [B, n_kv_head, T, head_dim]\n",
    "        v = v.transpose(1,2)  # [B, n_kv_head, T, head_dim]\n",
    "\n",
    "        if self.config.n_kv_head != self.config.n_head:\n",
    "            k = k.repeat_interleave(self.q_per_kv, dim=1)  # [B, n_head, T, head_dim]\n",
    "            v = v.repeat_interleave(self.q_per_kv, dim=1)\n",
    "\n",
    "        attn_scores = (q @ k.transpose(-2, -1)) * self.scale  # [B, n_head, T, T]\n",
    "\n",
    "        position_ids = torch.arange(T, device=x.device)\n",
    "        rel_pos = position_ids[:, None] - position_ids[None]\n",
    "        attn_scores = attn_scores - (self.alibi * rel_pos.unsqueeze(0))\n",
    "\n",
    "        causal_mask = self.causal_mask[:, :, :T, :T]\n",
    "        attn_scores = attn_scores.masked_fill(~causal_mask, float('-inf'))\n",
    "\n",
    "        if attention_mask is not None:\n",
    "            extended_mask = attention_mask[:, None, None, :].to(torch.bool)  # [B, 1, 1, T]\n",
    "            attn_scores = attn_scores.masked_fill(~extended_mask, float('-inf'))\n",
    "\n",
    "        attn_weights = F.softmax(attn_scores, dim=-1)\n",
    "        attn_weights = self.attn_dropout(attn_weights)\n",
    "\n",
    "        attn_output = attn_weights @ v  # [B, n_head, T, head_dim]\n",
    "        attn_output = attn_output.transpose(1,2).contiguous().view(B, T, C)\n",
    "\n",
    "        return self.out_proj(attn_output)\n",
    "\n",
    "\n",
    "class SwiGLU(nn.Module):\n",
    "    def __init__(self, config: TransformerConfig):\n",
    "        \"\"\"Gated Liner Unit with Swish Activation\"\"\"\n",
    "        super().__init__()\n",
    "        self.config = config\n",
    "        self.fc1 = nn.Linear(config.hidden_dim, 2 * config.intermediate_dim)\n",
    "        self.fc2 = nn.Linear(config.intermediate_dim, config.hidden_dim)\n",
    "\n",
    "    def forward(self, x: Tensor) -> Tensor:\n",
    "        \"\"\"Apply SwiGLU to input data.\n",
    "\n",
    "        Args:\n",
    "            x: input tensor, shape [bs, seq len, hidden dim]\n",
    "        Returns:\n",
    "            result tensor, shape [bs, seq len, hidden dim]\n",
    "        \"\"\"\n",
    "        x_proj, gate = self.fc1(x).chunk(2, dim=-1)\n",
    "        return self.fc2(gate * torch.sigmoid(gate) * x_proj)\n",
    "\n",
    "\n",
    "class Block(nn.Module):\n",
    "    def __init__(self, config: TransformerConfig):\n",
    "        \"\"\"Base Transformer Block\n",
    "        - Causal Self-Attention and SwiGLU as main elements\n",
    "        - Pre-normalization via RMSNorm\n",
    "        - Regularization with dropouts before residuals\n",
    "        \"\"\"\n",
    "        super().__init__()\n",
    "        self.ln_1 = RMSNorm(config.hidden_dim)\n",
    "        self.res_dropout_1 = nn.Dropout(config.dropout)\n",
    "        self.attn = CausalSelfAttention(config)\n",
    "\n",
    "        self.ln_2 = RMSNorm(config.hidden_dim)\n",
    "        self.res_dropout_2 = nn.Dropout(config.dropout)\n",
    "        self.mlp = SwiGLU(config)\n",
    "\n",
    "    def forward(self, x: Tensor, attention_mask: Tensor = None) -> Tensor:\n",
    "        \"\"\"Apply Transformer Block to input data.\n",
    "\n",
    "        Args:\n",
    "            x: input tensor, shape [bs, seq len, hidden dim]\n",
    "            attention_mask: mask with zeros for pad tokens, shape [bs, seq len, hidden dim]\n",
    "        Returns:\n",
    "            result tensor, shape [bs, seq len, hidden dim]\n",
    "        \"\"\"\n",
    "        x_residual = x\n",
    "        x = self.ln_1(x)\n",
    "        x = self.attn(x, attention_mask=attention_mask)\n",
    "        x = self.res_dropout_1(x)\n",
    "        x = x + x_residual\n",
    "\n",
    "        # MLP Block with pre-norm and residual\n",
    "        x_residual = x\n",
    "        x = self.ln_2(x)\n",
    "        x = self.mlp(x)\n",
    "        x = self.res_dropout_2(x)\n",
    "        x = x + x_residual\n",
    "\n",
    "        return x\n",
    "\n",
    "\n",
    "class TransformerForCausalLM(nn.Module, PyTorchModelHubMixin):\n",
    "    def __init__(self, config: TransformerConfig):\n",
    "        \"\"\"Transformer model for Language Modeling\"\"\"\n",
    "        super().__init__()\n",
    "        self.vocab_size = config.vocab_size\n",
    "        self.max_seq_len = config.max_seq_len\n",
    "        self.n_layer = config.n_layer\n",
    "        self.n_head = config.n_head\n",
    "        self.hidden_dim = config.hidden_dim\n",
    "        self.dropout = config.dropout\n",
    "\n",
    "        self.token_emb = nn.Embedding(config.vocab_size, config.hidden_dim)\n",
    "        self.emb_dropout = nn.Dropout(config.dropout)\n",
    "        self.layers = nn.ModuleList([Block(config) for _ in range(config.n_layer)])\n",
    "        self.ln_final = RMSNorm(config.hidden_dim)\n",
    "        self.lm_head = nn.Linear(config.hidden_dim, config.vocab_size, bias=False)\n",
    "\n",
    "        self.apply(self._init_weights)\n",
    "\n",
    "        n_params = sum(p.numel() for p in self.parameters())\n",
    "        print(f\"Number of parameters: {n_params / 1e6:.2f}M\")\n",
    "\n",
    "    def _init_weights(self, module):\n",
    "        if isinstance(module, nn.Linear):\n",
    "            torch.nn.init.normal_(module.weight, mean=0.0, std=0.02)\n",
    "            if module.bias is not None:\n",
    "                torch.nn.init.zeros_(module.bias)\n",
    "        elif isinstance(module, nn.Embedding):\n",
    "            torch.nn.init.normal_(module.weight, mean=0.0, std=0.02)\n",
    "        elif isinstance(module, RMSNorm):\n",
    "            torch.nn.init.ones_(module.scale)\n",
    "\n",
    "    def forward(self, input_ids: torch.Tensor, attention_mask: torch.Tensor = None) -> Tensor:\n",
    "        \"\"\"Calculate logits for given input ids.\n",
    "\n",
    "        Args:\n",
    "            x: input tensor, shape [bs, seq len, hidden dim]\n",
    "            attention_mask: mask with zeros for pad tokens, shape [bs, seq len, hidden dim]\n",
    "        Returns:\n",
    "            logits, shape [bs, seq len, hidden dim]\n",
    "        \"\"\"\n",
    "        x = self.token_emb(input_ids)  # [B, T, hidden_dim]\n",
    "        x = self.emb_dropout(x)\n",
    "\n",
    "        for layer in self.layers:\n",
    "            x = layer(x, attention_mask=attention_mask)\n",
    "\n",
    "        x = self.ln_final(x)\n",
    "        logits = self.lm_head(x)\n",
    "\n",
    "        return logits\n",
    "\n",
    "    @torch.inference_mode()\n",
    "    def generate(\n",
    "        self, idx: Tensor, max_new_tokens, eos_token_id, temperature=1.0, do_sample=False, top_k=None\n",
    "    ) -> Tensor:\n",
    "        \"\"\"Take a conditioning sequence of indices and complete the sequence max_new_tokens times,\n",
    "        feeding the predictions back into the model each time.\n",
    "\n",
    "        Args:\n",
    "            idx: tensor with conditional tokens, shape [seq len]\n",
    "            max_new_tokens: maximum number of new tokens\n",
    "            eos_token_id: index of EOS token to stop generation\n",
    "            temperature, do_sample, top_k: generation parameters\n",
    "        Return:\n",
    "            tensor with generated indexes\n",
    "        \"\"\"\n",
    "        for _ in range(max_new_tokens):\n",
    "            idx_cond = idx if idx.shape[1] <= self.max_seq_len else idx[:, -self.max_seq_len :]\n",
    "            logits = self(idx_cond)\n",
    "            logits = logits[:, -1, :] / temperature  # [bs, vocab_size]\n",
    "            if top_k is not None:\n",
    "                v, _ = torch.topk(logits, top_k)\n",
    "                mask = logits < v[:, [-1]]\n",
    "                logits[mask] = -float(\"inf\")\n",
    "\n",
    "            probs = F.softmax(logits, dim=-1)  # [bs, vocab_size]\n",
    "\n",
    "            if do_sample:\n",
    "                idx_next = torch.multinomial(probs, num_samples=1)  # [bs, 1]\n",
    "            else:\n",
    "                idx_next = torch.argmax(probs,dim=-1, keepdim=True)  # [bs, 1]\n",
    "\n",
    "            idx = torch.cat((idx, idx_next), dim=1)\n",
    "            if idx_next == eos_token_id:\n",
    "                break\n",
    "        return idx"
   ]
  },
  {
   "cell_type": "markdown",
   "metadata": {
    "id": "IhdavMmSDujw"
   },
   "source": [
    "# Train Loop [2 + 2 балла]\n",
    "\n",
    "Настало время обучать модель.\n",
    "Небольшую можно пробовать обучать локально, но лучше всего воспользоваться GPU, например, на Google Colab.\n",
    "\n",
    "За реализацию 2 балла, и еще 2 балла - если модель научилась генерить анекдоты.\n",
    "\n",
    "Не забудьте проверить, что вы загрузили нужные веса на HF и у проверяющего скачается нужная версия."
   ]
  },
  {
   "cell_type": "code",
   "execution_count": 21,
   "metadata": {
    "colab": {
     "base_uri": "https://localhost:8080/"
    },
    "execution": {
     "iopub.status.busy": "2025-03-12T18:18:27.529944Z",
     "iopub.status.idle": "2025-03-12T18:18:27.530199Z",
     "shell.execute_reply": "2025-03-12T18:18:27.530085Z"
    },
    "id": "1wtAiR_aDxed",
    "outputId": "2865d758-207b-46eb-cba0-772fa063836f"
   },
   "outputs": [
    {
     "name": "stdout",
     "output_type": "stream",
     "text": [
      "Batch #0\n",
      "tensor([[ 753,  347,  281,   33, 1023, 1023, 1023, 1023],\n",
      "        [ 530,  304, 1012,  261,  577,  258,   63, 1023]])\n",
      "\n",
      "tensor([[1., 1., 1., 1., 1., 0., 0., 0.],\n",
      "        [1., 1., 1., 1., 1., 1., 1., 1.]])\n",
      "Batch #1\n",
      "tensor([[ 496,  294,  298,  645,  827,  263,  323,  276,  323,  531,  693,  598,\n",
      "          881, 1023]])\n",
      "\n",
      "tensor([[1., 1., 1., 1., 1., 1., 1., 1., 1., 1., 1., 1., 1., 1.]])\n"
     ]
    }
   ],
   "source": [
    "# Определим датасет и как заворачивать семплы в батч\n",
    "# Разные тексты имеют разную длину, поэтому будет падить до самого длина семпла\n",
    "# Так же заведем дополнительную маску, чтобы механизм внимания не учитывал падинги\n",
    "\n",
    "\n",
    "class TextDataset(torch.utils.data.Dataset):\n",
    "    def __init__(self, texts, tokenizer):\n",
    "        self.texts = texts\n",
    "        self.tokenizer = tokenizer\n",
    "\n",
    "    def __len__(self):\n",
    "        return len(self.texts)\n",
    "\n",
    "    def __getitem__(self, idx):\n",
    "        texts = self.texts[idx]\n",
    "        tokenized_sequence = self.tokenizer.encode(texts)\n",
    "        return tokenized_sequence\n",
    "\n",
    "\n",
    "def data_collator(\n",
    "    tokenized_sequences: list[list[int]], pad_token_id: int, max_seq_len: int = None\n",
    ") -> tuple[torch.Tensor, torch.Tensor]:\n",
    "    batch_size = len(tokenized_sequences)\n",
    "    max_batch_seq_len = min(max_seq_len, max((len(it) for it in tokenized_sequences)))\n",
    "\n",
    "    input_ids = torch.full((batch_size, max_batch_seq_len), pad_token_id)\n",
    "    attention_mask = torch.zeros((batch_size, max_batch_seq_len))\n",
    "\n",
    "    for i, tok_seq in enumerate(tokenized_sequences):\n",
    "        cur_len = min(len(tok_seq), max_batch_seq_len)\n",
    "        input_ids[i, :cur_len] = torch.tensor(tok_seq[:cur_len])\n",
    "        attention_mask[i, :cur_len] = 1\n",
    "\n",
    "    return input_ids, attention_mask\n",
    "\n",
    "\n",
    "def create_dataloader(dataset, pad_token_id, max_seq_len, batch_size, is_train):\n",
    "    collate_fn = partial(data_collator, pad_token_id=pad_token_id, max_seq_len=max_seq_len)\n",
    "    return DataLoader(\n",
    "        dataset, batch_size=batch_size, shuffle=is_train, drop_last=is_train, collate_fn=collate_fn, pin_memory=True\n",
    "    )\n",
    "\n",
    "\n",
    "_d = TextDataset([\"Привет!\", \"Как твои дела?\", \"Осталось совсем немного до конца\"], tokenizer)\n",
    "_dl = create_dataloader(_d, tokenizer.eos_token_id, max_seq_len=16, batch_size=2, is_train=False)\n",
    "\n",
    "for i, batch in enumerate(_dl):\n",
    "    print(f\"Batch #{i}\")\n",
    "    input_ids, attn_mask = batch\n",
    "    print(input_ids, attn_mask, sep=\"\\n\\n\")"
   ]
  },
  {
   "cell_type": "code",
   "execution_count": 22,
   "metadata": {
    "execution": {
     "iopub.status.busy": "2025-03-12T18:18:27.530765Z",
     "iopub.status.idle": "2025-03-12T18:18:27.531122Z",
     "shell.execute_reply": "2025-03-12T18:18:27.530952Z"
    },
    "id": "i719AOdQK993"
   },
   "outputs": [],
   "source": [
    "def get_linear_schedule_with_warmup(optimizer, num_warmup_steps, num_training_steps):\n",
    "    \"\"\"Scheduler for Optimizer with linear warmup and linear decay to the end of training\n",
    "\n",
    "    Args:\n",
    "        optimizer: torch optimizer to control learning rate\n",
    "        num_warmup_steps: number of warmup steps\n",
    "        num_training_steps: total number of training steps\n",
    "    Return:\n",
    "        torch learning rate scheduler\n",
    "    \"\"\"\n",
    "    assert num_training_steps >= num_warmup_steps\n",
    "\n",
    "    def lr_lambda(current_step):\n",
    "        if current_step < num_warmup_steps:\n",
    "            return float(current_step) / max(1, num_warmup_steps)\n",
    "        else:\n",
    "            return max(\n",
    "                0.0,\n",
    "                float(num_training_steps - current_step) / max(1, num_training_steps - num_warmup_steps)\n",
    "            )\n",
    "\n",
    "    return torch.optim.lr_scheduler.LambdaLR(optimizer, lr_lambda)\n",
    "\n",
    "\n",
    "def cross_entropy_loss(input_ids: Tensor, attention_mask: Tensor, logits: Tensor) -> Tensor:\n",
    "    \"\"\"Calculate Cross-Entropy loss for Language Modeling task\n",
    "    Under the hood:\n",
    "    1. Create targtes based on input ids\n",
    "    2. Masked out tokens corresponded to paddings\n",
    "    3. Calculate cross entropy loss\n",
    "\n",
    "    Args:\n",
    "        input_ids: tensor with input ids, shape [bs, seq len]\n",
    "        attention_mask: mask with zeros for pad tokens, shape [bs, seq len]\n",
    "        logits: predicted logits, shape [bs, seq len, vocab size]\n",
    "    Return:\n",
    "        cross entropy loss, single-item tensor\n",
    "    \"\"\"\n",
    "    shift_logits = logits[:, :-1, :].contiguous()\n",
    "    shift_targets = input_ids[:, 1:].contiguous()\n",
    "    shift_mask = attention_mask[:, 1:].contiguous()\n",
    "\n",
    "    loss_fct = nn.CrossEntropyLoss(reduction='none') # no reduction yet\n",
    "    loss = loss_fct(shift_logits.view(-1, logits.size(-1)), shift_targets.view(-1))\n",
    "    loss = loss.view(shift_targets.size())\n",
    "\n",
    "    loss = loss * shift_mask\n",
    "    loss = loss.sum() / shift_mask.sum()\n",
    "    return loss"
   ]
  },
  {
   "cell_type": "code",
   "execution_count": 23,
   "metadata": {
    "execution": {
     "iopub.status.busy": "2025-03-12T18:18:27.532148Z",
     "iopub.status.idle": "2025-03-12T18:18:27.532443Z",
     "shell.execute_reply": "2025-03-12T18:18:27.532335Z"
    },
    "id": "SPYdF52zXtoX"
   },
   "outputs": [],
   "source": [
    "# Определим тренера с наиболее важными гиперпараметрами для обучения\n",
    "\n",
    "\n",
    "class Trainer:\n",
    "\n",
    "    def __init__(\n",
    "        self,\n",
    "        learning_rate=3e-4,\n",
    "        weight_decay=0.01,\n",
    "        clip_grad_norm=1.0,\n",
    "        n_steps=10_000,\n",
    "        val_every_n_steps=1_000,\n",
    "        plot_every_n_steps=100,\n",
    "    ):\n",
    "        self.learning_rate = learning_rate\n",
    "        self.weight_decay = weight_decay\n",
    "        self.clip_grad_norm = clip_grad_norm\n",
    "        self.n_steps = n_steps\n",
    "        self.val_every_n_steps = val_every_n_steps\n",
    "        self.plot_every_n_steps = plot_every_n_steps\n",
    "\n",
    "        if torch.cuda.is_available():\n",
    "            self.device = \"cuda\"\n",
    "        elif torch.backends.mps.is_available():\n",
    "            self.device = \"mps\"\n",
    "        else:\n",
    "            self.device = \"cpu\"\n",
    "        print(\"running on device\", self.device)\n",
    "\n",
    "    @torch.no_grad()\n",
    "    def validate(self, model, val_loader):\n",
    "        model.eval()\n",
    "        val_loss = 0.0\n",
    "        for batch in tqdm(val_loader, desc=\"Validating\", leave=False):\n",
    "            input_ids, attention_mask = batch\n",
    "            input_ids = input_ids.to(self.device, non_blocking=True)\n",
    "            attention_mask = attention_mask.to(self.device, non_blocking=True)\n",
    "\n",
    "            logits = model(input_ids, attention_mask)  # [bs; seq len; vocab size]\n",
    "            val_loss += cross_entropy_loss(input_ids, attention_mask, logits)\n",
    "        return val_loss / len(val_loader)\n",
    "\n",
    "    def run(self, model, train_loader, val_loader):\n",
    "        model = model.to(self.device)\n",
    "        optimizer = torch.optim.AdamW(model.parameters(), lr=self.learning_rate, weight_decay=self.weight_decay)\n",
    "        scheduler = get_linear_schedule_with_warmup(\n",
    "            optimizer, num_warmup_steps=0.1 * self.n_steps, num_training_steps=self.n_steps\n",
    "        )\n",
    "        model.train()\n",
    "\n",
    "        plotlosses = PlotLosses(figsize=(15, 9), step_names=\"Step\")\n",
    "        logs = {\"lr\": 0, \"epoch\": 0}\n",
    "\n",
    "        data_iter = iter(train_loader)\n",
    "        for iter_num in range(self.n_steps):\n",
    "            try:\n",
    "                batch = next(data_iter)\n",
    "            except StopIteration:\n",
    "                data_iter = iter(train_loader)\n",
    "                logs[\"epoch\"] += 1\n",
    "                batch = next(data_iter)\n",
    "\n",
    "            input_ids, attention_mask = batch\n",
    "            input_ids = input_ids.to(self.device, non_blocking=True)\n",
    "            attention_mask = attention_mask.to(self.device, non_blocking=True)\n",
    "\n",
    "            logits = model(input_ids, attention_mask)  # [bs; seq len; vocab size]\n",
    "            loss = cross_entropy_loss(input_ids, attention_mask, logits)\n",
    "\n",
    "            # backprop and update the parameters\n",
    "            model.zero_grad(set_to_none=True)\n",
    "            loss.backward()\n",
    "            torch.nn.utils.clip_grad_norm_(model.parameters(), self.clip_grad_norm)\n",
    "            optimizer.step()\n",
    "            scheduler.step()\n",
    "\n",
    "            if iter_num > 0 and iter_num % self.val_every_n_steps == 0:\n",
    "                val_loss = self.validate(model, val_loader)\n",
    "                plotlosses.update({\"val_loss\": val_loss.item()}, current_step=iter_num)\n",
    "                plotlosses.send()\n",
    "                model.train()\n",
    "\n",
    "            if iter_num % self.plot_every_n_steps == 0:\n",
    "                logs[\"loss\"] = loss.item()\n",
    "                logs[\"lr\"] = scheduler.get_last_lr()[0]\n",
    "                plotlosses.update(logs, current_step=iter_num)\n",
    "                plotlosses.send()\n",
    "\n",
    "        val_loss = self.validate(model, val_loader)\n",
    "        plotlosses.update({\"val_loss\": val_loss.item()}, current_step=iter_num)\n",
    "        plotlosses.send()"
   ]
  },
  {
   "cell_type": "code",
   "execution_count": 24,
   "metadata": {
    "execution": {
     "iopub.status.busy": "2025-03-12T18:18:27.533172Z",
     "iopub.status.idle": "2025-03-12T18:18:27.533528Z",
     "shell.execute_reply": "2025-03-12T18:18:27.533376Z"
    },
    "id": "yK1BpJflMTAi"
   },
   "outputs": [],
   "source": [
    "# Создаем тренировочный и тестовые даталоадеры\n",
    "\n",
    "\n",
    "MAX_SEQ_LEN = 128\n",
    "BATCH_SIZE = 16\n",
    "\n",
    "train_dataset = TextDataset(dataset[\"train\"][\"text\"], tokenizer)\n",
    "train_dataloader = create_dataloader(\n",
    "    train_dataset, tokenizer.eos_token_id, max_seq_len=MAX_SEQ_LEN, batch_size=BATCH_SIZE, is_train=True\n",
    ")\n",
    "\n",
    "test_dataset = TextDataset(dataset[\"test\"][\"text\"], tokenizer)\n",
    "test_dataloader = create_dataloader(\n",
    "    test_dataset, tokenizer.eos_token_id, max_seq_len=MAX_SEQ_LEN, batch_size=BATCH_SIZE, is_train=False\n",
    ")"
   ]
  },
  {
   "cell_type": "code",
   "execution_count": 25,
   "metadata": {
    "colab": {
     "base_uri": "https://localhost:8080/"
    },
    "execution": {
     "iopub.status.busy": "2025-03-12T18:18:27.534391Z",
     "iopub.status.idle": "2025-03-12T18:18:27.534631Z",
     "shell.execute_reply": "2025-03-12T18:18:27.534529Z"
    },
    "id": "53jHSgMZECGl",
    "outputId": "c81af750-870c-4938-cd40-9c893615e37e"
   },
   "outputs": [
    {
     "name": "stdout",
     "output_type": "stream",
     "text": [
      "Number of parameters: 79.51M\n"
     ]
    }
   ],
   "source": [
    "# Инициализируем модель\n",
    "\n",
    "config = model_configs[\"small\"]\n",
    "model = TransformerForCausalLM(config)"
   ]
  },
  {
   "cell_type": "code",
   "execution_count": 26,
   "metadata": {
    "colab": {
     "base_uri": "https://localhost:8080/"
    },
    "execution": {
     "iopub.status.busy": "2025-03-12T18:18:27.535451Z",
     "iopub.status.idle": "2025-03-12T18:18:27.535788Z",
     "shell.execute_reply": "2025-03-12T18:18:27.535641Z"
    },
    "id": "uMUsjHl4Nkoa",
    "outputId": "1beb1f74-8d27-40e2-8475-8c1bd3d5359a"
   },
   "outputs": [
    {
     "name": "stdout",
     "output_type": "stream",
     "text": [
      "running on device cuda\n"
     ]
    }
   ],
   "source": [
    "# Инициализируем тренера\n",
    "\n",
    "trainer = Trainer(learning_rate=3e-4)"
   ]
  },
  {
   "cell_type": "code",
   "execution_count": 27,
   "metadata": {
    "colab": {
     "base_uri": "https://localhost:8080/",
     "height": 780,
     "referenced_widgets": [
      "2e50701455ff42c4a77659bdc510968b",
      "ae6a7248038b4fd9a52287cc26ea5cd6",
      "85417a438b7b4a7484a3f8734dfa4ee5",
      "b3812adcdfdc43bbb19c1c706bc2a7de",
      "2cc0b7551e1d41e59d69c74a0fc567b5",
      "05c58b3d9d6842e0ad967f2dc1c053db",
      "d9f18e96ce61487ea7e8a124b663e907",
      "ad8b107377084f8d9e3b0b56550afb11",
      "4b8239f400c04a37ba059ee6ed05f645",
      "c4ee2e055a6f4ae0b3050a8ae0311a4e",
      "6c70baefafb04a00a91cf60da11f74fd",
      "dd603fbbf7e643cf85905e1fad46adab",
      "63b7ecf54d4f4318a05c1df616cbf090",
      "23a0ff2c6d8a44478201e7d7f41181e0",
      "ddf14bd09b4649ed80cec8f399ad5aa8",
      "1ed74e4468824167b593f677a5c7eb16",
      "4040c216bf774d359274622067ffaf0c",
      "10e18ea41ee448398523eac706edbe41",
      "09c36f6a4f414d0bb2ef0ce0c5f7c782",
      "433336d4671d47cbbe5b3f94387ad3a1",
      "d858b60b703d49bd931068cb074cc888",
      "7cd73946363e412585f36dde5e72aed2",
      "17e3d27aa4d940089028ee43679f681b",
      "c15587754ef940349faad4732d938197",
      "3f1e021f99e44fef90fb7da2e3d8477c",
      "4f2ce74767f848aa902d12380ceae00c",
      "d7780eb5708e438ab52b158206355d0f",
      "606ad508a4fa467986174fc8ed22f8f6",
      "9d63f9ca7ca6497e95fce819be649f57",
      "9c8f5a56cf10409ebc34f6adfeaa7e13",
      "a82c8ea368f24664918cd57989fae5cc",
      "1545067bd0624e728dd07b100c4a8b6e",
      "5fc81d2516114005bfd23ac01ecca393",
      "55c6b0c5930f4178868d9314436cedd1",
      "b1b386c0b52943aa9c82c14bdd0051fc",
      "feab0a6467d44012ba64ea453fbaa6ec",
      "80c4d266984e47f19c954c375490b4e9",
      "8263a1fd0154493dbae0a4f0bb382dc8",
      "fb195d50dfb04cdf996a0fd5e81264e6",
      "f9d3347893394e9990f7a6be2828a286",
      "2de2328bf4204807a5f1bfd227348b7d",
      "04609c42b18a4719b489de4bb58346af",
      "193fa7726d544335ae8d0c7e6af505c2",
      "4402d4ee823c4d13a5869f12df951fd2",
      "bf55b3167ffe4032875579af716304d2",
      "7ac4c17810d94659afbecafaf5d4aed7",
      "029c8beea0834fd28b25809a0daf612f",
      "a5318e3e1952431ba6fffa1275408e30",
      "8178220f95384cc79c1d4aa97fa9e9fa",
      "f3d5bfa5489541adabb91ff76fa5dc61",
      "d05e9cf3bc9c4aa1b19cfe8c82429dc4",
      "572c8b029fa649b0bbe0de60eb8b21a9",
      "cf3efebc4134475c9fad1407b5e76c78",
      "5e8cf3540e18461b99ea80e0f327efb7",
      "709faff8848c42b5a36d6f423262f6d1",
      "d3be3fdd3d4443c2b259c493a42d43cb",
      "d4da197a77ec4f0fbbdadaec0a831c37",
      "39aa32339f2a4b878b6cb4f31fff27f4",
      "44c6d98c927f4b76acd80023436eca83",
      "57325590690c44fc967abdec34794d09",
      "161bcc938f094b5c92157108e452b0d9",
      "ba3c1db318b949b2b6b064529f1ea9c4",
      "820da5240298452da53c40d837130ea2",
      "f4d32d9688494a029dd14506ea332b75",
      "4f53cc083348449084ff5f93237a9dd9",
      "4169c3bcda524a599f92559788f0e438",
      "cfca281d77144a628c3982b86125745d",
      "96d8f1b2bf9141b5a43f32e3ccd1f8bb",
      "d929645d12ab4064934387b7469da22a",
      "0b1e3ca1ac4b493b809db8ed9277d479",
      "c432725f2e8642fa9ac576585cdc0b92",
      "de040ce5315c4a74a4d60a908099b1fb",
      "cc4870f83bbe452aa0810d867ee13a8c",
      "8c6992832d2445e98de2e37ef541758e",
      "5ddad762a58940588df15cdd92627c23",
      "897e8c97deee471ea1164b4308e87eca",
      "406603bf2bbb4e5e83fecef4c4330661",
      "1773c77383084590bb8300d45a42e896",
      "d8cbc64d46b84cad9b09d14b855a1cde",
      "536dda578b734a50bf0cb5e8862c1800",
      "ba34e5fba2a1439a85fc959ebd29d94f",
      "9ab73ba42f744d9b9cf49b420d4c87ba",
      "da52afaa4cf64f9e9c990e5d34924753",
      "df95002b2e214902b9c1a11ce383817d",
      "d862b7c25edd4d1ab76a017d0d18005b",
      "45ca9985a40a43cbb9b3890c963e8555",
      "3a97aaa0aec341f08a8bbfcb27117c73",
      "f194f905601d40b4a26ae75d23feaed2",
      "e181f91175ca4cd38a2c57776c0c2f16",
      "7c982dfd43ba4798aef7f645690a2b49",
      "ba16bf9628cb4280b8f794c98377bd12",
      "ada4b151adc6493496217fa5de2db2b7",
      "f64742bf2d69414a81d5bf3907785bdf",
      "654f22fa51194c8fb7868088c9833d25",
      "788cf52ffa2249d1a07748021a30fd2c",
      "57483dd8002740dd82bcda47dd538321",
      "9bfc417b69e14e779b22a23f36393283",
      "531f7a2200b94e1ba68f6af541143a75",
      "080c769c33b24cd7a90ce0b73f51f449",
      "8929508b40a84e0993ce8b93ef28f237",
      "5ae7f5a55fa94d8cb8e72ee74a6e5ae5",
      "f4f04bafecbf4042b96c07b33fe26fa7",
      "6f5ae9a1dc9e4796baeac5d080a3c62d",
      "1a7f7509a4f74e96be9b19dc045f4b15",
      "4dcb721a4029482bb2bc303bde23bc7a",
      "fcedca9a636b457eaec254daf17e8cba",
      "68813d156ce34898911b4a1be8d0af90",
      "d9f1b77480b84eac819c547d5c4d7ec0",
      "cc0a79d0f1a14b819176df77d0562238",
      "a2698e938f1c4e98a066cd5ba5af0e40"
     ]
    },
    "execution": {
     "iopub.status.busy": "2025-03-12T18:18:27.536393Z",
     "iopub.status.idle": "2025-03-12T18:18:27.536750Z",
     "shell.execute_reply": "2025-03-12T18:18:27.536599Z"
    },
    "id": "wMIJHfoj3mWr",
    "outputId": "45d7917d-1eec-4a4e-d7fc-38c4c0244e44"
   },
   "outputs": [
    {
     "data": {
      "image/png": "[encoded data removed]",
      "text/plain": [
       "<Figure size 1500x900 with 4 Axes>"
      ]
     },
     "metadata": {},
     "output_type": "display_data"
    },
    {
     "name": "stdout",
     "output_type": "stream",
     "text": [
      "epoch\n",
      "\tepoch            \t (min:    0.000, max:    1.000, cur:    1.000)\n",
      "Loss\n",
      "\ttraining         \t (min:    2.467, max:    7.088, cur:    2.570)\n",
      "\tvalidation       \t (min:    2.705, max:    3.881, cur:    2.705)\n",
      "lr\n",
      "\tlr               \t (min:    0.000, max:    0.000, cur:    0.000)\n"
     ]
    }
   ],
   "source": [
    "# Обучение goes brrrr!\n",
    "\n",
    "trainer.run(model, train_dataloader, test_dataloader)"
   ]
  },
  {
   "cell_type": "code",
   "execution_count": 28,
   "metadata": {
    "colab": {
     "base_uri": "https://localhost:8080/",
     "height": 53
    },
    "execution": {
     "iopub.status.busy": "2025-03-12T18:18:27.538818Z",
     "iopub.status.idle": "2025-03-12T18:18:27.539214Z",
     "shell.execute_reply": "2025-03-12T18:18:27.539043Z"
    },
    "id": "94zNDLEqdQow",
    "outputId": "e37974a2-1802-443b-c0dc-1559e9611fa0"
   },
   "outputs": [
    {
     "name": "stdout",
     "output_type": "stream",
     "text": [
      "tensor([[730, 258, 620, 275, 303, 338]], device='cuda:0')\n"
     ]
    },
    {
     "data": {
      "application/vnd.google.colaboratory.intrinsic+json": {
       "type": "string"
      },
      "text/plain": [
       "'Заходит в бар, встает и говорит жене:- Спасибо, доктор, я буду жить в месяц!- А какой я тебя пить?'"
      ]
     },
     "execution_count": 28,
     "metadata": {},
     "output_type": "execute_result"
    }
   ],
   "source": [
    "# Смотрим на качество генерации глазами\n",
    "# Для маленьких и слабых моделей \"затягиваем\" гайки генерации\n",
    "\n",
    "text = \"Заходит в бар\"\n",
    "input_ids = torch.tensor(tokenizer.encode(text)[:-1], device=trainer.device)[None, :]\n",
    "print(input_ids)\n",
    "model_output = model.generate(\n",
    "    input_ids, max_new_tokens=200, eos_token_id=tokenizer.eos_token_id, do_sample=True, top_k=10\n",
    ")\n",
    "tokenizer.decode(model_output[0].tolist())"
   ]
  },
  {
   "cell_type": "code",
   "execution_count": 29,
   "metadata": {
    "colab": {
     "base_uri": "https://localhost:8080/",
     "height": 87
    },
    "execution": {
     "iopub.status.busy": "2025-03-12T18:18:27.539982Z",
     "iopub.status.idle": "2025-03-12T18:18:27.540379Z",
     "shell.execute_reply": "2025-03-12T18:18:27.540190Z"
    },
    "id": "MdSAnpk-7DAG",
    "outputId": "8d9c6e49-8e3b-4a6f-92fa-10187f923147"
   },
   "outputs": [
    {
     "name": "stdout",
     "output_type": "stream",
     "text": [
      "tensor([[730, 258, 620, 275, 303, 338]], device='cuda:0')\n"
     ]
    },
    {
     "data": {
      "application/vnd.google.colaboratory.intrinsic+json": {
       "type": "string"
      },
      "text/plain": [
       "'Заходит в бар в ресторан, а там - американская кампания. После обезьяны с кабинетом студента входит панк и, ну тогда впервые выходит в магазинах в костр и говорит: - А я - генерал! Тот сдает пальцем, и говорит: - Я - воскресенье! После трого: - Пошли куда вы находить? - Вообще-то мальчики сегодня встретятся: - Тогда я буду котенка с копейки.'"
      ]
     },
     "execution_count": 29,
     "metadata": {},
     "output_type": "execute_result"
    }
   ],
   "source": [
    "# Смотрим на качество генерации глазами\n",
    "# Для маленьких и слабых моделей \"затягиваем\" гайки генерации\n",
    "\n",
    "text = \"Заходит в бар\"\n",
    "input_ids = torch.tensor(tokenizer.encode(text)[:-1], device=trainer.device)[None, :]\n",
    "print(input_ids)\n",
    "model_output = model.generate(\n",
    "    input_ids, max_new_tokens=200, eos_token_id=tokenizer.eos_token_id, do_sample=True, top_k=10\n",
    ")\n",
    "tokenizer.decode(model_output[0].tolist())"
   ]
  },
  {
   "cell_type": "code",
   "execution_count": 30,
   "metadata": {
    "colab": {
     "base_uri": "https://localhost:8080/",
     "height": 118,
     "referenced_widgets": [
      "05d9826d8d6946d49ad56c32cd1a4851",
      "97ed5556127a484abda5b33adc98a25f",
      "0b8e2bd8b37246ae87cc4fb46bb9e7d8",
      "623162a663484721b0e7dffd4ae6c614",
      "16785b1670a140eba14cb40b70320b7d",
      "6da4347e43764141bdb4cd667f19cf00",
      "79a4cfbb00434caf9087f5ded4309fe3",
      "83d8847b2757431d8df80e1e09a2ba8d",
      "b58c94ae5d7f4fab8059553827d21946",
      "7b8a7fdc079f4d72adc404f73c0748c6",
      "1249d44a0fea482185b8fef660fa71e8"
     ]
    },
    "execution": {
     "iopub.status.busy": "2025-03-12T18:18:27.541097Z",
     "iopub.status.idle": "2025-03-12T18:18:27.541457Z",
     "shell.execute_reply": "2025-03-12T18:18:27.541314Z"
    },
    "id": "YFi7M9ExHWv9",
    "outputId": "90e3afe0-b297-470e-b5c1-546bae5ce901"
   },
   "outputs": [
    {
     "data": {
      "application/vnd.jupyter.widget-view+json": {
       "model_id": "05d9826d8d6946d49ad56c32cd1a4851",
       "version_major": 2,
       "version_minor": 0
      },
      "text/plain": [
       "model.safetensors:   0%|          | 0.00/318M [00:00<?, ?B/s]"
      ]
     },
     "metadata": {},
     "output_type": "display_data"
    },
    {
     "data": {
      "application/vnd.google.colaboratory.intrinsic+json": {
       "type": "string"
      },
      "text/plain": [
       "CommitInfo(commit_url='https://huggingface.co/xinyuema/llm-course-hw1/commit/2c037ba2722e6ac6256075598ef4950c80e16bb4', commit_message='Push model using huggingface_hub.', commit_description='', oid='2c037ba2722e6ac6256075598ef4950c80e16bb4', pr_url=None, repo_url=RepoUrl('https://huggingface.co/xinyuema/llm-course-hw1', endpoint='https://huggingface.co', repo_type='model', repo_id='xinyuema/llm-course-hw1'), pr_revision=None, pr_num=None)"
      ]
     },
     "execution_count": 30,
     "metadata": {},
     "output_type": "execute_result"
    }
   ],
   "source": [
    "# Загружаем модель на хаб\n",
    "\n",
    "model.push_to_hub(REPO_NAME)"
   ]
  },
  {
   "cell_type": "markdown",
   "metadata": {
    "id": "ECp817171YoG"
   },
   "source": []
  },
  {
   "cell_type": "markdown",
   "metadata": {
    "id": "so8bIDy5dKXM"
   },
   "source": [
    "# Специальный раздел для проверяющего"
   ]
  },
  {
   "cell_type": "code",
   "execution_count": 33,
   "metadata": {
    "colab": {
     "base_uri": "https://localhost:8080/",
     "height": 162,
     "referenced_widgets": [
      "7fb115cb718d42ce9c983ed950e2d551",
      "91e1e14c2da641eaaf1d6a784aa1d61f",
      "31f68ed4cf9946d7aeb9ef70a91deeaa",
      "6417018826f74973b7a4c7f7c4547143",
      "527cd2f759a44b5589b5f0defe5c2ca8",
      "9f9756978c9a4fb584605dbfa65b28d1",
      "1acc16840d3f4ead8cba29cf77641052",
      "a6864a71b42d43ba9d2d8a4dfdfed1df",
      "51054082362f4b2b80026c79858d2797",
      "1d587cfdfd2f476ca6468e175a801bf7",
      "267fa884822a4d788c03acd038f2ed5e",
      "cf3be6bbe9144e1da5702b4dffbf9105",
      "316d26c0761e4b9e8de53d97ba10b066",
      "bb8bd324bd4d480b9a81f058f4839983",
      "fe282a5074bb4a1291f1adcdf0012aa5",
      "9d2c4a2c88ff47adaa64da98b3559495",
      "928db56973d54c00938ef9b499951c32",
      "2bf05151bead4153a7b4cddcfba78432",
      "814a755aa8d143068f2057cd962cb955",
      "9462ba0495ff42c18fa225199bfb3c69",
      "7f2489fd245f44909a3b3555603a95d4",
      "bd310dddf50841bda856018d4302d41b",
      "c475c33d5bee452bacdeba220de05dcd",
      "76298bb93e7f4853a345a3a34d3ad0b9",
      "bb4aeed0f1e74cacbe1c8d5ecf31bbb9",
      "aaf32c16d65645cc84930b587dd5b948",
      "bc61716f2a624ffd93a0750473d9d720",
      "53ffc96ea83d41128fe67bfbbced4823",
      "1d206982aeae4747a89a8614bf08bd7c",
      "a914ade8c6c14c3790b8794ba9369489",
      "438ae35ea0c3481d8e18c4a2752bd58c",
      "b565ba3bea0b4724a01eebeaea8175b3",
      "87081268183c4d3dbadf2d3d37b0f2ea",
      "34b08ea3ccbd460a875200e521cdfd6c",
      "54cb43b348da4a6c93fbcde8e6ae1127",
      "14791accf6ea44928603b0a4a277ba02",
      "c5275c639bb249519ac77c3afdc951a4",
      "ac73bc99dfed426582abb7a5deba6457",
      "3754fe9b9e2a4c43b0f400cc23153ac8",
      "603ee55a282e4179b863b1277043d857",
      "d8109ed35a284d4b819cc37044c49128",
      "98582c2f3f79460db3b290ebf8006f47",
      "aaa54e7fa7724aeda67c1489f0fec98a",
      "3852ab362e01413b985faace0f7387b6"
     ]
    },
    "execution": {
     "iopub.status.busy": "2025-03-12T18:18:27.542738Z",
     "iopub.status.idle": "2025-03-12T18:18:27.543063Z",
     "shell.execute_reply": "2025-03-12T18:18:27.542922Z"
    },
    "id": "0ZplshN5HtRb",
    "outputId": "5e8dcc75-f09b-449f-84cb-724dff001219"
   },
   "outputs": [
    {
     "data": {
      "application/vnd.jupyter.widget-view+json": {
       "model_id": "7fb115cb718d42ce9c983ed950e2d551",
       "version_major": 2,
       "version_minor": 0
      },
      "text/plain": [
       "Fetching 6 files:   0%|          | 0/6 [00:00<?, ?it/s]"
      ]
     },
     "metadata": {},
     "output_type": "display_data"
    },
    {
     "data": {
      "application/vnd.jupyter.widget-view+json": {
       "model_id": "cf3be6bbe9144e1da5702b4dffbf9105",
       "version_major": 2,
       "version_minor": 0
      },
      "text/plain": [
       "config.json:   0%|          | 0.00/164 [00:00<?, ?B/s]"
      ]
     },
     "metadata": {},
     "output_type": "display_data"
    },
    {
     "data": {
      "application/vnd.jupyter.widget-view+json": {
       "model_id": "c475c33d5bee452bacdeba220de05dcd",
       "version_major": 2,
       "version_minor": 0
      },
      "text/plain": [
       "model.safetensors:   0%|          | 0.00/318M [00:00<?, ?B/s]"
      ]
     },
     "metadata": {},
     "output_type": "display_data"
    },
    {
     "data": {
      "application/vnd.jupyter.widget-view+json": {
       "model_id": "34b08ea3ccbd460a875200e521cdfd6c",
       "version_major": 2,
       "version_minor": 0
      },
      "text/plain": [
       "README.md:   0%|          | 0.00/320 [00:00<?, ?B/s]"
      ]
     },
     "metadata": {},
     "output_type": "display_data"
    },
    {
     "name": "stdout",
     "output_type": "stream",
     "text": [
      "Number of parameters: 79.51M\n"
     ]
    }
   ],
   "source": [
    "device = torch.device(\"cuda\")\n",
    "\n",
    "tokenizer = ByteLevelBPETokenizer.from_pretrained(REPO_NAME)\n",
    "check_model = TransformerForCausalLM.from_pretrained(REPO_NAME)\n",
    "check_model = check_model.to(device)\n",
    "check_model = check_model.eval()"
   ]
  },
  {
   "cell_type": "code",
   "execution_count": 34,
   "metadata": {
    "colab": {
     "base_uri": "https://localhost:8080/",
     "height": 35
    },
    "execution": {
     "iopub.status.busy": "2025-03-12T18:18:27.543701Z",
     "iopub.status.idle": "2025-03-12T18:18:27.543975Z",
     "shell.execute_reply": "2025-03-12T18:18:27.543876Z"
    },
    "id": "araF_3noK994",
    "outputId": "3f1c0b90-87bb-48f5-e3ee-fcad7ba3774a"
   },
   "outputs": [
    {
     "data": {
      "application/vnd.google.colaboratory.intrinsic+json": {
       "type": "string"
      },
      "text/plain": [
       "'Штирлиц пришел домой. Подходит к стройке.- Скорее всего лишь бы?- Петрович, в шубу.- А я вчера съездила!- Так ведь это не квадратный!'"
      ]
     },
     "execution_count": 34,
     "metadata": {},
     "output_type": "execute_result"
    }
   ],
   "source": [
    "text = \"Штирлиц пришел домой\"\n",
    "input_ids = torch.tensor(tokenizer.encode(text), device=device)\n",
    "model_output = check_model.generate(\n",
    "    input_ids[None, :], max_new_tokens=200, eos_token_id=tokenizer.eos_token_id, do_sample=True, top_k=10\n",
    ")\n",
    "tokenizer.decode(model_output[0].tolist())"
   ]
  }
 ],
 "metadata": {
  "accelerator": "GPU",
  "colab": {
   "gpuType": "T4",
   "provenance": [],
   "toc_visible": true
  },
  "kaggle": {
   "accelerator": "nvidiaTeslaT4",
   "dataSources": [],
   "dockerImageVersionId": 30919,
   "isGpuEnabled": true,
   "isInternetEnabled": true,
   "language": "python",
   "sourceType": "notebook"
  },
  "kernelspec": {
   "display_name": "Python 3",
   "name": "python3"
  },
  "language_info": {
   "codemirror_mode": {
    "name": "ipython",
    "version": 3
   },
   "file_extension": ".py",
   "mimetype": "text/x-python",
   "name": "python",
   "nbconvert_exporter": "python",
   "pygments_lexer": "ipython3",
   "version": "3.10.12"
  }
 },
 "nbformat": 4,
 "nbformat_minor": 0
}
