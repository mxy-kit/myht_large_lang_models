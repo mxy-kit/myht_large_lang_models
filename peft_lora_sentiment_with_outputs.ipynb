{
 "cells": [
  {
   "cell_type": "markdown",
   "metadata": {
    "id": "L8PEOM4NCCT9"
   },
   "source": [
    "# PEFT\n",
    "\n",
    "Сегодня LLM становятся незаменимым инструментом как для полноценного решения продуктовых задач, так и на промежуточных этапах, например, генерация разметки или создание синтетических датасетов. Обучение и дообучение таких моделей может быть ресурсозатратным, поэтому на зачастую полезно использовать Parameter-Efficient Fine-Tuning, PEFT.\n",
    "\n",
    "PEFT позволяет адаптировать крупные языковые модели под конкретные задачи, внося минимальные изменения в архитектуру и обучаясь на сравнительно небольшом объёме данных. Ключевые методы – такие как адаптеры, LoRA или DoRA – демонстрируют высокую эффективность, позволяя достичь конкурентоспособной точности при низких затратах на вычислительные мощности.\n",
    "\n",
    "Представьте, что ваша задача – определить тональность твитов. Твиты – короткие, насыщенные эмоциями и часто саркастичные сообщения, где традиционные модели могут давать сбои из-за неформального стиля и ограниченного контекста. Используя PEFT, вы можете донастроить LLM под особенности твиттер-лексикона, адаптируя модель на небольшом, но репрезентативном наборе данных."
   ]
  },
  {
   "cell_type": "markdown",
   "metadata": {
    "id": "3av_XVGoE0VB"
   },
   "source": [
    "## Импортируем зависимости"
   ]
  },
  {
   "cell_type": "code",
   "execution_count": 1,
   "metadata": {
    "colab": {
     "base_uri": "https://localhost:8080/"
    },
    "id": "il6PTSX1dHJs",
    "outputId": "c5c81c87-c9e1-4cbf-c573-c51f31761852"
   },
   "outputs": [
    {
     "name": "stdout",
     "output_type": "stream",
     "text": [
      "\u001b[2K   \u001b[90m━━━━━━━━━━━━━━━━━━━━━━━━━━━━━━━━━━━━━━━━\u001b[0m \u001b[32m491.2/491.2 kB\u001b[0m \u001b[31m9.1 MB/s\u001b[0m eta \u001b[36m0:00:00\u001b[0m\n",
      "\u001b[2K   \u001b[90m━━━━━━━━━━━━━━━━━━━━━━━━━━━━━━━━━━━━━━━━\u001b[0m \u001b[32m76.0/76.0 MB\u001b[0m \u001b[31m17.9 MB/s\u001b[0m eta \u001b[36m0:00:00\u001b[0m\n",
      "\u001b[2K   \u001b[90m━━━━━━━━━━━━━━━━━━━━━━━━━━━━━━━━━━━━━━━━\u001b[0m \u001b[32m336.4/336.4 kB\u001b[0m \u001b[31m24.1 MB/s\u001b[0m eta \u001b[36m0:00:00\u001b[0m\n",
      "\u001b[2K   \u001b[90m━━━━━━━━━━━━━━━━━━━━━━━━━━━━━━━━━━━━━━━━\u001b[0m \u001b[32m116.3/116.3 kB\u001b[0m \u001b[31m11.2 MB/s\u001b[0m eta \u001b[36m0:00:00\u001b[0m\n",
      "\u001b[2K   \u001b[90m━━━━━━━━━━━━━━━━━━━━━━━━━━━━━━━━━━━━━━━━\u001b[0m \u001b[32m183.9/183.9 kB\u001b[0m \u001b[31m6.6 MB/s\u001b[0m eta \u001b[36m0:00:00\u001b[0m\n",
      "\u001b[2K   \u001b[90m━━━━━━━━━━━━━━━━━━━━━━━━━━━━━━━━━━━━━━━━\u001b[0m \u001b[32m143.5/143.5 kB\u001b[0m \u001b[31m5.1 MB/s\u001b[0m eta \u001b[36m0:00:00\u001b[0m\n",
      "\u001b[2K   \u001b[90m━━━━━━━━━━━━━━━━━━━━━━━━━━━━━━━━━━━━━━━━\u001b[0m \u001b[32m363.4/363.4 MB\u001b[0m \u001b[31m2.6 MB/s\u001b[0m eta \u001b[36m0:00:00\u001b[0m\n",
      "\u001b[2K   \u001b[90m━━━━━━━━━━━━━━━━━━━━━━━━━━━━━━━━━━━━━━━━\u001b[0m \u001b[32m13.8/13.8 MB\u001b[0m \u001b[31m78.0 MB/s\u001b[0m eta \u001b[36m0:00:00\u001b[0m\n",
      "\u001b[2K   \u001b[90m━━━━━━━━━━━━━━━━━━━━━━━━━━━━━━━━━━━━━━━━\u001b[0m \u001b[32m24.6/24.6 MB\u001b[0m \u001b[31m74.9 MB/s\u001b[0m eta \u001b[36m0:00:00\u001b[0m\n",
      "\u001b[2K   \u001b[90m━━━━━━━━━━━━━━━━━━━━━━━━━━━━━━━━━━━━━━━━\u001b[0m \u001b[32m883.7/883.7 kB\u001b[0m \u001b[31m49.7 MB/s\u001b[0m eta \u001b[36m0:00:00\u001b[0m\n",
      "\u001b[2K   \u001b[90m━━━━━━━━━━━━━━━━━━━━━━━━━━━━━━━━━━━━━━━━\u001b[0m \u001b[32m664.8/664.8 MB\u001b[0m \u001b[31m1.6 MB/s\u001b[0m eta \u001b[36m0:00:00\u001b[0m\n",
      "\u001b[2K   \u001b[90m━━━━━━━━━━━━━━━━━━━━━━━━━━━━━━━━━━━━━━━━\u001b[0m \u001b[32m211.5/211.5 MB\u001b[0m \u001b[31m10.6 MB/s\u001b[0m eta \u001b[36m0:00:00\u001b[0m\n",
      "\u001b[2K   \u001b[90m━━━━━━━━━━━━━━━━━━━━━━━━━━━━━━━━━━━━━━━━\u001b[0m \u001b[32m56.3/56.3 MB\u001b[0m \u001b[31m40.0 MB/s\u001b[0m eta \u001b[36m0:00:00\u001b[0m\n",
      "\u001b[2K   \u001b[90m━━━━━━━━━━━━━━━━━━━━━━━━━━━━━━━━━━━━━━━━\u001b[0m \u001b[32m127.9/127.9 MB\u001b[0m \u001b[31m18.6 MB/s\u001b[0m eta \u001b[36m0:00:00\u001b[0m\n",
      "\u001b[2K   \u001b[90m━━━━━━━━━━━━━━━━━━━━━━━━━━━━━━━━━━━━━━━━\u001b[0m \u001b[32m207.5/207.5 MB\u001b[0m \u001b[31m4.0 MB/s\u001b[0m eta \u001b[36m0:00:00\u001b[0m\n",
      "\u001b[2K   \u001b[90m━━━━━━━━━━━━━━━━━━━━━━━━━━━━━━━━━━━━━━━━\u001b[0m \u001b[32m21.1/21.1 MB\u001b[0m \u001b[31m94.3 MB/s\u001b[0m eta \u001b[36m0:00:00\u001b[0m\n",
      "\u001b[2K   \u001b[90m━━━━━━━━━━━━━━━━━━━━━━━━━━━━━━━━━━━━━━━━\u001b[0m \u001b[32m194.8/194.8 kB\u001b[0m \u001b[31m16.2 MB/s\u001b[0m eta \u001b[36m0:00:00\u001b[0m\n",
      "\u001b[?25h\u001b[31mERROR: pip's dependency resolver does not currently take into account all the packages that are installed. This behaviour is the source of the following dependency conflicts.\n",
      "gcsfs 2025.3.2 requires fsspec==2025.3.2, but you have fsspec 2024.12.0 which is incompatible.\u001b[0m\u001b[31m\n",
      "\u001b[0m"
     ]
    }
   ],
   "source": [
    "%pip install --quiet datasets bitsandbytes trl"
   ]
  },
  {
   "cell_type": "code",
   "execution_count": 2,
   "metadata": {
    "id": "k1BAjya7dXeZ"
   },
   "outputs": [],
   "source": [
    "import gc\n",
    "import os\n",
    "import random\n",
    "import re\n",
    "import inspect\n",
    "from functools import partial\n",
    "\n",
    "import numpy as np\n",
    "import torch\n",
    "import torch.nn as nn\n",
    "from datasets import load_dataset\n",
    "from huggingface_hub import HfApi, interpreter_login\n",
    "from peft import LoraConfig, get_peft_model, prepare_model_for_kbit_training\n",
    "from sklearn.metrics import ConfusionMatrixDisplay, confusion_matrix, f1_score\n",
    "from torch.utils.data import DataLoader\n",
    "from tqdm.notebook import tqdm\n",
    "from transformers import AutoModelForCausalLM, AutoTokenizer, BitsAndBytesConfig, TrainingArguments\n",
    "from trl import SFTTrainer"
   ]
  },
  {
   "cell_type": "code",
   "execution_count": 3,
   "metadata": {
    "colab": {
     "base_uri": "https://localhost:8080/"
    },
    "id": "_-n5o_KE-DQH",
    "outputId": "adc085eb-9d7a-4cc2-af2d-94612d2ff230"
   },
   "outputs": [
    {
     "name": "stdout",
     "output_type": "stream",
     "text": [
      "\n",
      "    _|    _|  _|    _|    _|_|_|    _|_|_|  _|_|_|  _|      _|    _|_|_|      _|_|_|_|    _|_|      _|_|_|  _|_|_|_|\n",
      "    _|    _|  _|    _|  _|        _|          _|    _|_|    _|  _|            _|        _|    _|  _|        _|\n",
      "    _|_|_|_|  _|    _|  _|  _|_|  _|  _|_|    _|    _|  _|  _|  _|  _|_|      _|_|_|    _|_|_|_|  _|        _|_|_|\n",
      "    _|    _|  _|    _|  _|    _|  _|    _|    _|    _|    _|_|  _|    _|      _|        _|    _|  _|        _|\n",
      "    _|    _|    _|_|      _|_|_|    _|_|_|  _|_|_|  _|      _|    _|_|_|      _|        _|    _|    _|_|_|  _|_|_|_|\n",
      "\n"
     ]
    },
    {
     "name": "stderr",
     "output_type": "stream",
     "text": [
      "/usr/local/lib/python3.11/dist-packages/huggingface_hub/utils/_auth.py:94: UserWarning: \n",
      "The secret `HF_TOKEN` does not exist in your Colab secrets.\n",
      "To authenticate with the Hugging Face Hub, create a token in your settings tab (https://huggingface.co/settings/tokens), set it as secret in your Google Colab and restart your session.\n",
      "You will be able to reuse this secret in all of your notebooks.\n",
      "Please note that authentication is recommended but still optional to access public models or datasets.\n",
      "  warnings.warn(\n"
     ]
    },
    {
     "name": "stdout",
     "output_type": "stream",
     "text": [
      "Enter your token (input will not be visible): ··········\n",
      "Add token as git credential? (Y/n) y\n"
     ]
    }
   ],
   "source": [
    "interpreter_login()"
   ]
  },
  {
   "cell_type": "code",
   "execution_count": 4,
   "metadata": {
    "colab": {
     "base_uri": "https://localhost:8080/"
    },
    "id": "SNdKoLWk-Be-",
    "outputId": "4325ea7c-eddc-4199-9150-d4a3268adada"
   },
   "outputs": [
    {
     "name": "stdout",
     "output_type": "stream",
     "text": [
      "Homework repository: 'xinyuema/llm-course-hw3'\n"
     ]
    }
   ],
   "source": [
    "# Подготовим репозиторий для будущей модели и токенизатора\n",
    "username = HfApi().whoami()[\"name\"]\n",
    "REPO_NAME = f\"{username}/llm-course-hw3\"  # Или как вам хочется\n",
    "\n",
    "SEED = 42\n",
    "\n",
    "print(f\"Homework repository: '{REPO_NAME}'\")"
   ]
  },
  {
   "cell_type": "code",
   "execution_count": 5,
   "metadata": {
    "colab": {
     "base_uri": "https://localhost:8080/"
    },
    "id": "l4yiCPkk9_1I",
    "outputId": "c0f103c0-8003-44a7-f3e1-6cf6127a6540"
   },
   "outputs": [
    {
     "name": "stdout",
     "output_type": "stream",
     "text": [
      "DEVICE='cuda'\n"
     ]
    }
   ],
   "source": [
    "def set_seed(seed=42):\n",
    "    torch.manual_seed(seed)\n",
    "    torch.cuda.manual_seed_all(seed)\n",
    "    np.random.seed(seed)\n",
    "    random.seed(seed)\n",
    "\n",
    "\n",
    "# Этой функцией будут помечены все места, которые необходимо дозаполнить\n",
    "# Это могут быть как целые функции, так и отдельные части внутри них\n",
    "# Всегда можно воспользоваться интроспекцией и найти места использования этой функции :)\n",
    "def todo():\n",
    "    stack = inspect.stack()\n",
    "    caller_frame = stack[1]\n",
    "    function_name = caller_frame.function\n",
    "    line_number = caller_frame.lineno\n",
    "    raise NotImplementedError(f\"TODO at {function_name}, line {line_number}\")\n",
    "\n",
    "\n",
    "if torch.cuda.is_available():\n",
    "    DEVICE = \"cuda\"\n",
    "elif torch.backends.mps.is_available():\n",
    "    DEVICE = \"mps\"\n",
    "else:\n",
    "    DEVICE = \"cpu\"\n",
    "\n",
    "set_seed(SEED)\n",
    "print(f\"{DEVICE=}\")"
   ]
  },
  {
   "cell_type": "markdown",
   "metadata": {
    "id": "m6g6d07CeCMo"
   },
   "source": [
    "В качестве базовой модели возьмем [`Lite-Oute-1-300M-Instruct`](https://huggingface.co/OuteAI/Lite-Oute-1-300M-Instruct).\n",
    "Она использует за основу Mistral и насчитывает около 300 млн параметров, размер контекста до 4096 токенов.\n",
    "\n",
    "Вы можете использовать любую другую модель, однако обратите внимание, что используете на `Instruct` версию."
   ]
  },
  {
   "cell_type": "code",
   "execution_count": 6,
   "metadata": {
    "colab": {
     "base_uri": "https://localhost:8080/",
     "height": 273,
     "referenced_widgets": [
      "0025a0c0174948f3a521d8f68e868737",
      "5dc799823d8849b99fc5c4a570d3e39f",
      "7cd4730e57294e3d9515bc210db25004",
      "332dcdfa19db4f9a99f044bbfd2c2e72",
      "93015a7b76124e1e95565dfc14cb57e9",
      "4b6d6c3c08804b8a9f80acf2aa473bb5",
      "d37701cf73c14bdfa996ea02bfba94f2",
      "524f612b4d144c638c243c28f5b7d9e5",
      "17fecefb12cd4e5a86278ff282b827a2",
      "44fad199cdb24dfabefa01b0e2ed592f",
      "b4ff85a798f442529f40b69bdfd1bb64",
      "9f40df75e8694381b543cb5fdef8e791",
      "949b4ba91b484787b7ecbfdd822c7886",
      "76f5de63eb5440a6a3ee0ced4779a5e1",
      "b70c26c424af4b73b05995e9cb4cfc51",
      "1cee7b36c2cf4ec3b7125dbfb040f3e8",
      "3d7ac3338efb4aca95621d4c0cd419f7",
      "7429b73c803b4425bfb4ffe49e68ab81",
      "edb5b4e72bc941e0884f24257b365d3a",
      "3409a56c0c2144a29af1e0958223aa39",
      "479b28b6f67b411b91c76a8a7a33b7c7",
      "695bb95f21864f40a846691bc9475068",
      "85a7ab915f5e49989ed300646992f97a",
      "fd5398c9e3924f53997138143f24a81c",
      "317815f6938a400e9ad678053bb41502",
      "ac3a46cfd3b44ca8ad8808c4979a3aca",
      "762766685c864ec98d8140793e6e1cb0",
      "423938ea0ef84cb0925f15b4eefb307c",
      "9abc17b19061425db47ea47fce64cdb7",
      "437bc70eb23340f78f5e234415962202",
      "985f438dc69c48338cd8079c73666972",
      "94ab82c07f5c4fcbab509ed90eabe654",
      "69c274c8f1e94960bad6ae8dc9693952",
      "d15afb9cbb2c441ebe5417ff46a37229",
      "dd347817ede84bf28a4c5d94b01af324",
      "1d87b7c920944bf78bd8498926ed7626",
      "fda4f4f8d44e4fe7a2a8c0eb5f09cb20",
      "b2db068804224459924894a4bcd4b036",
      "6676348c97044bbeae678f7aaa49a339",
      "48f7547032ae4337a2751782a19e1e36",
      "ffa74c1264174d0b8ed280597151b523",
      "c301e2f6f25a4c439c2a3a5c454ab66e",
      "e978d7c69cb04b14b5afae6aa29586ca",
      "05b18d58e98e4fa0b83f0a0e3606d880",
      "93a6e2a41a144bc68670bc1439970e76",
      "40d418d3088a40fba0b8a29a348f7f1d",
      "bc0e9b9ab37f4e90aebc69f13e13fc74",
      "46a3a3d7d16b4c4088ef4ba6de186d6b",
      "9d652105758e4918891d49cb1b54f328",
      "1182b68a975d416b9efb5ec73ae2bde2",
      "5fe3889491ce43029d2fdd122033d26e",
      "e38f747afd3c46ecb0579192063b1a8e",
      "e07382f2111e43b4ab667d45e42884ea",
      "e559ded29d13445b8e735b3271dcba79",
      "291227aa20394d1eb778d5a3aff76bbc",
      "c1c8cd2f06b6461ca6833556d2b161d5",
      "482bfb25b6f34ba3ba2d648074a635e8",
      "96ca89d9b2d94fc2af6a78232ec96db9",
      "bd9adf31d5ee410ead9f5bf7d3087252",
      "2ac25e5260534861a45e656505013868",
      "ae16693d311247cda07129b84dd13173",
      "df49894af02d46fe8764728835af2b67",
      "64d93feeb38544b4a8f74577d5738b1c",
      "8bc5dedee79b492595254c74233f2d9d",
      "6765c05ee25c4c6399dd74bafa47e32b",
      "c81e99850ed54c2f9412be541113fefc",
      "17f2ea3a159f47c88e59071c8a49f601",
      "782ddc6e361d49baae2f8a146ac391f6",
      "0083ef8f24f6417780bbe946c82219bf",
      "30a1711979084d698e41b267c297eb9b",
      "d5480806f4ca475697f9ebc442391e8b",
      "7f9a96a1aa7545f3b0a680989a46521e",
      "b283e5a46c304ee397b2a1a4331bb672",
      "2f26cfdd03f843c28c0188bce835ba0a",
      "fa3f60bea10b41088f9a180e235a4ea2",
      "8e806b44dc9b4e9c9b873fd3b65449e3",
      "4a241d447af54d848001f14b286f3d26",
      "2f7dfc1a8b5f4b21aa2e7b8c4153a994",
      "a12df608817e48fdb6f4fb0adabc9492",
      "2f174eb5a20341f4a8bd05430143d667",
      "6cab695b8fd74509b8ac11ba5ec3d426",
      "c75a27090c57413f9634a4072bcf4e74",
      "7d02892405e44f1b86a2608236061f0d",
      "51afd8fcf125457daa1e4a88d18846c7",
      "2dfb2f57d5994f8596337b25ac8f383f",
      "a0f9dba5243743f4bbae469ad4fa0589",
      "e6d4d32f228f4a339ef7a897a6399a78",
      "12cf30548cd641749c4ffd68d9c045b9"
     ]
    },
    "id": "v-ZP8x0-FWNp",
    "outputId": "e1166df5-5dc9-4550-99fd-c529bc422757"
   },
   "outputs": [
    {
     "data": {
      "application/vnd.jupyter.widget-view+json": {
       "model_id": "0025a0c0174948f3a521d8f68e868737",
       "version_major": 2,
       "version_minor": 0
      },
      "text/plain": [
       "config.json:   0%|          | 0.00/611 [00:00<?, ?B/s]"
      ]
     },
     "metadata": {},
     "output_type": "display_data"
    },
    {
     "data": {
      "application/vnd.jupyter.widget-view+json": {
       "model_id": "9f40df75e8694381b543cb5fdef8e791",
       "version_major": 2,
       "version_minor": 0
      },
      "text/plain": [
       "model.safetensors:   0%|          | 0.00/1.20G [00:00<?, ?B/s]"
      ]
     },
     "metadata": {},
     "output_type": "display_data"
    },
    {
     "data": {
      "application/vnd.jupyter.widget-view+json": {
       "model_id": "85a7ab915f5e49989ed300646992f97a",
       "version_major": 2,
       "version_minor": 0
      },
      "text/plain": [
       "generation_config.json:   0%|          | 0.00/132 [00:00<?, ?B/s]"
      ]
     },
     "metadata": {},
     "output_type": "display_data"
    },
    {
     "data": {
      "application/vnd.jupyter.widget-view+json": {
       "model_id": "d15afb9cbb2c441ebe5417ff46a37229",
       "version_major": 2,
       "version_minor": 0
      },
      "text/plain": [
       "tokenizer_config.json:   0%|          | 0.00/1.67k [00:00<?, ?B/s]"
      ]
     },
     "metadata": {},
     "output_type": "display_data"
    },
    {
     "data": {
      "application/vnd.jupyter.widget-view+json": {
       "model_id": "93a6e2a41a144bc68670bc1439970e76",
       "version_major": 2,
       "version_minor": 0
      },
      "text/plain": [
       "tokenizer.model:   0%|          | 0.00/493k [00:00<?, ?B/s]"
      ]
     },
     "metadata": {},
     "output_type": "display_data"
    },
    {
     "data": {
      "application/vnd.jupyter.widget-view+json": {
       "model_id": "c1c8cd2f06b6461ca6833556d2b161d5",
       "version_major": 2,
       "version_minor": 0
      },
      "text/plain": [
       "tokenizer.json:   0%|          | 0.00/1.80M [00:00<?, ?B/s]"
      ]
     },
     "metadata": {},
     "output_type": "display_data"
    },
    {
     "data": {
      "application/vnd.jupyter.widget-view+json": {
       "model_id": "17f2ea3a159f47c88e59071c8a49f601",
       "version_major": 2,
       "version_minor": 0
      },
      "text/plain": [
       "added_tokens.json:   0%|          | 0.00/51.0 [00:00<?, ?B/s]"
      ]
     },
     "metadata": {},
     "output_type": "display_data"
    },
    {
     "data": {
      "application/vnd.jupyter.widget-view+json": {
       "model_id": "2f7dfc1a8b5f4b21aa2e7b8c4153a994",
       "version_major": 2,
       "version_minor": 0
      },
      "text/plain": [
       "special_tokens_map.json:   0%|          | 0.00/620 [00:00<?, ?B/s]"
      ]
     },
     "metadata": {},
     "output_type": "display_data"
    }
   ],
   "source": [
    "MODEL_NAME = \"OuteAI/Lite-Oute-1-300M-Instruct\"\n",
    "\n",
    "model = AutoModelForCausalLM.from_pretrained(MODEL_NAME)\n",
    "model = model.to(DEVICE)\n",
    "\n",
    "os.environ[\"PROTOCOL_BUFFERS_PYTHON_IMPLEMENTATION\"] = \"python\"\n",
    "tokenizer = AutoTokenizer.from_pretrained(MODEL_NAME)\n",
    "tokenizer.pad_token = tokenizer.eos_token\n",
    "tokenizer.padding_side = \"left\""
   ]
  },
  {
   "cell_type": "markdown",
   "metadata": {
    "id": "TlOV4EKtJYGo"
   },
   "source": [
    "## Подготовка данных [2 балла]"
   ]
  },
  {
   "cell_type": "markdown",
   "metadata": {
    "id": "XrsY38DxeCMp"
   },
   "source": [
    "Думаю, вы уже задумались над тем, что качество датасета для модели такого размера будет заметно влиять на перфоманс модели после обучения. Это действительно так, более того есть интересное исследование и на больших моделях: [LIMA: Less Is More for Alignment](https://arxiv.org/abs/2305.11206) показывает, что даже большие модели (например, Llama 65B) можно успешно обучить на небольшом, но исключительно качественном наборе данных.\n",
    "\n",
    "Для нашей задачи воспользуемся стандартным датасетом классификации твиттов по тональности: [`cardiffnlp/tweet_eval`](https://huggingface.co/datasets/cardiffnlp/tweet_eval)."
   ]
  },
  {
   "cell_type": "code",
   "execution_count": 7,
   "metadata": {
    "colab": {
     "base_uri": "https://localhost:8080/",
     "height": 684,
     "referenced_widgets": [
      "011e12a717e74a629a58c6a21599a179",
      "d451a93183d34951a135fcc45359e690",
      "1f6171be4bca4b2fb55baaecc23ba147",
      "0f106f01d94d41efa67ccf842dce8214",
      "8fb0e98b9009410d890b75229f167242",
      "b25d4b5f9806499b921f117a630440ee",
      "9b456f21dce1435ba9491e3e154a8f5a",
      "b887e9d5602c486e81ba81f9f5c23573",
      "a1867198acb44a329130319ec590ad0e",
      "a45dd9097a4f4feb9b4ca12b8625bd90",
      "7850e4122d4b486687c58deb1b1dffd5",
      "0f1a57fd8702439a8f7dd0da48cb6015",
      "791ca135fc2a43608948a86027a6574b",
      "9ea3798d7d23424db86a9aad8a7ed1ec",
      "7b31d4c0f88c4999945cf54ea9a78926",
      "72772154011545c0bc83b4ade90fd88f",
      "ffa0b4d4672f499c8f83c36c9992be3f",
      "87e7ea0a31dc4963875cc3cd84c067f7",
      "f0b769acf0b0480e91863f4c7714815e",
      "b79c630f1dd44708a8be30593de9b17e",
      "2a7fa8e7b67f4a19a4f404c39273e8e9",
      "09483ce810624b929966ec7a90ac3fc0",
      "704e55345de34328991df0433f98f887",
      "fbb7e599128949089df58e23f40faf60",
      "0b9337a2974f4c4abd05f8c633160585",
      "7a530215bac741059c1284232634f51c",
      "770888567ec741fab9cdd56b308b1147",
      "25e94fbc1d4740a1a698cd3637274835",
      "4156c8fd926042cd8602c0168ea34a09",
      "94e022946cf74966a59a24b50a09f1a4",
      "88664bea3b3342cbaa55cd0ebadb8654",
      "f79a378f6e764277aede72ae61f3a231",
      "000a217dde0c458b91dd3c8152450564",
      "86b60420083c4aa4ba2b02541cd5743d",
      "bf72d1f343cf41bb9eea3dfcaa3a6c14",
      "9e02f421ad054be59ce8f14c0bcd1355",
      "e52203b31dc3415fa155c2e6917d7a63",
      "b8420b491f1e4d68b2516e0b55242bce",
      "ff0674d18b71465b8fb67de1a229a0fd",
      "c96aeb71979a4b0ea12866f5ae040619",
      "b1d473e45e8c45fc893ac2a495068c63",
      "d66caf606e6041ab818d39cd0ca006ca",
      "7753b27ec6564583adb94f858c7354e6",
      "0e9246a71c564e738753127a2efb85f9",
      "76278d1a4cbb4be2a22d60e800d5f071",
      "d38dd5721b4742f9bb4fa69939c1e156",
      "7fc1298a55af471da2fb08ec09c72d95",
      "2c1a820f771b422585a79b2164f43470",
      "cd59fa85a961434890e7cb4e6dbf45cf",
      "7045a1eb1fb74262837e51f79dc4e1e7",
      "49b6be4c66f84d14b17e036d030fec30",
      "07377a3254394f8eb6e93739ee7aa40f",
      "2118371ede7f469cac7e95aebdf3c544",
      "bd834eeb103f4831863b62dc1f860860",
      "d8f05b2ef6164b20b0a5e02de654bf38",
      "cdb073f06dc54cdfba2a3b5f0c1acfa4",
      "f40229e03df640ef8d75d6d0c796b9ca",
      "7e2afcb74ffe48509791df08d01a0eef",
      "8432c2a65ccb41718c7bf522ae2b6b3b",
      "81f3322a8d7e42b38798ad59076ea90e",
      "05bb60850f6a496989374635874e27c1",
      "ee93cec0df0645a0bc3184ba51901762",
      "b6ed0d7595c04609a7c6d4c996cfcbaf",
      "1d4e84819095496e89c8964a404f0bf3",
      "6c9cf9dc653b48d8b3057fee7b6b9eb5",
      "6ee1cae3888b4f75a605d55533a58b08",
      "6b3fe8b033aa4d768ae1f22e97af29d2",
      "bdcb7481b1954aceab593e0ae427b5a7",
      "11c3171881864ccd9a3d0612917f284e",
      "96da7b02da8d43c0841a3985b1b8c9ee",
      "547cb53158cf4bb297bcfea3ad5c0427",
      "f7269b2d1958441c956846b8d63a77cb",
      "40576fc262ad4d399b95931fda986caf",
      "08a387c6d9324e64a2d112088e3787bc",
      "3a9e09e919ea40b49e9fdff5558b83cd",
      "a22596977a964a3280f7933464809feb",
      "bc6d984105f44333b77b434df5c398c1",
      "8dbf4c4c5e254c64a409e2f4c0b69d17",
      "9ac2e469e6d94707b8f403fc68419aa9",
      "032982f2ab8b4bf69028eb0edbb6ea39",
      "aee8ca5ce88c437fac828381d68a1717",
      "937a109986c94283942782fdddce873d",
      "f58645d84d6d4c3aac67381b044b05f1",
      "f5eade7010144189983270201c68cace",
      "d7f2c26dfe564247b406a49295223c7f",
      "1adb246ef0134cbf8850adf7d6a8fa77",
      "1a02481e56874f1dade49ce6a752d6cc",
      "3d30f665576d40af815e92f60307475e",
      "7938fb0aaa8545fcae9d655334442a85",
      "52c93ba5ac0944cf9ca130a1715d52c4",
      "f32bb4b367474698b4330ea9fd608aab",
      "dae000a2a35a48d8ae69eb1a132c12d2",
      "9a936a0f7c24410b9027f1b5a55c6ee5",
      "4809f721e1ab4730bd6ab39e87776ed7",
      "b898d4ddf8d74853bf248f5bb5079094",
      "9a2f9f12cfb7486482cfaccbef1a7f62",
      "61ac22abd19d483fb55b5ce083079387",
      "344b52a09cda483a83e6cf76f562219b",
      "c9d14ac7180149e08193cb263e4515bc",
      "9375644bce334d628e85bcb6dbda130b",
      "63d237f7e2174d28a9e7661919668e9b",
      "a08faa70f73a4203a5518fb1bb42f3ef",
      "35ee004307484d7e9c7305ffcc0ae3f2",
      "e2aeac47b8fb41c490df1b8d0f5b6274",
      "3029ec1c7d00466fb979f229832069b2",
      "73ce2e0f412c48358a185afbf497afa1",
      "67524a01bb854a8980a23e4fc002e873",
      "f75c909f47e54c5d95c1267c1e944f9f",
      "78b3e34a340c4b9e81318e90b2cc60e2",
      "f90eb25394ab4f8a8776d19a87d53c8f"
     ]
    },
    "id": "uhaucbodjoyJ",
    "outputId": "ee7b6e3f-8bd2-406c-8d52-597473cedb55"
   },
   "outputs": [
    {
     "data": {
      "application/vnd.jupyter.widget-view+json": {
       "model_id": "011e12a717e74a629a58c6a21599a179",
       "version_major": 2,
       "version_minor": 0
      },
      "text/plain": [
       "README.md:   0%|          | 0.00/23.9k [00:00<?, ?B/s]"
      ]
     },
     "metadata": {},
     "output_type": "display_data"
    },
    {
     "data": {
      "application/vnd.jupyter.widget-view+json": {
       "model_id": "0f1a57fd8702439a8f7dd0da48cb6015",
       "version_major": 2,
       "version_minor": 0
      },
      "text/plain": [
       "train-00000-of-00001.parquet:   0%|          | 0.00/3.78M [00:00<?, ?B/s]"
      ]
     },
     "metadata": {},
     "output_type": "display_data"
    },
    {
     "data": {
      "application/vnd.jupyter.widget-view+json": {
       "model_id": "704e55345de34328991df0433f98f887",
       "version_major": 2,
       "version_minor": 0
      },
      "text/plain": [
       "test-00000-of-00001.parquet:   0%|          | 0.00/901k [00:00<?, ?B/s]"
      ]
     },
     "metadata": {},
     "output_type": "display_data"
    },
    {
     "data": {
      "application/vnd.jupyter.widget-view+json": {
       "model_id": "86b60420083c4aa4ba2b02541cd5743d",
       "version_major": 2,
       "version_minor": 0
      },
      "text/plain": [
       "validation-00000-of-00001.parquet:   0%|          | 0.00/167k [00:00<?, ?B/s]"
      ]
     },
     "metadata": {},
     "output_type": "display_data"
    },
    {
     "data": {
      "application/vnd.jupyter.widget-view+json": {
       "model_id": "76278d1a4cbb4be2a22d60e800d5f071",
       "version_major": 2,
       "version_minor": 0
      },
      "text/plain": [
       "Generating train split:   0%|          | 0/45615 [00:00<?, ? examples/s]"
      ]
     },
     "metadata": {},
     "output_type": "display_data"
    },
    {
     "data": {
      "application/vnd.jupyter.widget-view+json": {
       "model_id": "cdb073f06dc54cdfba2a3b5f0c1acfa4",
       "version_major": 2,
       "version_minor": 0
      },
      "text/plain": [
       "Generating test split:   0%|          | 0/12284 [00:00<?, ? examples/s]"
      ]
     },
     "metadata": {},
     "output_type": "display_data"
    },
    {
     "data": {
      "application/vnd.jupyter.widget-view+json": {
       "model_id": "6b3fe8b033aa4d768ae1f22e97af29d2",
       "version_major": 2,
       "version_minor": 0
      },
      "text/plain": [
       "Generating validation split:   0%|          | 0/2000 [00:00<?, ? examples/s]"
      ]
     },
     "metadata": {},
     "output_type": "display_data"
    },
    {
     "data": {
      "application/vnd.jupyter.widget-view+json": {
       "model_id": "8dbf4c4c5e254c64a409e2f4c0b69d17",
       "version_major": 2,
       "version_minor": 0
      },
      "text/plain": [
       "Map:   0%|          | 0/45615 [00:00<?, ? examples/s]"
      ]
     },
     "metadata": {},
     "output_type": "display_data"
    },
    {
     "data": {
      "application/vnd.jupyter.widget-view+json": {
       "model_id": "7938fb0aaa8545fcae9d655334442a85",
       "version_major": 2,
       "version_minor": 0
      },
      "text/plain": [
       "Map:   0%|          | 0/12284 [00:00<?, ? examples/s]"
      ]
     },
     "metadata": {},
     "output_type": "display_data"
    },
    {
     "data": {
      "application/vnd.jupyter.widget-view+json": {
       "model_id": "9375644bce334d628e85bcb6dbda130b",
       "version_major": 2,
       "version_minor": 0
      },
      "text/plain": [
       "Map:   0%|          | 0/2000 [00:00<?, ? examples/s]"
      ]
     },
     "metadata": {},
     "output_type": "display_data"
    },
    {
     "name": "stdout",
     "output_type": "stream",
     "text": [
      "text: \"QT @user In the original draft of the 7th book, Remus Lupin survived the Battle of Hogwarts. #HappyBirthdayRemusLupin\"\n",
      "label: 2\n",
      "str_label: positive\n",
      "==========\n",
      "text: \"Ben Smith / Smith (concussion) remains out of the lineup Thursday, Curtis #NHL #SJ\"\n",
      "label: 1\n",
      "str_label: neutral\n",
      "==========\n",
      "text: Sorry bout the stream last night I crashed out but will be on tonight for sure. Then back to Minecraft in pc tomorrow night.\n",
      "label: 1\n",
      "str_label: neutral\n",
      "==========\n",
      "text: Chase Headley's RBI double in the 8th inning off David Price snapped a Yankees streak of 33 consecutive scoreless innings against Blue Jays\n",
      "label: 1\n",
      "str_label: neutral\n",
      "==========\n",
      "text: @user Alciato: Bee will invest 150 million in January, another 200 in the Summer and plans to bring Messi by 2017\"\n",
      "label: 2\n",
      "str_label: positive\n",
      "==========\n"
     ]
    }
   ],
   "source": [
    "dataset = load_dataset(\"cardiffnlp/tweet_eval\", \"sentiment\")\n",
    "\n",
    "IDX2NAME = {0: \"negative\", 1: \"neutral\", 2: \"positive\"}\n",
    "\n",
    "\n",
    "def add_str_label(example):\n",
    "    example[\"str_label\"] = IDX2NAME[example[\"label\"]]\n",
    "    return example\n",
    "\n",
    "\n",
    "for split, data in dataset.items():\n",
    "    dataset[split] = data.map(add_str_label)\n",
    "\n",
    "for i in range(5):\n",
    "    for k, v in dataset[\"train\"][i].items():\n",
    "        print(f\"{k}: {v}\")\n",
    "    print(\"=\" * 10)"
   ]
  },
  {
   "cell_type": "markdown",
   "metadata": {
    "id": "nvrtTaU3JYGo"
   },
   "source": [
    "Для подготовки датасета необходими\n",
    "\n",
    "1. Задать системный промпт, в нем полезно описать задачу, а также определить формат генерации. В нашем случае это одно слово – название класса.\n",
    "2. Задать пользовательский промпт, в котором будет находиться текст на классификацию.\n",
    "3. Применить `chat_template` с помощью метода `tokenizer.apply_chat_template`, добавить начало генерации ассистента.\n",
    "4. Токенизировать датасет."
   ]
  },
  {
   "cell_type": "code",
   "execution_count": 8,
   "metadata": {
    "colab": {
     "base_uri": "https://localhost:8080/"
    },
    "id": "gwGyELHEJYGo",
    "outputId": "0f1be248-aaa7-429b-bf9d-72d81ec7f9e2"
   },
   "outputs": [
    {
     "name": "stdout",
     "output_type": "stream",
     "text": [
      "SYSTEM_PROMPT='You are a tweet sentiment classifier. For each tweet input, analyze its sentiment and output exactly one word: \"negative\", \"neutral\", or \"positive\". Do not include any extra text.'\n"
     ]
    }
   ],
   "source": [
    "SYSTEM_PROMPT = \"You are a tweet sentiment classifier. \" \\\n",
    "\"For each tweet input, analyze its sentiment and output \" \\\n",
    "\"exactly one word: \\\"negative\\\", \\\"neutral\\\", or \\\"positive\\\". \" \\\n",
    "\"Do not include any extra text.\"\n",
    "# SYSTEM_PROMPT = \"For each tweet input, please analyze the sentiment of the following tweet and answer \" \\\n",
    "# \": \\\"negative\\\", \\\"neutral\\\", or \\\"positive\\\". \"\n",
    "print(f\"{SYSTEM_PROMPT=}\")\n",
    "\n",
    "\n",
    "def process_example(example, *, tokenizer, system_prompt=SYSTEM_PROMPT):\n",
    "    \"\"\"Processes a single example by constructing a chat-based prompt and tokenizing it.\n",
    "\n",
    "    Process:\n",
    "        1. Constructs a conversation comprising three roles:\n",
    "            - \"system\": Provides instructions for classifying the sentiment.\n",
    "            - \"user\": Presents the input message.\n",
    "            - \"assistant\": Contains the expected sentiment answer.\n",
    "        2. Applies the chat template to generate the full prompt.\n",
    "\n",
    "    Parameters:\n",
    "        example (dict): A dictionary with keys:\n",
    "            - 'text': The message to be classified.\n",
    "            - 'str_label': The expected sentiment label.\n",
    "        system_prompt (str): System prompt to use\n",
    "\n",
    "    Returns:\n",
    "        dict: Extended dictionary containing conversational prompts:\n",
    "            - 'prompt': Input task\n",
    "            - 'full_prompt': Full conversation including task label\n",
    "    \"\"\"\n",
    "    # todo()\n",
    "    prompt = [\n",
    "        {\"role\": \"system\", \"content\": system_prompt},\n",
    "        {\"role\": \"user\", \"content\": example[\"text\"]}\n",
    "    ]\n",
    "    full_prompt = [\n",
    "        {\"role\": \"system\", \"content\": system_prompt},\n",
    "        {\"role\": \"user\", \"content\": example[\"text\"]},\n",
    "        {\"role\": \"assistant\", \"content\": example[\"str_label\"]}\n",
    "    ]\n",
    "\n",
    "    prompt = tokenizer.apply_chat_template(prompt, tokenize=False, add_generation_prompt=True)\n",
    "    full_prompt = tokenizer.apply_chat_template(full_prompt, tokenize=False)\n",
    "\n",
    "    return {\n",
    "        \"prompt\": prompt,\n",
    "        \"full_prompt\": full_prompt\n",
    "    }"
   ]
  },
  {
   "cell_type": "code",
   "execution_count": 9,
   "metadata": {
    "colab": {
     "base_uri": "https://localhost:8080/",
     "height": 723,
     "referenced_widgets": [
      "ef746cefd09d421a8e007721adc4c8fd",
      "25a1f92b22334290b339eda775a25c03",
      "0bda2442146842d2b8ab6cb0f520ca1d",
      "8fccde8e3ceb4ccdb44155b0858979de",
      "92b1aeef80b64a359fda24c363d8b364",
      "bde96397230844f89f0fbbe82cf12bd5",
      "c051a07c12394f8b997170fe597896dc",
      "c1e8f83cc7a140f797ba4d36afbff68b",
      "ccfa166e8e424b97b164001eaf7fc1ec",
      "5ebd67cd00dc45b9b0cee658e1c3d02b",
      "8f26d4f4422c48f8a3ea7b7c59a398f0",
      "0f01a42b208545039a5ca9130be4df1c",
      "bebae42b235f49c4a7193cdc1ff73367",
      "cdd71ad080e94ddeb370a968a74d5e69",
      "500c64194ba24607826b6f3a8a5f99b2",
      "1bf2b8d193b74aacb50a294d3b4bd2d3",
      "62f61ce13498470482a86dc3bf3a8258",
      "78f75c778b47424d92839e6e8192330d",
      "d804a3c3170c4334926ac8c8f98732b2",
      "35947e46a16c4a80bece45f50a7804b1",
      "7fa0a2b086d843888d6dd38dc02fba5b",
      "e8a85ef7c1194a1db408b6f3da76cce3",
      "a612fa8c4b234c31bc8544eb31ce5b9b",
      "77003edece494acb82078da4ea2005b9",
      "93163d5087a244558618460a407e65e5",
      "54b71fa7cd2f4614b045eea439975eb7",
      "a26d4427298e4baea0eef860406b6308",
      "1bf8eea130274eb3b0fb28c7d3d971ac",
      "90eed02954c54efaa5484068fbdb2629",
      "dfbcb0a0f5ca468dae57b7f5bcc077e5",
      "e522919a8e684042b34262c6c389cc16",
      "32c8b7bf508249b7bb5f3fcfd14980dc",
      "67db5d0be1bd4dd1b17b1f90f7e95981"
     ]
    },
    "id": "iMA4x4O5joyK",
    "outputId": "ae1b99e9-f2d3-4008-bc01-366d12af589e"
   },
   "outputs": [
    {
     "data": {
      "application/vnd.jupyter.widget-view+json": {
       "model_id": "ef746cefd09d421a8e007721adc4c8fd",
       "version_major": 2,
       "version_minor": 0
      },
      "text/plain": [
       "Map:   0%|          | 0/45615 [00:00<?, ? examples/s]"
      ]
     },
     "metadata": {},
     "output_type": "display_data"
    },
    {
     "data": {
      "application/vnd.jupyter.widget-view+json": {
       "model_id": "0f01a42b208545039a5ca9130be4df1c",
       "version_major": 2,
       "version_minor": 0
      },
      "text/plain": [
       "Map:   0%|          | 0/12284 [00:00<?, ? examples/s]"
      ]
     },
     "metadata": {},
     "output_type": "display_data"
    },
    {
     "data": {
      "application/vnd.jupyter.widget-view+json": {
       "model_id": "a612fa8c4b234c31bc8544eb31ce5b9b",
       "version_major": 2,
       "version_minor": 0
      },
      "text/plain": [
       "Map:   0%|          | 0/2000 [00:00<?, ? examples/s]"
      ]
     },
     "metadata": {},
     "output_type": "display_data"
    },
    {
     "name": "stdout",
     "output_type": "stream",
     "text": [
      "text: \"QT @user In the original draft of the 7th book, Remus Lupin survived the Battle of Hogwarts. #HappyBirthdayRemusLupin\"\n",
      "label: 2\n",
      "str_label: positive\n",
      "prompt: <|im_start|>system\n",
      "You are a tweet sentiment classifier. For each tweet input, analyze its sentiment and output exactly one word: \"negative\", \"neutral\", or \"positive\". Do not include any extra text.<|im_end|>\n",
      "<|im_start|>user\n",
      "\"QT @user In the original draft of the 7th book, Remus Lupin survived the Battle of Hogwarts. #HappyBirthdayRemusLupin\"<|im_end|>\n",
      "<|im_start|>assistant\n",
      "\n",
      "full_prompt: <|im_start|>system\n",
      "You are a tweet sentiment classifier. For each tweet input, analyze its sentiment and output exactly one word: \"negative\", \"neutral\", or \"positive\". Do not include any extra text.<|im_end|>\n",
      "<|im_start|>user\n",
      "\"QT @user In the original draft of the 7th book, Remus Lupin survived the Battle of Hogwarts. #HappyBirthdayRemusLupin\"<|im_end|>\n",
      "<|im_start|>assistant\n",
      "positive<|im_end|>\n",
      "\n",
      "==========\n",
      "text: \"Ben Smith / Smith (concussion) remains out of the lineup Thursday, Curtis #NHL #SJ\"\n",
      "label: 1\n",
      "str_label: neutral\n",
      "prompt: <|im_start|>system\n",
      "You are a tweet sentiment classifier. For each tweet input, analyze its sentiment and output exactly one word: \"negative\", \"neutral\", or \"positive\". Do not include any extra text.<|im_end|>\n",
      "<|im_start|>user\n",
      "\"Ben Smith / Smith (concussion) remains out of the lineup Thursday, Curtis #NHL #SJ\"<|im_end|>\n",
      "<|im_start|>assistant\n",
      "\n",
      "full_prompt: <|im_start|>system\n",
      "You are a tweet sentiment classifier. For each tweet input, analyze its sentiment and output exactly one word: \"negative\", \"neutral\", or \"positive\". Do not include any extra text.<|im_end|>\n",
      "<|im_start|>user\n",
      "\"Ben Smith / Smith (concussion) remains out of the lineup Thursday, Curtis #NHL #SJ\"<|im_end|>\n",
      "<|im_start|>assistant\n",
      "neutral<|im_end|>\n",
      "\n",
      "==========\n"
     ]
    }
   ],
   "source": [
    "for split, data in dataset.items():\n",
    "    dataset[split] = data.map(process_example, fn_kwargs={\"tokenizer\": tokenizer})\n",
    "\n",
    "for i in range(2):\n",
    "    for k, v in dataset[\"train\"][i].items():\n",
    "        print(f\"{k}: {v}\")\n",
    "    print(\"=\" * 10)"
   ]
  },
  {
   "cell_type": "code",
   "execution_count": 10,
   "metadata": {
    "colab": {
     "base_uri": "https://localhost:8080/",
     "height": 793,
     "referenced_widgets": [
      "c212fa202218422f80e3755f003e87de",
      "799e34b8f8a94d2c993155b69724510c",
      "903e9a3cee8643f085ac444d815ca18a",
      "f7af5eb3193448738fcb061311254f13",
      "29246fd3b254435ca9b4bd0645e51b74",
      "4201a07779b747e4a34f90d4583b6e23",
      "7a06035fc17348548f685aa63a051d2a",
      "690e96868d7c4dedaf3e8343af437cac",
      "6eb3be6b969a4f599b4d744db30ae895",
      "ff56ceef6f334ace97e0f0b9fe5eb41c",
      "6229aa93e3644c2fad88d6ff01d339fe",
      "f4499f976fc446f389e6a2c1f83e0670",
      "bb205db5cd2340b89c798a64145c2efb",
      "d693047b924c44cfb249307bdc514dc1",
      "201bb2928ef94013b7439224232ac909",
      "e422dfd1fd7b4020b458cf54f10d490b",
      "272f762767b4481b884743043addf927",
      "c83b1f4787704adba0fdeadc1cf3d803",
      "b9769d21cfd24759956fbc91371d2f6d",
      "8517bf7808284c9b856cba65789b7d89",
      "5357ecd739be4071929d2f06cb4681eb",
      "13689be092db49f6a127855817d1152c",
      "6c4288901c0947d7aec814c1bb204a53",
      "a2573310c653430a93acc5cdfd162364",
      "ea4a9faa208045cbb696a120d9346349",
      "e11ca7b96cb541d384c8977fc9bb7d45",
      "39399d0ab7224dfc959fa1171c45a1f6",
      "65a77a99f75a4adcb3a4a665a12af7e6",
      "663674f231d349f9a1acaa9d825e7fbf",
      "9f77ae4849814dcaa73968828d234b8b",
      "52161e070505400ea548d553d84db09b",
      "463f2c80c6534ed98fea59808c0463d1",
      "c457e24fdf4646cca8c4d333f0082699"
     ]
    },
    "id": "lS8wPkiXjoyK",
    "outputId": "6955193d-d8e1-471d-e9b0-12f18dcb2cd2"
   },
   "outputs": [
    {
     "data": {
      "application/vnd.jupyter.widget-view+json": {
       "model_id": "c212fa202218422f80e3755f003e87de",
       "version_major": 2,
       "version_minor": 0
      },
      "text/plain": [
       "Map:   0%|          | 0/45615 [00:00<?, ? examples/s]"
      ]
     },
     "metadata": {},
     "output_type": "display_data"
    },
    {
     "data": {
      "application/vnd.jupyter.widget-view+json": {
       "model_id": "f4499f976fc446f389e6a2c1f83e0670",
       "version_major": 2,
       "version_minor": 0
      },
      "text/plain": [
       "Map:   0%|          | 0/12284 [00:00<?, ? examples/s]"
      ]
     },
     "metadata": {},
     "output_type": "display_data"
    },
    {
     "data": {
      "application/vnd.jupyter.widget-view+json": {
       "model_id": "6c4288901c0947d7aec814c1bb204a53",
       "version_major": 2,
       "version_minor": 0
      },
      "text/plain": [
       "Map:   0%|          | 0/2000 [00:00<?, ? examples/s]"
      ]
     },
     "metadata": {},
     "output_type": "display_data"
    },
    {
     "name": "stdout",
     "output_type": "stream",
     "text": [
      "text: \"QT @user In the original draft of the 7th book, Remus Lupin survived the Battle of Hogwarts. #HappyBirthdayRemusLupin\"\n",
      "label: 2\n",
      "str_label: positive\n",
      "prompt: <|im_start|>system\n",
      "You are a tweet sentiment classifier. For each tweet input, analyze its sentiment and output exactly one word: \"negative\", \"neutral\", or \"positive\". Do not include any extra text.<|im_end|>\n",
      "<|im_start|>user\n",
      "\"QT @user In the original draft of the 7th book, Remus Lupin survived the Battle of Hogwarts. #HappyBirthdayRemusLupin\"<|im_end|>\n",
      "<|im_start|>assistant\n",
      "\n",
      "full_prompt: <|im_start|>system\n",
      "You are a tweet sentiment classifier. For each tweet input, analyze its sentiment and output exactly one word: \"negative\", \"neutral\", or \"positive\". Do not include any extra text.<|im_end|>\n",
      "<|im_start|>user\n",
      "\"QT @user In the original draft of the 7th book, Remus Lupin survived the Battle of Hogwarts. #HappyBirthdayRemusLupin\"<|im_end|>\n",
      "<|im_start|>assistant\n",
      "positive<|im_end|>\n",
      "\n",
      "input_ids: [1, 32001, 1587, 13, 1976, 460, 264, 9394, 299, 21790, 875, 3591, 28723, 1263, 1430, 9394, 299, 2787, 28725, 20765, 871, 21790, 304, 3825, 4668, 624, 1707, 28747, 345, 23238, 548, 345, 23806, 1650, 548, 442, 345, 1065, 2468, 2586, 2378, 459, 3024, 707, 4210, 2245, 28723, 32000, 28705, 13, 32001, 2188, 13, 28739, 28824, 28738, 802, 1838, 560, 272, 3493, 10449, 302, 272, 28705, 28787, 362, 1820, 28725, 4561, 381, 393, 715, 262, 16761, 272, 13711, 302, 382, 476, 28727, 8060, 28723, 422, 28769, 9813, 28760, 4633, 1466, 5139, 381, 28758, 715, 262, 28739, 32000, 28705, 13, 32001, 13892, 13]\n",
      "full_input_ids: [1, 32001, 1587, 13, 1976, 460, 264, 9394, 299, 21790, 875, 3591, 28723, 1263, 1430, 9394, 299, 2787, 28725, 20765, 871, 21790, 304, 3825, 4668, 624, 1707, 28747, 345, 23238, 548, 345, 23806, 1650, 548, 442, 345, 1065, 2468, 2586, 2378, 459, 3024, 707, 4210, 2245, 28723, 32000, 28705, 13, 32001, 2188, 13, 28739, 28824, 28738, 802, 1838, 560, 272, 3493, 10449, 302, 272, 28705, 28787, 362, 1820, 28725, 4561, 381, 393, 715, 262, 16761, 272, 13711, 302, 382, 476, 28727, 8060, 28723, 422, 28769, 9813, 28760, 4633, 1466, 5139, 381, 28758, 715, 262, 28739, 32000, 28705, 13, 32001, 13892, 13, 1065, 2468, 32000, 28705, 13]\n",
      "==========\n",
      "text: \"Ben Smith / Smith (concussion) remains out of the lineup Thursday, Curtis #NHL #SJ\"\n",
      "label: 1\n",
      "str_label: neutral\n",
      "prompt: <|im_start|>system\n",
      "You are a tweet sentiment classifier. For each tweet input, analyze its sentiment and output exactly one word: \"negative\", \"neutral\", or \"positive\". Do not include any extra text.<|im_end|>\n",
      "<|im_start|>user\n",
      "\"Ben Smith / Smith (concussion) remains out of the lineup Thursday, Curtis #NHL #SJ\"<|im_end|>\n",
      "<|im_start|>assistant\n",
      "\n",
      "full_prompt: <|im_start|>system\n",
      "You are a tweet sentiment classifier. For each tweet input, analyze its sentiment and output exactly one word: \"negative\", \"neutral\", or \"positive\". Do not include any extra text.<|im_end|>\n",
      "<|im_start|>user\n",
      "\"Ben Smith / Smith (concussion) remains out of the lineup Thursday, Curtis #NHL #SJ\"<|im_end|>\n",
      "<|im_start|>assistant\n",
      "neutral<|im_end|>\n",
      "\n",
      "input_ids: [1, 32001, 1587, 13, 1976, 460, 264, 9394, 299, 21790, 875, 3591, 28723, 1263, 1430, 9394, 299, 2787, 28725, 20765, 871, 21790, 304, 3825, 4668, 624, 1707, 28747, 345, 23238, 548, 345, 23806, 1650, 548, 442, 345, 1065, 2468, 2586, 2378, 459, 3024, 707, 4210, 2245, 28723, 32000, 28705, 13, 32001, 2188, 13, 28739, 18113, 6717, 732, 6717, 325, 514, 18637, 28731, 7520, 575, 302, 272, 1407, 715, 10983, 28725, 22050, 278, 422, 28759, 11758, 422, 28735, 28798, 28739, 32000, 28705, 13, 32001, 13892, 13]\n",
      "full_input_ids: [1, 32001, 1587, 13, 1976, 460, 264, 9394, 299, 21790, 875, 3591, 28723, 1263, 1430, 9394, 299, 2787, 28725, 20765, 871, 21790, 304, 3825, 4668, 624, 1707, 28747, 345, 23238, 548, 345, 23806, 1650, 548, 442, 345, 1065, 2468, 2586, 2378, 459, 3024, 707, 4210, 2245, 28723, 32000, 28705, 13, 32001, 2188, 13, 28739, 18113, 6717, 732, 6717, 325, 514, 18637, 28731, 7520, 575, 302, 272, 1407, 715, 10983, 28725, 22050, 278, 422, 28759, 11758, 422, 28735, 28798, 28739, 32000, 28705, 13, 32001, 13892, 13, 23806, 1650, 32000, 28705, 13]\n",
      "==========\n"
     ]
    }
   ],
   "source": [
    "def tokenization(example, *, tokenizer, max_length=256):\n",
    "    \"\"\"Tokenize both prompt and full prompt and\n",
    "    save result in `input_ids` and `full_input_ids` keys along with original keys\n",
    "    \"\"\"\n",
    "    # todo()\n",
    "    input_ids = tokenizer(example[\"prompt\"], max_length=max_length, truncation=True)[\"input_ids\"]\n",
    "    full_input_ids = tokenizer(example[\"full_prompt\"], max_length=max_length, truncation=True)[\"input_ids\"]\n",
    "    return {\n",
    "        \"input_ids\": input_ids,\n",
    "        \"full_input_ids\": full_input_ids\n",
    "    }\n",
    "\n",
    "\n",
    "for split, data in dataset.items():\n",
    "    dataset[split] = data.map(tokenization, batched=True, fn_kwargs={\"tokenizer\": tokenizer})\n",
    "\n",
    "for i in range(2):\n",
    "    for k, v in dataset[\"train\"][i].items():\n",
    "        print(f\"{k}: {v}\")\n",
    "    print(\"=\" * 10)"
   ]
  },
  {
   "cell_type": "markdown",
   "metadata": {
    "id": "iujjPbgZJYGp"
   },
   "source": [
    "Попробуем решить задачу исходной моделью!"
   ]
  },
  {
   "cell_type": "code",
   "execution_count": 11,
   "metadata": {
    "colab": {
     "base_uri": "https://localhost:8080/"
    },
    "id": "tDY0RXhlB07s",
    "outputId": "3f7a7dc7-6f23-450e-8694-81f30141123d"
   },
   "outputs": [
    {
     "name": "stdout",
     "output_type": "stream",
     "text": [
      "\"QT @user In the original draft of the 7th book, Remus Lupin survived the Battle of Hogwarts. #HappyBirthdayRemusLupin\"\n",
      "positive\n",
      "The tweet \"QT @user In the original draft of the 7\n",
      "==========\n",
      "\"Ben Smith / Smith (concussion) remains out of the lineup Thursday, Curtis #NHL #SJ\"\n",
      "neutral\n",
      "The tweet \"Ben Smith / Smith (concussion) remains out of the\n",
      "==========\n",
      "Sorry bout the stream last night I crashed out but will be on tonight for sure. Then back to Minecraft in pc tomorrow night.\n",
      "neutral\n",
      "The stream last night was a bit of a disappointment. I had a great time\n",
      "==========\n",
      "Chase Headley's RBI double in the 8th inning off David Price snapped a Yankees streak of 33 consecutive scoreless innings against Blue Jays\n",
      "neutral\n",
      "The tweet \"Negative\" is a positive sentiment. \n",
      "==========\n",
      "@user Alciato: Bee will invest 150 million in January, another 200 in the Summer and plans to bring Messi by 2017\"\n",
      "positive\n",
      "The tweet \"Alciato: Bee will invest 150\n",
      "==========\n"
     ]
    }
   ],
   "source": [
    "def generate_class(model, tokenizer, input_ids):\n",
    "    output_ids = model.generate(input_ids, max_new_tokens=16)\n",
    "    generated_text = tokenizer.decode(output_ids[0][len(input_ids[0]) :], skip_special_tokens=True)\n",
    "    return generated_text\n",
    "\n",
    "\n",
    "for i in range(5):\n",
    "    input_ids = torch.tensor([dataset[\"train\"][i][\"input_ids\"]], device=DEVICE)\n",
    "    generated_text = generate_class(model, tokenizer, input_ids)\n",
    "    print(dataset[\"train\"][i][\"text\"])\n",
    "    print(dataset[\"train\"][i][\"str_label\"])\n",
    "    print(generated_text)\n",
    "    print(\"=\" * 10)"
   ]
  },
  {
   "cell_type": "markdown",
   "metadata": {
    "id": "dx0Uj4riJYGp"
   },
   "source": [
    "Если вам повезло, после слова `assistant` вы увидите определение сентиментальности входящего текста. Однако, скорее всего, модель не обучена возвращать исключительно название тональности, поэтому необходим постпроцессинг ответа. Рассмотрим самый простой способ его реализации."
   ]
  },
  {
   "cell_type": "markdown",
   "metadata": {
    "id": "JTxJZ3ZgJYGp"
   },
   "source": [
    "## Bonus: постпроцессинг [1 балл]"
   ]
  },
  {
   "cell_type": "markdown",
   "metadata": {
    "id": "FZ8zHFD3JYGp"
   },
   "source": [
    "Ниже приведена базовая реализация функции для выделения сентиментальности текста. Однако текущая реализация имеет несколько недостатков: она может не учитывать нестандартное форматирование ответа модели, дополнительные символы или ошибки пунктуации. У вас есть возможность улучшить эту функцию, обосновать выявленные ограничения и предложить более продвинутую версию, способную корректно обрабатывать различные варианты вывода модели.\n",
    "\n",
    "Если вы не хотите в этом копаться, то просто пропустите задание"
   ]
  },
  {
   "cell_type": "code",
   "execution_count": 12,
   "metadata": {
    "id": "QwFX6rtOyx0A"
   },
   "outputs": [],
   "source": [
    "def postprocess_sentiment(output_text: str) -> str:\n",
    "    \"\"\"\n",
    "    Extracts the sentiment classification (\"positive\" or \"negative\") from the model's output text.\n",
    "\n",
    "    Process:\n",
    "        1. Splits the output at the first occurrence of the keyword \"assistant\" and processes the text after it.\n",
    "        2. Uses a regular expression to search for the first occurrence of the words \"positive\" or \"negative\" (ignoring case).\n",
    "        3. Returns the found sentiment in lowercase. If no match is found, returns an empty string.\n",
    "\n",
    "    Parameters:\n",
    "        output_text (str): The complete text output from the model, including conversation headers.\n",
    "\n",
    "    Returns:\n",
    "        str: The sentiment classification or empty string\n",
    "    \"\"\"\n",
    "\n",
    "\n",
    "    segments = re.split(rf'\\bassistant\\b[:\\s]*', output_text, flags=re.IGNORECASE)\n",
    "\n",
    "    text_to_process = segments[-1] if len(segments) > 1 else output_text\n",
    "\n",
    "    cleaned_text = re.sub(rf'[^\\w\\s]', ' ', text_to_process)\n",
    "\n",
    "    match = re.search(rf\"\\b({'|'.join(IDX2NAME.values())})\\b\", cleaned_text, flags=re.IGNORECASE)\n",
    "    return match.group(1).lower() if match else \"\""
   ]
  },
  {
   "cell_type": "code",
   "execution_count": 13,
   "metadata": {
    "colab": {
     "base_uri": "https://localhost:8080/",
     "height": 35
    },
    "id": "65agkcwRJYGp",
    "outputId": "b821e50f-172d-40db-dd7e-5c0b28d4fc7a"
   },
   "outputs": [
    {
     "data": {
      "application/vnd.google.colaboratory.intrinsic+json": {
       "type": "string"
      },
      "text/plain": [
       "'neutral'"
      ]
     },
     "execution_count": 13,
     "metadata": {},
     "output_type": "execute_result"
    }
   ],
   "source": [
    "postprocess_sentiment(\"This text is neutral, not positive or negative\")"
   ]
  },
  {
   "cell_type": "markdown",
   "metadata": {
    "id": "hv41I7wEJYGp"
   },
   "source": [
    "## Оценка модели"
   ]
  },
  {
   "cell_type": "markdown",
   "metadata": {
    "id": "u90EX9_aJYGp"
   },
   "source": [
    "Давайте оценим качество нашей модели. Для этого напишем функцию `eval`, которая принимает модель и датасет, генерирует для каждого примера предсказание и вычисляет точность классификации, сравнивая полученные результаты с истинными метками. Построим матрицу ошибок и посчитаем f1 для каждого класса."
   ]
  },
  {
   "cell_type": "code",
   "execution_count": 17,
   "metadata": {
    "id": "gP0dtwuarVIX"
   },
   "outputs": [],
   "source": [
    "def pad(tensors: list[torch.Tensor], padding_value: int = 0, padding_side: str = \"left\") -> torch.Tensor:\n",
    "    \"\"\"Pads a list of tensors to the same size along their leading dimension.\n",
    "\n",
    "    Args:\n",
    "        tensors (list[torch.Tensor]): A list of tensors to be padded.\n",
    "            All tensors in the list should be of the same type and device.\n",
    "        padding_value (int, default=0): The value used to pad the tensors.\n",
    "        padding_side (str, default=\"right\"): Specifies which side of the tensor to apply padding: either 'left' or 'right'.\n",
    "\n",
    "    Returns:\n",
    "        torch.Tensor: A tensor containing all the padded tensors, [N; max_length]\n",
    "            where N is the number of tensors and `max_length` is the shape of the largest tensor.\n",
    "    \"\"\"\n",
    "    max_length = max(tensor.size(0) for tensor in tensors)\n",
    "    trailing_dims = tensors[0].size()[1:]\n",
    "    padded_shape = (len(tensors), max_length) + trailing_dims\n",
    "    padding_tensor = torch.full(padded_shape, padding_value, device=tensors[0].device)\n",
    "\n",
    "    for i, tensor in enumerate(tensors):\n",
    "        length = len(tensor)\n",
    "        if padding_side == \"right\":\n",
    "            padding_tensor[i, :length, ...] = tensor\n",
    "        elif padding_side == \"left\":\n",
    "            padding_tensor[i, -length:, ...] = tensor\n",
    "\n",
    "    return padding_tensor"
   ]
  },
  {
   "cell_type": "code",
   "execution_count": 18,
   "metadata": {
    "id": "0pAZcUQoJYGp"
   },
   "outputs": [],
   "source": [
    "@torch.inference_mode\n",
    "def eval(model, dataset, tokenizer, show_conf_m=True, batch_size=100):\n",
    "    \"\"\"Evaluates the given model on the provided dataset.\n",
    "\n",
    "    Parameters:\n",
    "        model: The language model used for generating sentiment predictions.\n",
    "        dataset: An iterable collection of examples, where each example is a dict with keys:\n",
    "            - \"input_ids\": The input text message.\n",
    "            - \"str_label\": The ground truth sentiment label (e.g., \"positive\" or \"negative\").\n",
    "\n",
    "    Returns:\n",
    "        float: The macro f1 score\n",
    "    \"\"\"\n",
    "    name2idx = {v: k for k, v in IDX2NAME.items()}\n",
    "    name2idx[\"\"] = len(name2idx)\n",
    "    ground_truth = []\n",
    "    predicted = []\n",
    "\n",
    "    for examples in tqdm(dataset.batch(batch_size)):\n",
    "        input_ids = pad(list(map(torch.tensor, examples[\"input_ids\"])), padding_value=tokenizer.pad_token_id).to(DEVICE)\n",
    "        attention_mask = pad(list(map(lambda it: torch.ones(len(it)), examples[\"input_ids\"])), padding_value=0).to(\n",
    "            DEVICE\n",
    "        )\n",
    "        output_ids = model.generate(input_ids, attention_mask=attention_mask, max_new_tokens=16)\n",
    "        shrinked_ids = output_ids[:, input_ids.shape[1] :]\n",
    "        texts = tokenizer.batch_decode(shrinked_ids, skip_special_tokens=True, clean_up_tokenization_spaces=True)\n",
    "\n",
    "        for i in range(len(examples[\"str_label\"])):\n",
    "            predicted_sentiment = postprocess_sentiment(texts[i])\n",
    "            ground_truth.append(name2idx[examples[\"str_label\"][i]])\n",
    "            predicted.append(name2idx[predicted_sentiment])\n",
    "\n",
    "    if show_conf_m:\n",
    "        conf_m = confusion_matrix(ground_truth, predicted, labels=list(name2idx.values()))\n",
    "        disp = ConfusionMatrixDisplay(conf_m, display_labels=list(name2idx.keys()))\n",
    "        disp.plot(cmap = 'Blues')\n",
    "\n",
    "    f1 = f1_score(ground_truth, predicted, labels=list(name2idx.values()), average=\"macro\", zero_division=0.0)\n",
    "    return f1"
   ]
  },
  {
   "cell_type": "code",
   "execution_count": 19,
   "metadata": {
    "colab": {
     "base_uri": "https://localhost:8080/",
     "height": 530,
     "referenced_widgets": [
      "397a83a0299542e5a930648f9dda030a",
      "553acf6213fd49969ba94043a3bbab22",
      "133ec9bc305d477ebd45bd465d02d097",
      "506d27728b0445df95a9d97ac05d407d",
      "fb2328ae87a440d793067be840bc2a87",
      "ed2d472543014d6d8e69797462f8b588",
      "d669a51695454013ad4677f176f23410",
      "c4736d29fbc44cc0a3b547d485181943",
      "a99439d893d949a39d972dd2d9066a97",
      "3a29f0dd97714f49af72fd5cd615f16a",
      "69f9b2d6727d40cda59a055af50f646b",
      "53070d1e69bb4a4a9f6cf6ecc76c13cd",
      "21a870f70808471db935722fcba8a424",
      "ce3e78ada1f64921bb5fe1e5a61aefa9",
      "617d2792d1cf4a51934318ec787ded89",
      "337666cd4ec54ae38dfc9bea5ccf8211",
      "147458f9fb4c4d039b3ac4d77726f458",
      "aa0deb4a8d65480a9d138a50a99a2d40",
      "53eec9368ebe482990d1c411e285132d",
      "721a3f36e0384ed5b90a61ac46767381",
      "9f4e878dfbf843ab95cea4eb324364b7",
      "5e623b5944d04ee5b760040099a6fa13"
     ]
    },
    "id": "6PWl_vqvn7qL",
    "outputId": "25f8e918-afcb-49ea-cf84-a489bd979078"
   },
   "outputs": [
    {
     "data": {
      "application/vnd.jupyter.widget-view+json": {
       "model_id": "397a83a0299542e5a930648f9dda030a",
       "version_major": 2,
       "version_minor": 0
      },
      "text/plain": [
       "Batching examples:   0%|          | 0/12284 [00:00<?, ? examples/s]"
      ]
     },
     "metadata": {},
     "output_type": "display_data"
    },
    {
     "data": {
      "application/vnd.jupyter.widget-view+json": {
       "model_id": "53070d1e69bb4a4a9f6cf6ecc76c13cd",
       "version_major": 2,
       "version_minor": 0
      },
      "text/plain": [
       "  0%|          | 0/123 [00:00<?, ?it/s]"
      ]
     },
     "metadata": {},
     "output_type": "display_data"
    },
    {
     "name": "stdout",
     "output_type": "stream",
     "text": [
      "Initial Macro F1: 0.06\n"
     ]
    },
    {
     "data": {
      "image/png": "[encoded data removed]",
      "text/plain": [
       "<Figure size 640x480 with 2 Axes>"
      ]
     },
     "metadata": {},
     "output_type": "display_data"
    }
   ],
   "source": [
    "initial_f1 = eval(model, dataset[\"test\"], tokenizer)\n",
    "print(f\"Initial Macro F1: {initial_f1:.2f}\")"
   ]
  },
  {
   "cell_type": "markdown",
   "metadata": {
    "id": "gjP2PLRWtofz"
   },
   "source": [
    "# LoRA: [Low-Rank Adaptation of Large Language Models](https://arxiv.org/abs/2106.09685)"
   ]
  },
  {
   "cell_type": "markdown",
   "metadata": {
    "id": "ECs_d4pzeCMo"
   },
   "source": [
    "В традиционном fine-tuning больших языковых моделей требуется обновление огромного числа параметров, что приводит к высоким вычислительным затратам и потреблению памяти. Метод LoRA решает эту проблему, вводя низкоранговые обновления весов.\n",
    "\n",
    "Пусть $(W_0 \\in \\mathbb{R}^{d \\times k})$ - исходная матрица весов модели. При адаптации модели предполагается, что обновление весов можно аппроксимировать матрицей низкого ранга:\n",
    "$$\n",
    "\\Delta W = BA, \\quad B \\in \\mathbb{R}^{d \\times r}, \\quad A \\in \\mathbb{R}^{r \\times k},\n",
    "$$\n",
    "где $r \\ll \\min(d, k)$.\n",
    "\n",
    "Обновлённая матрица весов записывается как:\n",
    "$$\n",
    "W = W_0 + \\Delta W = W_0 + B A.\n",
    "$$\n",
    "\n",
    "Основная идея заключается в том, чтобы заморозить исходные параметры $W_0$ и обучать только матрицы $A$ и $B$. Это существенно уменьшает число обучаемых параметров, так как их суммарное количество равно $r \\times (d+k)$ по сравнению с $d \\times k$ для полной матрицы $W$.\n",
    "\n",
    "Матрицу $A$ рекомендуется инициализировать нормальным распределением $N(0, \\frac{1}{\\sqrt{r}})$, а матрицу $B$ нулями. Также не забывайте про скейлинг $\\Delta Wx$ на $\\frac{\\alpha}{r}$, где $\\alpha$ гипер-параметр. Во время обучения его можно зафиксировать $\\alpha=16$."
   ]
  },
  {
   "cell_type": "markdown",
   "metadata": {
    "id": "O6TIqiboJYGp"
   },
   "source": [
    "## Адаптиация модели с LoRA слоями [4 балла]\n",
    "\n",
    "В этом задачнии вам потребуется:\n",
    "1. Дописать класс `LoRALayer` который заменит слои модели\n",
    "2. Дописать функцию рекурсивного обхода модели, чтобы применить к ней `LinearWithLoRA`\n",
    "3. Обновить модель"
   ]
  },
  {
   "cell_type": "code",
   "execution_count": 20,
   "metadata": {
    "id": "QuGAjHP_tof0"
   },
   "outputs": [],
   "source": [
    "class LoRALayer(nn.Module):\n",
    "    \"\"\"Implements a low-rank adaptation layer for a linear transformation.\n",
    "    This layer introduces a trainable low-rank update to the input tensor.\n",
    "\n",
    "    The forward computation is defined as:\n",
    "        output = alpha * (x @ A @ B)\n",
    "\n",
    "    Attributes:\n",
    "        B (nn.Parameter): A weight matrix of shape (in_dim, rank), initialized to zeros.\n",
    "        A (nn.Parameter): A weight matrix of shape (rank, out_dim), initialized with random values\n",
    "                            scaled by 1/sqrt(rank).\n",
    "        alpha (float): A scaling factor for the low-rank update.\n",
    "    \"\"\"\n",
    "\n",
    "    def __init__(self, in_dim, out_dim, rank, alpha):\n",
    "        super().__init__()\n",
    "        scale = 1 / torch.sqrt(torch.tensor(rank).float())\n",
    "        self.A = nn.Parameter(torch.randn(in_dim, rank) * scale)\n",
    "        self.B = nn.Parameter(torch.zeros(rank, out_dim))\n",
    "        self.alpha = alpha\n",
    "\n",
    "    def forward(self, x):\n",
    "        return self.alpha * (x @ self.A @ self.B)\n",
    "\n",
    "\n",
    "class LinearWithLoRA(nn.Module):\n",
    "    \"\"\"Combines a standard linear layer with a LoRA (Low-Rank Adaptation) layer.\n",
    "    The forward pass returns the sum of the output of the linear layer and the low-rank update.\n",
    "\n",
    "    Attributes:\n",
    "        linear (nn.Module): The original linear layer.\n",
    "        lora (LoRALayer): The low-rank adaptation layer configured with matching input and output dimensions.\n",
    "    \"\"\"\n",
    "\n",
    "    def __init__(self, linear, rank, alpha):\n",
    "        super().__init__()\n",
    "        self.linear = linear\n",
    "        self.lora = LoRALayer(linear.in_features, linear.out_features, rank, alpha)\n",
    "\n",
    "    def forward(self, x):\n",
    "        return self.linear(x) + self.lora(x)"
   ]
  },
  {
   "cell_type": "code",
   "execution_count": 21,
   "metadata": {
    "id": "p62AfaNDeFsd"
   },
   "outputs": [],
   "source": [
    "def apply_peft_to_module(model, adapter_class, r, alpha, target_submodules):\n",
    "    \"\"\"Recursively applies a parameter-efficient fine-tuning (PEFT) adapter to target submodules within a model.\n",
    "\n",
    "    This function traverses the model's children recursively. For each submodule whose name contains any\n",
    "    of the strings specified in 'target_submodules', it wraps the submodule using the provided adapter class.\n",
    "\n",
    "    Args:\n",
    "        model (nn.Module): The neural network model to modify.\n",
    "        adapter_class (nn.Module): The adapter class (e.g., LoRALayer or LinearWithLoRA) used to wrap target submodules.\n",
    "        r (int): The rank parameter for the adapter.\n",
    "        alpha (float): The scaling factor for the low-rank update.\n",
    "        target_submodules (list of str): A list of substrings to match against submodule names for applying the adapter.\n",
    "\n",
    "    Returns:\n",
    "        None. The function updates the model in-place.\n",
    "    \"\"\"\n",
    "    def _apply_peft_to_module(module, target_submodules, current_name=\"\"):\n",
    "        for name, child in module.named_children():\n",
    "            layer_name = f\"{current_name}.{name}\" if current_name else name\n",
    "            if name in target_submodules:\n",
    "                adapter_layer = adapter_class(child, r, alpha).to(model.device)\n",
    "                setattr(module, name, adapter_layer)\n",
    "            else:\n",
    "                _apply_peft_to_module(child, target_submodules, layer_name)\n",
    "    _apply_peft_to_module(model, target_submodules)"
   ]
  },
  {
   "cell_type": "markdown",
   "metadata": {
    "id": "NSM6Sf1leCMp"
   },
   "source": [
    "### Применим наш LoRA adapter к нашей модели\n",
    "\n",
    "Обычно для дешевого обучения достаточно применить LoRA к слоям для ключей `k_proj` и значений `v_proj`. Однако, если вы уверены в своих действиях, то не воспрещается обучать и другие слои с помощью LoRA :)"
   ]
  },
  {
   "cell_type": "code",
   "execution_count": 22,
   "metadata": {
    "id": "mO0GEFD9eCMp"
   },
   "outputs": [],
   "source": [
    "# Примените peft к модели\n",
    "apply_peft_to_module(model, LinearWithLoRA, r=8, alpha=16, target_submodules=[\"k_proj\", \"v_proj\"])"
   ]
  },
  {
   "cell_type": "code",
   "execution_count": 23,
   "metadata": {
    "colab": {
     "base_uri": "https://localhost:8080/"
    },
    "id": "T5dI0p3Ttof2",
    "outputId": "1ce40608-ffc6-4d07-8cb1-b1234bb55a4d"
   },
   "outputs": [
    {
     "name": "stdout",
     "output_type": "stream",
     "text": [
      "model.embed_tokens.weight: False\n",
      "model.layers.0.self_attn.q_proj.weight: False\n",
      "model.layers.0.self_attn.k_proj.linear.weight: False\n",
      "model.layers.0.self_attn.k_proj.lora.A: True\n",
      "model.layers.0.self_attn.k_proj.lora.B: True\n",
      "model.layers.0.self_attn.v_proj.linear.weight: False\n",
      "model.layers.0.self_attn.v_proj.lora.A: True\n",
      "model.layers.0.self_attn.v_proj.lora.B: True\n",
      "model.layers.0.self_attn.o_proj.weight: False\n",
      "model.layers.0.mlp.gate_proj.weight: False\n",
      "model.layers.0.mlp.up_proj.weight: False\n",
      "model.layers.0.mlp.down_proj.weight: False\n",
      "model.layers.0.input_layernorm.weight: False\n",
      "model.layers.0.post_attention_layernorm.weight: False\n",
      "model.layers.1.self_attn.q_proj.weight: False\n",
      "model.layers.1.self_attn.k_proj.linear.weight: False\n",
      "model.layers.1.self_attn.k_proj.lora.A: True\n",
      "model.layers.1.self_attn.k_proj.lora.B: True\n",
      "model.layers.1.self_attn.v_proj.linear.weight: False\n",
      "model.layers.1.self_attn.v_proj.lora.A: True\n",
      "model.layers.1.self_attn.v_proj.lora.B: True\n",
      "model.layers.1.self_attn.o_proj.weight: False\n",
      "model.layers.1.mlp.gate_proj.weight: False\n",
      "model.layers.1.mlp.up_proj.weight: False\n",
      "model.layers.1.mlp.down_proj.weight: False\n",
      "model.layers.1.input_layernorm.weight: False\n",
      "model.layers.1.post_attention_layernorm.weight: False\n",
      "model.layers.2.self_attn.q_proj.weight: False\n",
      "model.layers.2.self_attn.k_proj.linear.weight: False\n",
      "model.layers.2.self_attn.k_proj.lora.A: True\n",
      "model.layers.2.self_attn.k_proj.lora.B: True\n",
      "model.layers.2.self_attn.v_proj.linear.weight: False\n",
      "model.layers.2.self_attn.v_proj.lora.A: True\n",
      "model.layers.2.self_attn.v_proj.lora.B: True\n",
      "model.layers.2.self_attn.o_proj.weight: False\n",
      "model.layers.2.mlp.gate_proj.weight: False\n",
      "model.layers.2.mlp.up_proj.weight: False\n",
      "model.layers.2.mlp.down_proj.weight: False\n",
      "model.layers.2.input_layernorm.weight: False\n",
      "model.layers.2.post_attention_layernorm.weight: False\n",
      "model.layers.3.self_attn.q_proj.weight: False\n",
      "model.layers.3.self_attn.k_proj.linear.weight: False\n",
      "model.layers.3.self_attn.k_proj.lora.A: True\n",
      "model.layers.3.self_attn.k_proj.lora.B: True\n",
      "model.layers.3.self_attn.v_proj.linear.weight: False\n",
      "model.layers.3.self_attn.v_proj.lora.A: True\n",
      "model.layers.3.self_attn.v_proj.lora.B: True\n",
      "model.layers.3.self_attn.o_proj.weight: False\n",
      "model.layers.3.mlp.gate_proj.weight: False\n",
      "model.layers.3.mlp.up_proj.weight: False\n",
      "model.layers.3.mlp.down_proj.weight: False\n",
      "model.layers.3.input_layernorm.weight: False\n",
      "model.layers.3.post_attention_layernorm.weight: False\n",
      "model.layers.4.self_attn.q_proj.weight: False\n",
      "model.layers.4.self_attn.k_proj.linear.weight: False\n",
      "model.layers.4.self_attn.k_proj.lora.A: True\n",
      "model.layers.4.self_attn.k_proj.lora.B: True\n",
      "model.layers.4.self_attn.v_proj.linear.weight: False\n",
      "model.layers.4.self_attn.v_proj.lora.A: True\n",
      "model.layers.4.self_attn.v_proj.lora.B: True\n",
      "model.layers.4.self_attn.o_proj.weight: False\n",
      "model.layers.4.mlp.gate_proj.weight: False\n",
      "model.layers.4.mlp.up_proj.weight: False\n",
      "model.layers.4.mlp.down_proj.weight: False\n",
      "model.layers.4.input_layernorm.weight: False\n",
      "model.layers.4.post_attention_layernorm.weight: False\n",
      "model.layers.5.self_attn.q_proj.weight: False\n",
      "model.layers.5.self_attn.k_proj.linear.weight: False\n",
      "model.layers.5.self_attn.k_proj.lora.A: True\n",
      "model.layers.5.self_attn.k_proj.lora.B: True\n",
      "model.layers.5.self_attn.v_proj.linear.weight: False\n",
      "model.layers.5.self_attn.v_proj.lora.A: True\n",
      "model.layers.5.self_attn.v_proj.lora.B: True\n",
      "model.layers.5.self_attn.o_proj.weight: False\n",
      "model.layers.5.mlp.gate_proj.weight: False\n",
      "model.layers.5.mlp.up_proj.weight: False\n",
      "model.layers.5.mlp.down_proj.weight: False\n",
      "model.layers.5.input_layernorm.weight: False\n",
      "model.layers.5.post_attention_layernorm.weight: False\n",
      "model.layers.6.self_attn.q_proj.weight: False\n",
      "model.layers.6.self_attn.k_proj.linear.weight: False\n",
      "model.layers.6.self_attn.k_proj.lora.A: True\n",
      "model.layers.6.self_attn.k_proj.lora.B: True\n",
      "model.layers.6.self_attn.v_proj.linear.weight: False\n",
      "model.layers.6.self_attn.v_proj.lora.A: True\n",
      "model.layers.6.self_attn.v_proj.lora.B: True\n",
      "model.layers.6.self_attn.o_proj.weight: False\n",
      "model.layers.6.mlp.gate_proj.weight: False\n",
      "model.layers.6.mlp.up_proj.weight: False\n",
      "model.layers.6.mlp.down_proj.weight: False\n",
      "model.layers.6.input_layernorm.weight: False\n",
      "model.layers.6.post_attention_layernorm.weight: False\n",
      "model.layers.7.self_attn.q_proj.weight: False\n",
      "model.layers.7.self_attn.k_proj.linear.weight: False\n",
      "model.layers.7.self_attn.k_proj.lora.A: True\n",
      "model.layers.7.self_attn.k_proj.lora.B: True\n",
      "model.layers.7.self_attn.v_proj.linear.weight: False\n",
      "model.layers.7.self_attn.v_proj.lora.A: True\n",
      "model.layers.7.self_attn.v_proj.lora.B: True\n",
      "model.layers.7.self_attn.o_proj.weight: False\n",
      "model.layers.7.mlp.gate_proj.weight: False\n",
      "model.layers.7.mlp.up_proj.weight: False\n",
      "model.layers.7.mlp.down_proj.weight: False\n",
      "model.layers.7.input_layernorm.weight: False\n",
      "model.layers.7.post_attention_layernorm.weight: False\n",
      "model.layers.8.self_attn.q_proj.weight: False\n",
      "model.layers.8.self_attn.k_proj.linear.weight: False\n",
      "model.layers.8.self_attn.k_proj.lora.A: True\n",
      "model.layers.8.self_attn.k_proj.lora.B: True\n",
      "model.layers.8.self_attn.v_proj.linear.weight: False\n",
      "model.layers.8.self_attn.v_proj.lora.A: True\n",
      "model.layers.8.self_attn.v_proj.lora.B: True\n",
      "model.layers.8.self_attn.o_proj.weight: False\n",
      "model.layers.8.mlp.gate_proj.weight: False\n",
      "model.layers.8.mlp.up_proj.weight: False\n",
      "model.layers.8.mlp.down_proj.weight: False\n",
      "model.layers.8.input_layernorm.weight: False\n",
      "model.layers.8.post_attention_layernorm.weight: False\n",
      "model.layers.9.self_attn.q_proj.weight: False\n",
      "model.layers.9.self_attn.k_proj.linear.weight: False\n",
      "model.layers.9.self_attn.k_proj.lora.A: True\n",
      "model.layers.9.self_attn.k_proj.lora.B: True\n",
      "model.layers.9.self_attn.v_proj.linear.weight: False\n",
      "model.layers.9.self_attn.v_proj.lora.A: True\n",
      "model.layers.9.self_attn.v_proj.lora.B: True\n",
      "model.layers.9.self_attn.o_proj.weight: False\n",
      "model.layers.9.mlp.gate_proj.weight: False\n",
      "model.layers.9.mlp.up_proj.weight: False\n",
      "model.layers.9.mlp.down_proj.weight: False\n",
      "model.layers.9.input_layernorm.weight: False\n",
      "model.layers.9.post_attention_layernorm.weight: False\n",
      "model.layers.10.self_attn.q_proj.weight: False\n",
      "model.layers.10.self_attn.k_proj.linear.weight: False\n",
      "model.layers.10.self_attn.k_proj.lora.A: True\n",
      "model.layers.10.self_attn.k_proj.lora.B: True\n",
      "model.layers.10.self_attn.v_proj.linear.weight: False\n",
      "model.layers.10.self_attn.v_proj.lora.A: True\n",
      "model.layers.10.self_attn.v_proj.lora.B: True\n",
      "model.layers.10.self_attn.o_proj.weight: False\n",
      "model.layers.10.mlp.gate_proj.weight: False\n",
      "model.layers.10.mlp.up_proj.weight: False\n",
      "model.layers.10.mlp.down_proj.weight: False\n",
      "model.layers.10.input_layernorm.weight: False\n",
      "model.layers.10.post_attention_layernorm.weight: False\n",
      "model.layers.11.self_attn.q_proj.weight: False\n",
      "model.layers.11.self_attn.k_proj.linear.weight: False\n",
      "model.layers.11.self_attn.k_proj.lora.A: True\n",
      "model.layers.11.self_attn.k_proj.lora.B: True\n",
      "model.layers.11.self_attn.v_proj.linear.weight: False\n",
      "model.layers.11.self_attn.v_proj.lora.A: True\n",
      "model.layers.11.self_attn.v_proj.lora.B: True\n",
      "model.layers.11.self_attn.o_proj.weight: False\n",
      "model.layers.11.mlp.gate_proj.weight: False\n",
      "model.layers.11.mlp.up_proj.weight: False\n",
      "model.layers.11.mlp.down_proj.weight: False\n",
      "model.layers.11.input_layernorm.weight: False\n",
      "model.layers.11.post_attention_layernorm.weight: False\n",
      "model.layers.12.self_attn.q_proj.weight: False\n",
      "model.layers.12.self_attn.k_proj.linear.weight: False\n",
      "model.layers.12.self_attn.k_proj.lora.A: True\n",
      "model.layers.12.self_attn.k_proj.lora.B: True\n",
      "model.layers.12.self_attn.v_proj.linear.weight: False\n",
      "model.layers.12.self_attn.v_proj.lora.A: True\n",
      "model.layers.12.self_attn.v_proj.lora.B: True\n",
      "model.layers.12.self_attn.o_proj.weight: False\n",
      "model.layers.12.mlp.gate_proj.weight: False\n",
      "model.layers.12.mlp.up_proj.weight: False\n",
      "model.layers.12.mlp.down_proj.weight: False\n",
      "model.layers.12.input_layernorm.weight: False\n",
      "model.layers.12.post_attention_layernorm.weight: False\n",
      "model.layers.13.self_attn.q_proj.weight: False\n",
      "model.layers.13.self_attn.k_proj.linear.weight: False\n",
      "model.layers.13.self_attn.k_proj.lora.A: True\n",
      "model.layers.13.self_attn.k_proj.lora.B: True\n",
      "model.layers.13.self_attn.v_proj.linear.weight: False\n",
      "model.layers.13.self_attn.v_proj.lora.A: True\n",
      "model.layers.13.self_attn.v_proj.lora.B: True\n",
      "model.layers.13.self_attn.o_proj.weight: False\n",
      "model.layers.13.mlp.gate_proj.weight: False\n",
      "model.layers.13.mlp.up_proj.weight: False\n",
      "model.layers.13.mlp.down_proj.weight: False\n",
      "model.layers.13.input_layernorm.weight: False\n",
      "model.layers.13.post_attention_layernorm.weight: False\n",
      "model.layers.14.self_attn.q_proj.weight: False\n",
      "model.layers.14.self_attn.k_proj.linear.weight: False\n",
      "model.layers.14.self_attn.k_proj.lora.A: True\n",
      "model.layers.14.self_attn.k_proj.lora.B: True\n",
      "model.layers.14.self_attn.v_proj.linear.weight: False\n",
      "model.layers.14.self_attn.v_proj.lora.A: True\n",
      "model.layers.14.self_attn.v_proj.lora.B: True\n",
      "model.layers.14.self_attn.o_proj.weight: False\n",
      "model.layers.14.mlp.gate_proj.weight: False\n",
      "model.layers.14.mlp.up_proj.weight: False\n",
      "model.layers.14.mlp.down_proj.weight: False\n",
      "model.layers.14.input_layernorm.weight: False\n",
      "model.layers.14.post_attention_layernorm.weight: False\n",
      "model.layers.15.self_attn.q_proj.weight: False\n",
      "model.layers.15.self_attn.k_proj.linear.weight: False\n",
      "model.layers.15.self_attn.k_proj.lora.A: True\n",
      "model.layers.15.self_attn.k_proj.lora.B: True\n",
      "model.layers.15.self_attn.v_proj.linear.weight: False\n",
      "model.layers.15.self_attn.v_proj.lora.A: True\n",
      "model.layers.15.self_attn.v_proj.lora.B: True\n",
      "model.layers.15.self_attn.o_proj.weight: False\n",
      "model.layers.15.mlp.gate_proj.weight: False\n",
      "model.layers.15.mlp.up_proj.weight: False\n",
      "model.layers.15.mlp.down_proj.weight: False\n",
      "model.layers.15.input_layernorm.weight: False\n",
      "model.layers.15.post_attention_layernorm.weight: False\n",
      "model.layers.16.self_attn.q_proj.weight: False\n",
      "model.layers.16.self_attn.k_proj.linear.weight: False\n",
      "model.layers.16.self_attn.k_proj.lora.A: True\n",
      "model.layers.16.self_attn.k_proj.lora.B: True\n",
      "model.layers.16.self_attn.v_proj.linear.weight: False\n",
      "model.layers.16.self_attn.v_proj.lora.A: True\n",
      "model.layers.16.self_attn.v_proj.lora.B: True\n",
      "model.layers.16.self_attn.o_proj.weight: False\n",
      "model.layers.16.mlp.gate_proj.weight: False\n",
      "model.layers.16.mlp.up_proj.weight: False\n",
      "model.layers.16.mlp.down_proj.weight: False\n",
      "model.layers.16.input_layernorm.weight: False\n",
      "model.layers.16.post_attention_layernorm.weight: False\n",
      "model.layers.17.self_attn.q_proj.weight: False\n",
      "model.layers.17.self_attn.k_proj.linear.weight: False\n",
      "model.layers.17.self_attn.k_proj.lora.A: True\n",
      "model.layers.17.self_attn.k_proj.lora.B: True\n",
      "model.layers.17.self_attn.v_proj.linear.weight: False\n",
      "model.layers.17.self_attn.v_proj.lora.A: True\n",
      "model.layers.17.self_attn.v_proj.lora.B: True\n",
      "model.layers.17.self_attn.o_proj.weight: False\n",
      "model.layers.17.mlp.gate_proj.weight: False\n",
      "model.layers.17.mlp.up_proj.weight: False\n",
      "model.layers.17.mlp.down_proj.weight: False\n",
      "model.layers.17.input_layernorm.weight: False\n",
      "model.layers.17.post_attention_layernorm.weight: False\n",
      "model.layers.18.self_attn.q_proj.weight: False\n",
      "model.layers.18.self_attn.k_proj.linear.weight: False\n",
      "model.layers.18.self_attn.k_proj.lora.A: True\n",
      "model.layers.18.self_attn.k_proj.lora.B: True\n",
      "model.layers.18.self_attn.v_proj.linear.weight: False\n",
      "model.layers.18.self_attn.v_proj.lora.A: True\n",
      "model.layers.18.self_attn.v_proj.lora.B: True\n",
      "model.layers.18.self_attn.o_proj.weight: False\n",
      "model.layers.18.mlp.gate_proj.weight: False\n",
      "model.layers.18.mlp.up_proj.weight: False\n",
      "model.layers.18.mlp.down_proj.weight: False\n",
      "model.layers.18.input_layernorm.weight: False\n",
      "model.layers.18.post_attention_layernorm.weight: False\n",
      "model.layers.19.self_attn.q_proj.weight: False\n",
      "model.layers.19.self_attn.k_proj.linear.weight: False\n",
      "model.layers.19.self_attn.k_proj.lora.A: True\n",
      "model.layers.19.self_attn.k_proj.lora.B: True\n",
      "model.layers.19.self_attn.v_proj.linear.weight: False\n",
      "model.layers.19.self_attn.v_proj.lora.A: True\n",
      "model.layers.19.self_attn.v_proj.lora.B: True\n",
      "model.layers.19.self_attn.o_proj.weight: False\n",
      "model.layers.19.mlp.gate_proj.weight: False\n",
      "model.layers.19.mlp.up_proj.weight: False\n",
      "model.layers.19.mlp.down_proj.weight: False\n",
      "model.layers.19.input_layernorm.weight: False\n",
      "model.layers.19.post_attention_layernorm.weight: False\n",
      "model.norm.weight: False\n",
      "lm_head.weight: False\n",
      "Train 430080/300031872 (0.14%) parameters\n"
     ]
    }
   ],
   "source": [
    "# Заморозьте не нужные слои\n",
    "\n",
    "\n",
    "def freeze_layers(model, patterns):\n",
    "    for name, param in model.named_parameters():\n",
    "        # todo()\n",
    "        for pattern in patterns:\n",
    "            if pattern not in name:\n",
    "                param.requires_grad = False\n",
    "\n",
    "    total_params, trainable_params = 0, 0\n",
    "    for name, param in model.named_parameters():\n",
    "        print(f\"{name}: {param.requires_grad}\")\n",
    "        total_params += np.prod(param.shape)\n",
    "        if param.requires_grad:\n",
    "            trainable_params += np.prod(param.shape)\n",
    "    print(f\"Train {trainable_params}/{total_params} ({trainable_params / total_params * 100:.2f}%) parameters\")\n",
    "\n",
    "    return model\n",
    "\n",
    "\n",
    "model = freeze_layers(model, [\"lora\"])"
   ]
  },
  {
   "cell_type": "markdown",
   "metadata": {
    "id": "GDcZlsVuJYGq"
   },
   "source": [
    "## Обучение [2 балла]\n",
    "\n",
    "*Напутствие:*\n",
    "Пришло время приступить к обучению модели. После реализации train loop вы заслужите перерыв на 30+ минут – отличный повод с гордостью заявить, что вы заняты обучением модели. Однако длительность отдыха остаётся на ваше усмотрение. Мы рекомендуем ограничиться 2–3 эпохами файнтюна, чтобы избежать излишних вычислительных затрат и переобучения модели.\n",
    "\n",
    "Обратите внимание, что вам предстоит реализовать классический train loop на PyTorch. Здесь у вас достаточно свободы для выбора гиперпараметров (`batch_size`, `lr`, `num_epochs`). Вы можете использовать дополнительные гиперпараметры на свое усмотрение, например, для оптимизатора."
   ]
  },
  {
   "cell_type": "code",
   "execution_count": 24,
   "metadata": {
    "id": "y_ZfEtmwjoyL"
   },
   "outputs": [],
   "source": [
    "def pad_collate_fn(batch: list[dict[str, torch.Tensor]], pad_token_id: int) -> dict[str, torch.Tensor]:\n",
    "    \"\"\"\n",
    "    Collates and pads a batch of tokenized examples for model input.\n",
    "\n",
    "    This function processes a batch of examples, each containing:\n",
    "      - \"input_ids\": Token IDs for the prompt.\n",
    "      - \"full_input_ids\": Token IDs for the combined prompt and response.\n",
    "\n",
    "    The function performs the following steps:\n",
    "      1. Converts \"input_ids\" and \"full_input_ids\" into tensors.\n",
    "      2. Pads all sequences to the same maximum length using left-side padding.\n",
    "      3. Constructs the labels tensor by masking the prompt portion with -100\n",
    "         (indicating no loss calculation for these tokens) and retaining the\n",
    "         response tokens.\n",
    "      4. Ensures that the input sequences and attention masks are aligned with\n",
    "         the labels in length by appending padding as necessary.\n",
    "\n",
    "    Args:\n",
    "        batch (list[dict[str, torch.Tensor]]): A list of dictionaries, each containing:\n",
    "            - \"input_ids\": Tensor of token IDs for the prompt.\n",
    "            - \"full_input_ids\": Tensor of token IDs for the full sequence (prompt + response).\n",
    "        pad_token_id (int): The token ID used for padding sequences.\n",
    "\n",
    "    Returns:\n",
    "        dict[str, torch.Tensor]: A dictionary with the following keys:\n",
    "            - \"input_ids\": Padded token IDs for the model input (prompt + assistant padding).\n",
    "            - \"attention_mask\": Corresponding attention mask (1s for actual tokens, 0s for padding).\n",
    "            - \"labels\": Labels tensor with the prompt portion masked (-100) and response portion retained.\n",
    "    \"\"\"\n",
    "\n",
    "    prompt_input_ids = [torch.tensor(sample[\"input_ids\"]) for sample in batch]\n",
    "    prompt_attention_masks = [torch.ones_like(tensor) for tensor in prompt_input_ids]\n",
    "    full_input_ids = [torch.tensor(sample[\"full_input_ids\"]) for sample in batch]\n",
    "    padded_prompt_ids = pad(prompt_input_ids, padding_value=pad_token_id, padding_side=\"left\")\n",
    "    padded_prompt_attn = pad(prompt_attention_masks, padding_value=0, padding_side=\"left\")\n",
    "    padded_full_ids = pad(full_input_ids, padding_value=pad_token_id, padding_side=\"left\")\n",
    "    labels_mask = torch.full_like(padded_prompt_ids, -100)\n",
    "    response_part = padded_full_ids[:, labels_mask.size(1):]\n",
    "    labels = torch.cat((labels_mask, response_part), dim=1)\n",
    "    assistant_padding_length = labels.size(1) - padded_prompt_ids.size(1)\n",
    "    assistant_ids = torch.full((labels.size(0), assistant_padding_length), pad_token_id)\n",
    "    assistant_mask = torch.full((labels.size(0), assistant_padding_length), 0)\n",
    "\n",
    "    input_ids = torch.cat((padded_prompt_ids, assistant_ids), dim=1)\n",
    "    attention_mask = torch.cat((padded_prompt_attn, assistant_mask), dim=1)\n",
    "\n",
    "    return {\n",
    "        \"input_ids\": input_ids,\n",
    "        \"attention_mask\": attention_mask,\n",
    "        \"labels\": labels,\n",
    "    }"
   ]
  },
  {
   "cell_type": "code",
   "execution_count": 25,
   "metadata": {
    "colab": {
     "base_uri": "https://localhost:8080/"
    },
    "id": "k5EWaXx0joyL",
    "outputId": "d388dc01-ccd4-49a8-ba13-933ae9e04c69"
   },
   "outputs": [
    {
     "data": {
      "text/plain": [
       "{'input_ids': tensor([[32000, 32000, 32000, 32000, 32000, 32000, 32000, 32000, 32000, 32000,\n",
       "          32000, 32000,     1, 32001,  1587,    13,  1976,   460,   264,  9394,\n",
       "            299, 21790,   875,  3591, 28723,  1263,  1430,  9394,   299,  2787,\n",
       "          28725, 20765,   871, 21790,   304,  3825,  4668,   624,  1707, 28747,\n",
       "            345, 23238,   548,   345, 23806,  1650,   548,   442,   345,  1065,\n",
       "           2468,  2586,  2378,   459,  3024,   707,  4210,  2245, 28723, 32000,\n",
       "          28705,    13, 32001,  2188,    13, 28737,   541, 28756, 28718, 28750,\n",
       "          28734, 28740, 28774, 28707,  2444,   298,  1236,   456, 12165,  2737,\n",
       "          13268,   684,  9262,  2125, 13915,  3539, 28716,   521,   295,  8884,\n",
       "           4893,  4382, 32000, 28705,    13, 32001, 13892,    13, 32000, 32000,\n",
       "          32000, 32000],\n",
       "         [    1, 32001,  1587,    13,  1976,   460,   264,  9394,   299, 21790,\n",
       "            875,  3591, 28723,  1263,  1430,  9394,   299,  2787, 28725, 20765,\n",
       "            871, 21790,   304,  3825,  4668,   624,  1707, 28747,   345, 23238,\n",
       "            548,   345, 23806,  1650,   548,   442,   345,  1065,  2468,  2586,\n",
       "           2378,   459,  3024,   707,  4210,  2245, 28723, 32000, 28705,    13,\n",
       "          32001,  2188,    13, 28818,  1838,   334,  1035,  1944, 28725,   378,\n",
       "            993,   347,   369,   590,  8168,   652,  7482, 15075,  2539,   349,\n",
       "           6646, 21026, 13715, 28725,   369,   272,  2108,   369,   349,  2598,\n",
       "            302,   706, 28725,   272,  1873, 28723,   384,  2869,  4660,  1896,\n",
       "           4425,  1110, 32000, 28705,    13, 32001, 13892,    13, 32000, 32000,\n",
       "          32000, 32000]]),\n",
       " 'attention_mask': tensor([[0, 0, 0, 0, 0, 0, 0, 0, 0, 0, 0, 0, 1, 1, 1, 1, 1, 1, 1, 1, 1, 1, 1, 1,\n",
       "          1, 1, 1, 1, 1, 1, 1, 1, 1, 1, 1, 1, 1, 1, 1, 1, 1, 1, 1, 1, 1, 1, 1, 1,\n",
       "          1, 1, 1, 1, 1, 1, 1, 1, 1, 1, 1, 1, 1, 1, 1, 1, 1, 1, 1, 1, 1, 1, 1, 1,\n",
       "          1, 1, 1, 1, 1, 1, 1, 1, 1, 1, 1, 1, 1, 1, 1, 1, 1, 1, 1, 1, 1, 1, 1, 1,\n",
       "          1, 1, 0, 0, 0, 0],\n",
       "         [1, 1, 1, 1, 1, 1, 1, 1, 1, 1, 1, 1, 1, 1, 1, 1, 1, 1, 1, 1, 1, 1, 1, 1,\n",
       "          1, 1, 1, 1, 1, 1, 1, 1, 1, 1, 1, 1, 1, 1, 1, 1, 1, 1, 1, 1, 1, 1, 1, 1,\n",
       "          1, 1, 1, 1, 1, 1, 1, 1, 1, 1, 1, 1, 1, 1, 1, 1, 1, 1, 1, 1, 1, 1, 1, 1,\n",
       "          1, 1, 1, 1, 1, 1, 1, 1, 1, 1, 1, 1, 1, 1, 1, 1, 1, 1, 1, 1, 1, 1, 1, 1,\n",
       "          1, 1, 0, 0, 0, 0]]),\n",
       " 'labels': tensor([[ -100,  -100,  -100,  -100,  -100,  -100,  -100,  -100,  -100,  -100,\n",
       "           -100,  -100,  -100,  -100,  -100,  -100,  -100,  -100,  -100,  -100,\n",
       "           -100,  -100,  -100,  -100,  -100,  -100,  -100,  -100,  -100,  -100,\n",
       "           -100,  -100,  -100,  -100,  -100,  -100,  -100,  -100,  -100,  -100,\n",
       "           -100,  -100,  -100,  -100,  -100,  -100,  -100,  -100,  -100,  -100,\n",
       "           -100,  -100,  -100,  -100,  -100,  -100,  -100,  -100,  -100,  -100,\n",
       "           -100,  -100,  -100,  -100,  -100,  -100,  -100,  -100,  -100,  -100,\n",
       "           -100,  -100,  -100,  -100,  -100,  -100,  -100,  -100,  -100,  -100,\n",
       "           -100,  -100,  -100,  -100,  -100,  -100,  -100,  -100,  -100,  -100,\n",
       "           -100,  -100,  -100,  -100,  -100,  -100,  -100,  -100,  2468, 32000,\n",
       "          28705,    13],\n",
       "         [ -100,  -100,  -100,  -100,  -100,  -100,  -100,  -100,  -100,  -100,\n",
       "           -100,  -100,  -100,  -100,  -100,  -100,  -100,  -100,  -100,  -100,\n",
       "           -100,  -100,  -100,  -100,  -100,  -100,  -100,  -100,  -100,  -100,\n",
       "           -100,  -100,  -100,  -100,  -100,  -100,  -100,  -100,  -100,  -100,\n",
       "           -100,  -100,  -100,  -100,  -100,  -100,  -100,  -100,  -100,  -100,\n",
       "           -100,  -100,  -100,  -100,  -100,  -100,  -100,  -100,  -100,  -100,\n",
       "           -100,  -100,  -100,  -100,  -100,  -100,  -100,  -100,  -100,  -100,\n",
       "           -100,  -100,  -100,  -100,  -100,  -100,  -100,  -100,  -100,  -100,\n",
       "           -100,  -100,  -100,  -100,  -100,  -100,  -100,  -100,  -100,  -100,\n",
       "           -100,  -100,  -100,  -100,  -100,  -100,  -100,  -100, 23238, 32000,\n",
       "          28705,    13]])}"
      ]
     },
     "execution_count": 25,
     "metadata": {},
     "output_type": "execute_result"
    }
   ],
   "source": [
    "dataloader = DataLoader(\n",
    "    dataset[\"train\"],\n",
    "    batch_size=2,\n",
    "    shuffle=True,\n",
    "    collate_fn=partial(pad_collate_fn, pad_token_id=tokenizer.pad_token_id),\n",
    ")\n",
    "next(iter(dataloader))"
   ]
  },
  {
   "cell_type": "code",
   "execution_count": 26,
   "metadata": {
    "id": "kUXWpHlwjoyL"
   },
   "outputs": [],
   "source": [
    "def train_model(model, optimizer, train_dataloader, val_dataset, num_epochs):\n",
    "    for epoch in range(num_epochs):\n",
    "        running_loss = 0.0\n",
    "        for step, batch in enumerate(tqdm(train_dataloader)):\n",
    "            batch = {k: (v.to(model.device) if isinstance(v, torch.Tensor) else v) for k, v in batch.items()}\n",
    "\n",
    "            outputs = model(**batch)\n",
    "            loss = outputs.loss\n",
    "            loss.backward()\n",
    "            torch.nn.utils.clip_grad_norm_(model.parameters(), max_norm=1.0)\n",
    "            optimizer.step()\n",
    "            optimizer.zero_grad()\n",
    "\n",
    "            running_loss += loss.item()\n",
    "            if step % 50 == 0 and step > 0:\n",
    "                avg_loss = running_loss / 50\n",
    "                print(f\"Epoch {epoch + 1}, Step {step} | Avg Loss: {avg_loss:.4f}\")\n",
    "                running_loss = 0.0\n",
    "\n",
    "        val_f1 = eval(model, val_dataset, tokenizer, show_conf_m=False)\n",
    "        print(f\"Epoch {epoch + 1} | Validation F1: {val_f1}\")\n",
    "    return model"
   ]
  },
  {
   "cell_type": "code",
   "execution_count": 27,
   "metadata": {
    "id": "OIjehznTeOLP"
   },
   "outputs": [],
   "source": [
    "BATCH_SIZE = 16\n",
    "LEARNING_RATE = 5e-6\n",
    "NUM_EPOCHS = 2\n",
    "\n",
    "train_dataloader = DataLoader(\n",
    "    dataset[\"train\"],\n",
    "    batch_size=BATCH_SIZE,\n",
    "    shuffle=True,\n",
    "    collate_fn=partial(pad_collate_fn, pad_token_id=tokenizer.pad_token_id),\n",
    ")\n",
    "\n",
    "optimizer = torch.optim.AdamW([p for n, p in model.named_parameters() if \"lora\" in n], lr=LEARNING_RATE)"
   ]
  },
  {
   "cell_type": "code",
   "execution_count": 28,
   "metadata": {
    "colab": {
     "base_uri": "https://localhost:8080/",
     "height": 1000,
     "referenced_widgets": [
      "409e3ed4fcd0467e8e202c82e644af73",
      "0bad83b9a05a4f0e93daf8c543f90300",
      "341b0004761b46c8992d2fa03d3228ec",
      "d33a377345374cefb19cb5ed13720f78",
      "a338ef0fc14640768143b91751615a8d",
      "6c71bd6479da41aaa1a05b26e4368bce",
      "df23d37a29cd4f45b3304de485a16d18",
      "4b97a510f5484aecb5b66c2924cc73cb",
      "90137dad781046f1a7128e4596fc4c53",
      "451d7235e5904c7b828c684c5a6797a6",
      "2201974ba3ec49c0ad985502a54eec1e",
      "b4ed2253345e46e8ac113e424b0adb67",
      "a4ef6f23a2ce4b2dab86f4471ea7014a",
      "377754f774e44d7cb74bfbf84f0226f8",
      "cee907e21e4a4355be1a130f9ec55907",
      "c1d515e1ffea490998886c062ff457b7",
      "efcf14c07bb74033873655b6eb1bf90a",
      "d884f34246a3426a89ae8ffd768479f4",
      "e8ee90290f8242d1a92322f65fb9e6b4",
      "09c36b335d404fc0ac34d54167902695",
      "b0a008ae51644239bde16975d0dc03fe",
      "4fb8b266249a4d6185561c80312c6e7f",
      "ac578c8014064b16953833feda3d6a21",
      "a647cfbed2814d17bcee2af1ba527694",
      "5e0bba6cee764174bb5b79156b995c13",
      "978b1b5915d74edcb38df0b790e89992",
      "5a2fb59afc534d21a1e479619b8b5401",
      "d2d082f20cc94e29b5a4f38386b5a1de",
      "eb19dbab74cf4211ae5393d58c1b4f3d",
      "80645a7d59e54781acc043b28860da53",
      "97cf621975164c139810e600eea7bf4b",
      "269d88b4c08047ef8eee7c347cffc29d",
      "cb06e769b48a47bd881bacd54f0f4d84",
      "354d182093c04ab4a5578c7a9e01f1fc",
      "6ae20a6cd10a40e79542601455a1b841",
      "9a9f38adbdea46eb9b010161b074265e",
      "e2ab0ddf65624052b56141248763704e",
      "5dee49930bd245108fd4cdf39a9fc50a",
      "f882d368c17d4aceba0845d96b7fcd36",
      "a539ad0fe967474999199c45e894c8fb",
      "5e3ffe588ccc49f798c9bd4d8f79be68",
      "aa51310ee0514f9c91379712ac738316",
      "bdc7562f90ec4ccb9d2e910634b6cd90",
      "313b9e6edc6d44359bda5c90d4e48d08",
      "79ce034d26e642c2a86d332cf83e486a",
      "aa839531be14474a8f1fe72491e4e6f9",
      "cf78809911504a15acbcb4574f2f5ad6",
      "1fe47aed79474270a65f9cb2e1d888ad",
      "76cd0a4443274020bad01ea1ec041cf4",
      "2d2e1c91294044b8800fd0e9028aa5bc",
      "41ffd86892b34e15aeb65bd8c614db1a",
      "158c7d2c576b43ad908198109bf8aff5",
      "5ea7b8d655334bbe93f0019c95088955",
      "731c3f52dd574ff7ba208de0216e3969",
      "8d5195030b51444295735699cf41cbf9"
     ]
    },
    "id": "WdgCWxVSjoyP",
    "outputId": "c69ae319-5d67-4456-c242-84b7249ae31f"
   },
   "outputs": [
    {
     "data": {
      "application/vnd.jupyter.widget-view+json": {
       "model_id": "409e3ed4fcd0467e8e202c82e644af73",
       "version_major": 2,
       "version_minor": 0
      },
      "text/plain": [
       "  0%|          | 0/2851 [00:00<?, ?it/s]"
      ]
     },
     "metadata": {},
     "output_type": "display_data"
    },
    {
     "name": "stdout",
     "output_type": "stream",
     "text": [
      "Epoch 1, Step 50 | Avg Loss: 3.1821\n",
      "Epoch 1, Step 100 | Avg Loss: 1.4261\n",
      "Epoch 1, Step 150 | Avg Loss: 1.0012\n",
      "Epoch 1, Step 200 | Avg Loss: 1.8535\n",
      "Epoch 1, Step 250 | Avg Loss: 1.2268\n",
      "Epoch 1, Step 300 | Avg Loss: 1.0455\n",
      "Epoch 1, Step 350 | Avg Loss: 1.5324\n",
      "Epoch 1, Step 400 | Avg Loss: 1.1826\n",
      "Epoch 1, Step 450 | Avg Loss: 1.6056\n",
      "Epoch 1, Step 500 | Avg Loss: 1.1373\n",
      "Epoch 1, Step 550 | Avg Loss: 1.2227\n",
      "Epoch 1, Step 600 | Avg Loss: 1.5938\n",
      "Epoch 1, Step 650 | Avg Loss: 1.1338\n",
      "Epoch 1, Step 700 | Avg Loss: 1.0823\n",
      "Epoch 1, Step 750 | Avg Loss: 0.7022\n",
      "Epoch 1, Step 800 | Avg Loss: 1.1745\n",
      "Epoch 1, Step 850 | Avg Loss: 0.9584\n",
      "Epoch 1, Step 900 | Avg Loss: 0.9541\n",
      "Epoch 1, Step 950 | Avg Loss: 0.6584\n",
      "Epoch 1, Step 1000 | Avg Loss: 1.2275\n",
      "Epoch 1, Step 1050 | Avg Loss: 0.8136\n",
      "Epoch 1, Step 1100 | Avg Loss: 0.8721\n",
      "Epoch 1, Step 1150 | Avg Loss: 1.1538\n",
      "Epoch 1, Step 1200 | Avg Loss: 1.3121\n",
      "Epoch 1, Step 1250 | Avg Loss: 1.0309\n",
      "Epoch 1, Step 1300 | Avg Loss: 1.3046\n",
      "Epoch 1, Step 1350 | Avg Loss: 0.8981\n",
      "Epoch 1, Step 1400 | Avg Loss: 1.0937\n",
      "Epoch 1, Step 1450 | Avg Loss: 0.9028\n",
      "Epoch 1, Step 1500 | Avg Loss: 1.1833\n",
      "Epoch 1, Step 1550 | Avg Loss: 0.8949\n",
      "Epoch 1, Step 1600 | Avg Loss: 1.1334\n",
      "Epoch 1, Step 1650 | Avg Loss: 0.9603\n",
      "Epoch 1, Step 1700 | Avg Loss: 0.9158\n",
      "Epoch 1, Step 1750 | Avg Loss: 1.0714\n",
      "Epoch 1, Step 1800 | Avg Loss: 1.1789\n",
      "Epoch 1, Step 1850 | Avg Loss: 1.0302\n",
      "Epoch 1, Step 1900 | Avg Loss: 0.9350\n",
      "Epoch 1, Step 1950 | Avg Loss: 0.8055\n",
      "Epoch 1, Step 2000 | Avg Loss: 1.1520\n",
      "Epoch 1, Step 2050 | Avg Loss: 1.0447\n",
      "Epoch 1, Step 2100 | Avg Loss: 0.7318\n",
      "Epoch 1, Step 2150 | Avg Loss: 0.9728\n",
      "Epoch 1, Step 2200 | Avg Loss: 1.0548\n",
      "Epoch 1, Step 2250 | Avg Loss: 0.6565\n",
      "Epoch 1, Step 2300 | Avg Loss: 0.5929\n",
      "Epoch 1, Step 2350 | Avg Loss: 1.0223\n",
      "Epoch 1, Step 2400 | Avg Loss: 1.2506\n",
      "Epoch 1, Step 2450 | Avg Loss: 1.1234\n",
      "Epoch 1, Step 2500 | Avg Loss: 1.0905\n",
      "Epoch 1, Step 2550 | Avg Loss: 0.9721\n",
      "Epoch 1, Step 2600 | Avg Loss: 0.6937\n",
      "Epoch 1, Step 2650 | Avg Loss: 1.0081\n",
      "Epoch 1, Step 2700 | Avg Loss: 0.9416\n",
      "Epoch 1, Step 2750 | Avg Loss: 1.0061\n",
      "Epoch 1, Step 2800 | Avg Loss: 1.0769\n",
      "Epoch 1, Step 2850 | Avg Loss: 0.9335\n"
     ]
    },
    {
     "data": {
      "application/vnd.jupyter.widget-view+json": {
       "model_id": "b4ed2253345e46e8ac113e424b0adb67",
       "version_major": 2,
       "version_minor": 0
      },
      "text/plain": [
       "Batching examples:   0%|          | 0/2000 [00:00<?, ? examples/s]"
      ]
     },
     "metadata": {},
     "output_type": "display_data"
    },
    {
     "data": {
      "application/vnd.jupyter.widget-view+json": {
       "model_id": "ac578c8014064b16953833feda3d6a21",
       "version_major": 2,
       "version_minor": 0
      },
      "text/plain": [
       "  0%|          | 0/20 [00:00<?, ?it/s]"
      ]
     },
     "metadata": {},
     "output_type": "display_data"
    },
    {
     "name": "stdout",
     "output_type": "stream",
     "text": [
      "Epoch 1 | Validation F1: 0.4003477424021719\n"
     ]
    },
    {
     "data": {
      "application/vnd.jupyter.widget-view+json": {
       "model_id": "354d182093c04ab4a5578c7a9e01f1fc",
       "version_major": 2,
       "version_minor": 0
      },
      "text/plain": [
       "  0%|          | 0/2851 [00:00<?, ?it/s]"
      ]
     },
     "metadata": {},
     "output_type": "display_data"
    },
    {
     "name": "stdout",
     "output_type": "stream",
     "text": [
      "Epoch 2, Step 50 | Avg Loss: 0.9039\n",
      "Epoch 2, Step 100 | Avg Loss: 1.0934\n",
      "Epoch 2, Step 150 | Avg Loss: 0.7087\n",
      "Epoch 2, Step 200 | Avg Loss: 0.9394\n",
      "Epoch 2, Step 250 | Avg Loss: 1.0572\n",
      "Epoch 2, Step 300 | Avg Loss: 1.0256\n",
      "Epoch 2, Step 350 | Avg Loss: 0.7297\n",
      "Epoch 2, Step 400 | Avg Loss: 0.9260\n",
      "Epoch 2, Step 450 | Avg Loss: 1.1017\n",
      "Epoch 2, Step 500 | Avg Loss: 0.6733\n",
      "Epoch 2, Step 550 | Avg Loss: 1.0662\n",
      "Epoch 2, Step 600 | Avg Loss: 0.9642\n",
      "Epoch 2, Step 650 | Avg Loss: 0.6764\n",
      "Epoch 2, Step 700 | Avg Loss: 0.9363\n",
      "Epoch 2, Step 750 | Avg Loss: 0.7254\n",
      "Epoch 2, Step 800 | Avg Loss: 0.9532\n",
      "Epoch 2, Step 850 | Avg Loss: 0.7013\n",
      "Epoch 2, Step 900 | Avg Loss: 0.8309\n",
      "Epoch 2, Step 950 | Avg Loss: 0.7895\n",
      "Epoch 2, Step 1000 | Avg Loss: 0.9411\n",
      "Epoch 2, Step 1050 | Avg Loss: 0.7865\n",
      "Epoch 2, Step 1100 | Avg Loss: 0.8936\n",
      "Epoch 2, Step 1150 | Avg Loss: 0.8828\n",
      "Epoch 2, Step 1200 | Avg Loss: 0.7710\n",
      "Epoch 2, Step 1250 | Avg Loss: 0.9104\n",
      "Epoch 2, Step 1300 | Avg Loss: 0.7657\n",
      "Epoch 2, Step 1350 | Avg Loss: 1.3444\n",
      "Epoch 2, Step 1400 | Avg Loss: 0.7252\n",
      "Epoch 2, Step 1450 | Avg Loss: 0.5462\n",
      "Epoch 2, Step 1500 | Avg Loss: 0.9389\n",
      "Epoch 2, Step 1550 | Avg Loss: 0.8491\n",
      "Epoch 2, Step 1600 | Avg Loss: 0.6480\n",
      "Epoch 2, Step 1650 | Avg Loss: 1.1459\n",
      "Epoch 2, Step 1700 | Avg Loss: 0.9955\n",
      "Epoch 2, Step 1750 | Avg Loss: 0.8031\n",
      "Epoch 2, Step 1800 | Avg Loss: 0.8331\n",
      "Epoch 2, Step 1850 | Avg Loss: 0.8068\n",
      "Epoch 2, Step 1900 | Avg Loss: 1.0756\n",
      "Epoch 2, Step 1950 | Avg Loss: 0.7525\n",
      "Epoch 2, Step 2000 | Avg Loss: 0.9200\n",
      "Epoch 2, Step 2050 | Avg Loss: 1.0055\n",
      "Epoch 2, Step 2100 | Avg Loss: 0.7357\n",
      "Epoch 2, Step 2150 | Avg Loss: 0.7787\n",
      "Epoch 2, Step 2200 | Avg Loss: 0.8880\n",
      "Epoch 2, Step 2250 | Avg Loss: 0.7492\n",
      "Epoch 2, Step 2300 | Avg Loss: 0.7467\n",
      "Epoch 2, Step 2350 | Avg Loss: 0.6995\n",
      "Epoch 2, Step 2400 | Avg Loss: 0.6799\n",
      "Epoch 2, Step 2450 | Avg Loss: 0.9004\n",
      "Epoch 2, Step 2500 | Avg Loss: 0.5595\n",
      "Epoch 2, Step 2550 | Avg Loss: 1.1209\n",
      "Epoch 2, Step 2600 | Avg Loss: 0.8571\n",
      "Epoch 2, Step 2650 | Avg Loss: 1.0419\n",
      "Epoch 2, Step 2700 | Avg Loss: 0.8411\n",
      "Epoch 2, Step 2750 | Avg Loss: 0.8924\n",
      "Epoch 2, Step 2800 | Avg Loss: 1.0702\n",
      "Epoch 2, Step 2850 | Avg Loss: 0.7670\n"
     ]
    },
    {
     "data": {
      "application/vnd.jupyter.widget-view+json": {
       "model_id": "79ce034d26e642c2a86d332cf83e486a",
       "version_major": 2,
       "version_minor": 0
      },
      "text/plain": [
       "  0%|          | 0/20 [00:00<?, ?it/s]"
      ]
     },
     "metadata": {},
     "output_type": "display_data"
    },
    {
     "name": "stdout",
     "output_type": "stream",
     "text": [
      "Epoch 2 | Validation F1: 0.41129731053104185\n"
     ]
    }
   ],
   "source": [
    "model = train_model(model, optimizer, train_dataloader, dataset[\"validation\"], NUM_EPOCHS)"
   ]
  },
  {
   "cell_type": "code",
   "execution_count": 29,
   "metadata": {
    "colab": {
     "base_uri": "https://localhost:8080/"
    },
    "id": "5feQFto27yUF",
    "outputId": "924f8b46-4bbb-420c-9d20-5a2375ca9bc2"
   },
   "outputs": [
    {
     "name": "stdout",
     "output_type": "stream",
     "text": [
      "\"QT @user In the original draft of the 7th book, Remus Lupin survived the Battle of Hogwarts. #HappyBirthdayRemusLupin\"\n",
      "positive\n",
      "positive \n",
      "\n",
      "==========\n",
      "\"Ben Smith / Smith (concussion) remains out of the lineup Thursday, Curtis #NHL #SJ\"\n",
      "neutral\n",
      "neutral \n",
      "ralph\n",
      "neutral \n",
      "ral\n",
      "==========\n",
      "Sorry bout the stream last night I crashed out but will be on tonight for sure. Then back to Minecraft in pc tomorrow night.\n",
      "neutral\n",
      "neutral \n",
      "ralitive\n",
      "neutral\n",
      "ralitive\n",
      "==========\n",
      "Chase Headley's RBI double in the 8th inning off David Price snapped a Yankees streak of 33 consecutive scoreless innings against Blue Jays\n",
      "neutral\n",
      "neutral \n",
      "ralitive\n",
      "ralitive\n",
      "ralitive\n",
      "==========\n",
      "@user Alciato: Bee will invest 150 million in January, another 200 in the Summer and plans to bring Messi by 2017\"\n",
      "positive\n",
      "neutral \n",
      "ralitive\n",
      "ralitive\n",
      "ralitive\n",
      "==========\n"
     ]
    }
   ],
   "source": [
    "for i in range(5):\n",
    "    input_ids = torch.tensor([dataset[\"train\"][i][\"input_ids\"]], device=DEVICE)\n",
    "    generated_text = generate_class(model, tokenizer, input_ids)\n",
    "    print(dataset[\"train\"][i][\"text\"])\n",
    "    print(dataset[\"train\"][i][\"str_label\"])\n",
    "    print(generated_text)\n",
    "    print(\"=\" * 10)"
   ]
  },
  {
   "cell_type": "markdown",
   "metadata": {
    "id": "DxXmr3w3eCMp"
   },
   "source": [
    "## Оценим результаты"
   ]
  },
  {
   "cell_type": "markdown",
   "metadata": {
    "id": "B71QOPpEeCMp"
   },
   "source": [
    "Теперь увидим, как повлиял наш файнтюнинг"
   ]
  },
  {
   "cell_type": "code",
   "execution_count": 30,
   "metadata": {
    "colab": {
     "base_uri": "https://localhost:8080/",
     "height": 498,
     "referenced_widgets": [
      "ba44d8a8a0fe46a0a30f95d13c0ad368",
      "ee7c181ce14f4a9b94ba510467456d4e",
      "e38b33c8fb5b4e1fa61c4525b0014945",
      "51fb8d442b4e48d49fb684541191bf3d",
      "4f58b39ecef64f42b92441a7b33e9c16",
      "8b981d9bdb28412f8ccc653037328d44",
      "52a9ea7428e14e57bfe9e7e7bc9d4f98",
      "cb9d48d014d043c6b3861d9738f976da",
      "7565b3d4fd82412ba978d095f740b159",
      "dbbb5df000b94a60b2df7bd93599ad61",
      "0db91abcff8449118c2f207d06b4ff9a"
     ]
    },
    "id": "jEd1sn3CJYGt",
    "outputId": "7b777856-f63e-41d0-a6ef-e403190fc96e"
   },
   "outputs": [
    {
     "data": {
      "application/vnd.jupyter.widget-view+json": {
       "model_id": "ba44d8a8a0fe46a0a30f95d13c0ad368",
       "version_major": 2,
       "version_minor": 0
      },
      "text/plain": [
       "  0%|          | 0/123 [00:00<?, ?it/s]"
      ]
     },
     "metadata": {},
     "output_type": "display_data"
    },
    {
     "name": "stdout",
     "output_type": "stream",
     "text": [
      "After LoRA Macro F1: 0.40\n"
     ]
    },
    {
     "data": {
      "image/png": "[encoded data removed]",
      "text/plain": [
       "<Figure size 640x480 with 2 Axes>"
      ]
     },
     "metadata": {},
     "output_type": "display_data"
    }
   ],
   "source": [
    "after_lora_f1 = eval(model, dataset[\"test\"], tokenizer)\n",
    "print(f\"After LoRA Macro F1: {after_lora_f1:.2f}\")"
   ]
  },
  {
   "cell_type": "code",
   "execution_count": 31,
   "metadata": {
    "colab": {
     "base_uri": "https://localhost:8080/",
     "height": 171,
     "referenced_widgets": [
      "7dd3957430e041d0a09f1b510d6b803f",
      "a07ffac9b40a4823996680a551e1d58c",
      "abb26a85fbce48799a9a206e685e5845",
      "770d60a21bfa41c3bb6ca870dbfb6342",
      "6939b628c9b641008ec85d358d438e58",
      "5e97d5e9bd684723af9b5c0ec1442c1a",
      "e3e28f9970dd45f2981669678c375e67",
      "4553d468cb2e4caf9dd94a875a6a9bc8",
      "a1131a0e289b42b1b7129c3287e5ddf2",
      "a7845df6af30472f95dc9c95dd347d15",
      "f6082e354f8240ccb6b5b5d3787210a6"
     ]
    },
    "id": "bjlSKN9tJYGt",
    "outputId": "1388b743-86b0-45ee-f9a6-2bf830bf772a"
   },
   "outputs": [
    {
     "data": {
      "application/vnd.jupyter.widget-view+json": {
       "model_id": "7dd3957430e041d0a09f1b510d6b803f",
       "version_major": 2,
       "version_minor": 0
      },
      "text/plain": [
       "README.md:   0%|          | 0.00/5.17k [00:00<?, ?B/s]"
      ]
     },
     "metadata": {},
     "output_type": "display_data"
    },
    {
     "name": "stderr",
     "output_type": "stream",
     "text": [
      "No files have been modified since last commit. Skipping to prevent empty commit.\n",
      "WARNING:huggingface_hub.hf_api:No files have been modified since last commit. Skipping to prevent empty commit.\n",
      "No files have been modified since last commit. Skipping to prevent empty commit.\n",
      "WARNING:huggingface_hub.hf_api:No files have been modified since last commit. Skipping to prevent empty commit.\n"
     ]
    },
    {
     "data": {
      "application/vnd.google.colaboratory.intrinsic+json": {
       "type": "string"
      },
      "text/plain": [
       "CommitInfo(commit_url='https://huggingface.co/xinyuema/llm-course-hw3-lora/commit/dc8a5cc4d2ee5e6132318347e2390e6c8bd803cb', commit_message='Upload tokenizer', commit_description='', oid='dc8a5cc4d2ee5e6132318347e2390e6c8bd803cb', pr_url=None, repo_url=RepoUrl('https://huggingface.co/xinyuema/llm-course-hw3-lora', endpoint='https://huggingface.co', repo_type='model', repo_id='xinyuema/llm-course-hw3-lora'), pr_revision=None, pr_num=None)"
      ]
     },
     "execution_count": 31,
     "metadata": {},
     "output_type": "execute_result"
    }
   ],
   "source": [
    "# Загружаем все на хаб\n",
    "model.push_to_hub(f\"{REPO_NAME}-lora\", private=True)\n",
    "tokenizer.push_to_hub(f\"{REPO_NAME}-lora\", private=True)"
   ]
  },
  {
   "cell_type": "code",
   "execution_count": 32,
   "metadata": {
    "id": "5GqXj9QeUbmv"
   },
   "outputs": [],
   "source": [
    "# Очистим память\n",
    "gc.collect()\n",
    "torch.cuda.empty_cache()"
   ]
  },
  {
   "cell_type": "markdown",
   "metadata": {
    "id": "rZLqE6lItof3"
   },
   "source": [
    "## DoRA: [Weight-Decomposed Low-Rank Adaptation](https://arxiv.org/abs/2402.09353)"
   ]
  },
  {
   "cell_type": "markdown",
   "metadata": {
    "id": "WqokyWcbeCMp"
   },
   "source": [
    "В отличие от метода LoRA, где обновление весов модели представлено в виде низкорангового произведения, метод DoRA вводит дополнительную степень гибкости за счёт применения диагональной матрицы для весового масштабирования.\n",
    "\n",
    "Пусть $W_0 \\in \\mathbb{R}^{d \\times k}$ - исходная матрица весов. В DoRA обновление весов определяется следующим образом:\n",
    "$$\n",
    "W = m \\frac{W_0 + BA}{\\|W_0 + BA \\|}\n",
    "$$\n",
    "\n",
    "Где $BA$ соответствует использованию LoRA, а $m \\in \\mathbb{R}^{k}$ обучаемый вектор."
   ]
  },
  {
   "cell_type": "markdown",
   "metadata": {
    "id": "ah411RkgJYGu"
   },
   "source": [
    "## Обучение модели с помощью DoRA [8 баллов]\n",
    "\n",
    "В этом задании вам потребуется:\n",
    "1. Написать с нуля класс `LinearWithDoRA` который использует написанный ранее `LoRALayer` класс\n",
    "2. Применить его к модели\n",
    "3. Обучить модель"
   ]
  },
  {
   "cell_type": "code",
   "execution_count": 33,
   "metadata": {
    "id": "XCtym5B_Gkva"
   },
   "outputs": [],
   "source": [
    "class LinearWithDoRA(nn.Module):\n",
    "    def __init__(self, linear, rank, alpha):\n",
    "        super().__init__()\n",
    "        # todo()\n",
    "        self.linear = linear\n",
    "        self.lora = LoRALayer(linear.in_features, linear.out_features, rank, alpha)\n",
    "        self.lora_magnitude = nn.Parameter(\n",
    "            self.linear.weight.norm(p=2, dim=0, keepdim=True)\n",
    "        )\n",
    "\n",
    "    def forward(self, x):\n",
    "        # todo()\n",
    "        weight = self.linear.weight + self.lora.alpha * (self.lora.A @ self.lora.B).T\n",
    "        direction = weight / weight.norm(p=2, dim=0, keepdim=True)\n",
    "        dora_weight = self.lora_magnitude * direction\n",
    "        return torch.nn.functional.linear(x, dora_weight, self.linear.bias)"
   ]
  },
  {
   "cell_type": "markdown",
   "metadata": {
    "id": "xnXowFAoeCMp"
   },
   "source": [
    "Сбрасываем модель и применяем наш DoRA адаптер"
   ]
  },
  {
   "cell_type": "code",
   "execution_count": 34,
   "metadata": {
    "colab": {
     "base_uri": "https://localhost:8080/"
    },
    "id": "3KBnzrTctof3",
    "outputId": "dc5efa46-f765-4485-d96b-08e12e0a2d43"
   },
   "outputs": [
    {
     "name": "stdout",
     "output_type": "stream",
     "text": [
      "model.embed_tokens.weight: False\n",
      "model.layers.0.self_attn.q_proj.weight: False\n",
      "model.layers.0.self_attn.k_proj.lora_magnitude: True\n",
      "model.layers.0.self_attn.k_proj.linear.weight: False\n",
      "model.layers.0.self_attn.k_proj.lora.A: True\n",
      "model.layers.0.self_attn.k_proj.lora.B: True\n",
      "model.layers.0.self_attn.v_proj.lora_magnitude: True\n",
      "model.layers.0.self_attn.v_proj.linear.weight: False\n",
      "model.layers.0.self_attn.v_proj.lora.A: True\n",
      "model.layers.0.self_attn.v_proj.lora.B: True\n",
      "model.layers.0.self_attn.o_proj.weight: False\n",
      "model.layers.0.mlp.gate_proj.weight: False\n",
      "model.layers.0.mlp.up_proj.weight: False\n",
      "model.layers.0.mlp.down_proj.weight: False\n",
      "model.layers.0.input_layernorm.weight: False\n",
      "model.layers.0.post_attention_layernorm.weight: False\n",
      "model.layers.1.self_attn.q_proj.weight: False\n",
      "model.layers.1.self_attn.k_proj.lora_magnitude: True\n",
      "model.layers.1.self_attn.k_proj.linear.weight: False\n",
      "model.layers.1.self_attn.k_proj.lora.A: True\n",
      "model.layers.1.self_attn.k_proj.lora.B: True\n",
      "model.layers.1.self_attn.v_proj.lora_magnitude: True\n",
      "model.layers.1.self_attn.v_proj.linear.weight: False\n",
      "model.layers.1.self_attn.v_proj.lora.A: True\n",
      "model.layers.1.self_attn.v_proj.lora.B: True\n",
      "model.layers.1.self_attn.o_proj.weight: False\n",
      "model.layers.1.mlp.gate_proj.weight: False\n",
      "model.layers.1.mlp.up_proj.weight: False\n",
      "model.layers.1.mlp.down_proj.weight: False\n",
      "model.layers.1.input_layernorm.weight: False\n",
      "model.layers.1.post_attention_layernorm.weight: False\n",
      "model.layers.2.self_attn.q_proj.weight: False\n",
      "model.layers.2.self_attn.k_proj.lora_magnitude: True\n",
      "model.layers.2.self_attn.k_proj.linear.weight: False\n",
      "model.layers.2.self_attn.k_proj.lora.A: True\n",
      "model.layers.2.self_attn.k_proj.lora.B: True\n",
      "model.layers.2.self_attn.v_proj.lora_magnitude: True\n",
      "model.layers.2.self_attn.v_proj.linear.weight: False\n",
      "model.layers.2.self_attn.v_proj.lora.A: True\n",
      "model.layers.2.self_attn.v_proj.lora.B: True\n",
      "model.layers.2.self_attn.o_proj.weight: False\n",
      "model.layers.2.mlp.gate_proj.weight: False\n",
      "model.layers.2.mlp.up_proj.weight: False\n",
      "model.layers.2.mlp.down_proj.weight: False\n",
      "model.layers.2.input_layernorm.weight: False\n",
      "model.layers.2.post_attention_layernorm.weight: False\n",
      "model.layers.3.self_attn.q_proj.weight: False\n",
      "model.layers.3.self_attn.k_proj.lora_magnitude: True\n",
      "model.layers.3.self_attn.k_proj.linear.weight: False\n",
      "model.layers.3.self_attn.k_proj.lora.A: True\n",
      "model.layers.3.self_attn.k_proj.lora.B: True\n",
      "model.layers.3.self_attn.v_proj.lora_magnitude: True\n",
      "model.layers.3.self_attn.v_proj.linear.weight: False\n",
      "model.layers.3.self_attn.v_proj.lora.A: True\n",
      "model.layers.3.self_attn.v_proj.lora.B: True\n",
      "model.layers.3.self_attn.o_proj.weight: False\n",
      "model.layers.3.mlp.gate_proj.weight: False\n",
      "model.layers.3.mlp.up_proj.weight: False\n",
      "model.layers.3.mlp.down_proj.weight: False\n",
      "model.layers.3.input_layernorm.weight: False\n",
      "model.layers.3.post_attention_layernorm.weight: False\n",
      "model.layers.4.self_attn.q_proj.weight: False\n",
      "model.layers.4.self_attn.k_proj.lora_magnitude: True\n",
      "model.layers.4.self_attn.k_proj.linear.weight: False\n",
      "model.layers.4.self_attn.k_proj.lora.A: True\n",
      "model.layers.4.self_attn.k_proj.lora.B: True\n",
      "model.layers.4.self_attn.v_proj.lora_magnitude: True\n",
      "model.layers.4.self_attn.v_proj.linear.weight: False\n",
      "model.layers.4.self_attn.v_proj.lora.A: True\n",
      "model.layers.4.self_attn.v_proj.lora.B: True\n",
      "model.layers.4.self_attn.o_proj.weight: False\n",
      "model.layers.4.mlp.gate_proj.weight: False\n",
      "model.layers.4.mlp.up_proj.weight: False\n",
      "model.layers.4.mlp.down_proj.weight: False\n",
      "model.layers.4.input_layernorm.weight: False\n",
      "model.layers.4.post_attention_layernorm.weight: False\n",
      "model.layers.5.self_attn.q_proj.weight: False\n",
      "model.layers.5.self_attn.k_proj.lora_magnitude: True\n",
      "model.layers.5.self_attn.k_proj.linear.weight: False\n",
      "model.layers.5.self_attn.k_proj.lora.A: True\n",
      "model.layers.5.self_attn.k_proj.lora.B: True\n",
      "model.layers.5.self_attn.v_proj.lora_magnitude: True\n",
      "model.layers.5.self_attn.v_proj.linear.weight: False\n",
      "model.layers.5.self_attn.v_proj.lora.A: True\n",
      "model.layers.5.self_attn.v_proj.lora.B: True\n",
      "model.layers.5.self_attn.o_proj.weight: False\n",
      "model.layers.5.mlp.gate_proj.weight: False\n",
      "model.layers.5.mlp.up_proj.weight: False\n",
      "model.layers.5.mlp.down_proj.weight: False\n",
      "model.layers.5.input_layernorm.weight: False\n",
      "model.layers.5.post_attention_layernorm.weight: False\n",
      "model.layers.6.self_attn.q_proj.weight: False\n",
      "model.layers.6.self_attn.k_proj.lora_magnitude: True\n",
      "model.layers.6.self_attn.k_proj.linear.weight: False\n",
      "model.layers.6.self_attn.k_proj.lora.A: True\n",
      "model.layers.6.self_attn.k_proj.lora.B: True\n",
      "model.layers.6.self_attn.v_proj.lora_magnitude: True\n",
      "model.layers.6.self_attn.v_proj.linear.weight: False\n",
      "model.layers.6.self_attn.v_proj.lora.A: True\n",
      "model.layers.6.self_attn.v_proj.lora.B: True\n",
      "model.layers.6.self_attn.o_proj.weight: False\n",
      "model.layers.6.mlp.gate_proj.weight: False\n",
      "model.layers.6.mlp.up_proj.weight: False\n",
      "model.layers.6.mlp.down_proj.weight: False\n",
      "model.layers.6.input_layernorm.weight: False\n",
      "model.layers.6.post_attention_layernorm.weight: False\n",
      "model.layers.7.self_attn.q_proj.weight: False\n",
      "model.layers.7.self_attn.k_proj.lora_magnitude: True\n",
      "model.layers.7.self_attn.k_proj.linear.weight: False\n",
      "model.layers.7.self_attn.k_proj.lora.A: True\n",
      "model.layers.7.self_attn.k_proj.lora.B: True\n",
      "model.layers.7.self_attn.v_proj.lora_magnitude: True\n",
      "model.layers.7.self_attn.v_proj.linear.weight: False\n",
      "model.layers.7.self_attn.v_proj.lora.A: True\n",
      "model.layers.7.self_attn.v_proj.lora.B: True\n",
      "model.layers.7.self_attn.o_proj.weight: False\n",
      "model.layers.7.mlp.gate_proj.weight: False\n",
      "model.layers.7.mlp.up_proj.weight: False\n",
      "model.layers.7.mlp.down_proj.weight: False\n",
      "model.layers.7.input_layernorm.weight: False\n",
      "model.layers.7.post_attention_layernorm.weight: False\n",
      "model.layers.8.self_attn.q_proj.weight: False\n",
      "model.layers.8.self_attn.k_proj.lora_magnitude: True\n",
      "model.layers.8.self_attn.k_proj.linear.weight: False\n",
      "model.layers.8.self_attn.k_proj.lora.A: True\n",
      "model.layers.8.self_attn.k_proj.lora.B: True\n",
      "model.layers.8.self_attn.v_proj.lora_magnitude: True\n",
      "model.layers.8.self_attn.v_proj.linear.weight: False\n",
      "model.layers.8.self_attn.v_proj.lora.A: True\n",
      "model.layers.8.self_attn.v_proj.lora.B: True\n",
      "model.layers.8.self_attn.o_proj.weight: False\n",
      "model.layers.8.mlp.gate_proj.weight: False\n",
      "model.layers.8.mlp.up_proj.weight: False\n",
      "model.layers.8.mlp.down_proj.weight: False\n",
      "model.layers.8.input_layernorm.weight: False\n",
      "model.layers.8.post_attention_layernorm.weight: False\n",
      "model.layers.9.self_attn.q_proj.weight: False\n",
      "model.layers.9.self_attn.k_proj.lora_magnitude: True\n",
      "model.layers.9.self_attn.k_proj.linear.weight: False\n",
      "model.layers.9.self_attn.k_proj.lora.A: True\n",
      "model.layers.9.self_attn.k_proj.lora.B: True\n",
      "model.layers.9.self_attn.v_proj.lora_magnitude: True\n",
      "model.layers.9.self_attn.v_proj.linear.weight: False\n",
      "model.layers.9.self_attn.v_proj.lora.A: True\n",
      "model.layers.9.self_attn.v_proj.lora.B: True\n",
      "model.layers.9.self_attn.o_proj.weight: False\n",
      "model.layers.9.mlp.gate_proj.weight: False\n",
      "model.layers.9.mlp.up_proj.weight: False\n",
      "model.layers.9.mlp.down_proj.weight: False\n",
      "model.layers.9.input_layernorm.weight: False\n",
      "model.layers.9.post_attention_layernorm.weight: False\n",
      "model.layers.10.self_attn.q_proj.weight: False\n",
      "model.layers.10.self_attn.k_proj.lora_magnitude: True\n",
      "model.layers.10.self_attn.k_proj.linear.weight: False\n",
      "model.layers.10.self_attn.k_proj.lora.A: True\n",
      "model.layers.10.self_attn.k_proj.lora.B: True\n",
      "model.layers.10.self_attn.v_proj.lora_magnitude: True\n",
      "model.layers.10.self_attn.v_proj.linear.weight: False\n",
      "model.layers.10.self_attn.v_proj.lora.A: True\n",
      "model.layers.10.self_attn.v_proj.lora.B: True\n",
      "model.layers.10.self_attn.o_proj.weight: False\n",
      "model.layers.10.mlp.gate_proj.weight: False\n",
      "model.layers.10.mlp.up_proj.weight: False\n",
      "model.layers.10.mlp.down_proj.weight: False\n",
      "model.layers.10.input_layernorm.weight: False\n",
      "model.layers.10.post_attention_layernorm.weight: False\n",
      "model.layers.11.self_attn.q_proj.weight: False\n",
      "model.layers.11.self_attn.k_proj.lora_magnitude: True\n",
      "model.layers.11.self_attn.k_proj.linear.weight: False\n",
      "model.layers.11.self_attn.k_proj.lora.A: True\n",
      "model.layers.11.self_attn.k_proj.lora.B: True\n",
      "model.layers.11.self_attn.v_proj.lora_magnitude: True\n",
      "model.layers.11.self_attn.v_proj.linear.weight: False\n",
      "model.layers.11.self_attn.v_proj.lora.A: True\n",
      "model.layers.11.self_attn.v_proj.lora.B: True\n",
      "model.layers.11.self_attn.o_proj.weight: False\n",
      "model.layers.11.mlp.gate_proj.weight: False\n",
      "model.layers.11.mlp.up_proj.weight: False\n",
      "model.layers.11.mlp.down_proj.weight: False\n",
      "model.layers.11.input_layernorm.weight: False\n",
      "model.layers.11.post_attention_layernorm.weight: False\n",
      "model.layers.12.self_attn.q_proj.weight: False\n",
      "model.layers.12.self_attn.k_proj.lora_magnitude: True\n",
      "model.layers.12.self_attn.k_proj.linear.weight: False\n",
      "model.layers.12.self_attn.k_proj.lora.A: True\n",
      "model.layers.12.self_attn.k_proj.lora.B: True\n",
      "model.layers.12.self_attn.v_proj.lora_magnitude: True\n",
      "model.layers.12.self_attn.v_proj.linear.weight: False\n",
      "model.layers.12.self_attn.v_proj.lora.A: True\n",
      "model.layers.12.self_attn.v_proj.lora.B: True\n",
      "model.layers.12.self_attn.o_proj.weight: False\n",
      "model.layers.12.mlp.gate_proj.weight: False\n",
      "model.layers.12.mlp.up_proj.weight: False\n",
      "model.layers.12.mlp.down_proj.weight: False\n",
      "model.layers.12.input_layernorm.weight: False\n",
      "model.layers.12.post_attention_layernorm.weight: False\n",
      "model.layers.13.self_attn.q_proj.weight: False\n",
      "model.layers.13.self_attn.k_proj.lora_magnitude: True\n",
      "model.layers.13.self_attn.k_proj.linear.weight: False\n",
      "model.layers.13.self_attn.k_proj.lora.A: True\n",
      "model.layers.13.self_attn.k_proj.lora.B: True\n",
      "model.layers.13.self_attn.v_proj.lora_magnitude: True\n",
      "model.layers.13.self_attn.v_proj.linear.weight: False\n",
      "model.layers.13.self_attn.v_proj.lora.A: True\n",
      "model.layers.13.self_attn.v_proj.lora.B: True\n",
      "model.layers.13.self_attn.o_proj.weight: False\n",
      "model.layers.13.mlp.gate_proj.weight: False\n",
      "model.layers.13.mlp.up_proj.weight: False\n",
      "model.layers.13.mlp.down_proj.weight: False\n",
      "model.layers.13.input_layernorm.weight: False\n",
      "model.layers.13.post_attention_layernorm.weight: False\n",
      "model.layers.14.self_attn.q_proj.weight: False\n",
      "model.layers.14.self_attn.k_proj.lora_magnitude: True\n",
      "model.layers.14.self_attn.k_proj.linear.weight: False\n",
      "model.layers.14.self_attn.k_proj.lora.A: True\n",
      "model.layers.14.self_attn.k_proj.lora.B: True\n",
      "model.layers.14.self_attn.v_proj.lora_magnitude: True\n",
      "model.layers.14.self_attn.v_proj.linear.weight: False\n",
      "model.layers.14.self_attn.v_proj.lora.A: True\n",
      "model.layers.14.self_attn.v_proj.lora.B: True\n",
      "model.layers.14.self_attn.o_proj.weight: False\n",
      "model.layers.14.mlp.gate_proj.weight: False\n",
      "model.layers.14.mlp.up_proj.weight: False\n",
      "model.layers.14.mlp.down_proj.weight: False\n",
      "model.layers.14.input_layernorm.weight: False\n",
      "model.layers.14.post_attention_layernorm.weight: False\n",
      "model.layers.15.self_attn.q_proj.weight: False\n",
      "model.layers.15.self_attn.k_proj.lora_magnitude: True\n",
      "model.layers.15.self_attn.k_proj.linear.weight: False\n",
      "model.layers.15.self_attn.k_proj.lora.A: True\n",
      "model.layers.15.self_attn.k_proj.lora.B: True\n",
      "model.layers.15.self_attn.v_proj.lora_magnitude: True\n",
      "model.layers.15.self_attn.v_proj.linear.weight: False\n",
      "model.layers.15.self_attn.v_proj.lora.A: True\n",
      "model.layers.15.self_attn.v_proj.lora.B: True\n",
      "model.layers.15.self_attn.o_proj.weight: False\n",
      "model.layers.15.mlp.gate_proj.weight: False\n",
      "model.layers.15.mlp.up_proj.weight: False\n",
      "model.layers.15.mlp.down_proj.weight: False\n",
      "model.layers.15.input_layernorm.weight: False\n",
      "model.layers.15.post_attention_layernorm.weight: False\n",
      "model.layers.16.self_attn.q_proj.weight: False\n",
      "model.layers.16.self_attn.k_proj.lora_magnitude: True\n",
      "model.layers.16.self_attn.k_proj.linear.weight: False\n",
      "model.layers.16.self_attn.k_proj.lora.A: True\n",
      "model.layers.16.self_attn.k_proj.lora.B: True\n",
      "model.layers.16.self_attn.v_proj.lora_magnitude: True\n",
      "model.layers.16.self_attn.v_proj.linear.weight: False\n",
      "model.layers.16.self_attn.v_proj.lora.A: True\n",
      "model.layers.16.self_attn.v_proj.lora.B: True\n",
      "model.layers.16.self_attn.o_proj.weight: False\n",
      "model.layers.16.mlp.gate_proj.weight: False\n",
      "model.layers.16.mlp.up_proj.weight: False\n",
      "model.layers.16.mlp.down_proj.weight: False\n",
      "model.layers.16.input_layernorm.weight: False\n",
      "model.layers.16.post_attention_layernorm.weight: False\n",
      "model.layers.17.self_attn.q_proj.weight: False\n",
      "model.layers.17.self_attn.k_proj.lora_magnitude: True\n",
      "model.layers.17.self_attn.k_proj.linear.weight: False\n",
      "model.layers.17.self_attn.k_proj.lora.A: True\n",
      "model.layers.17.self_attn.k_proj.lora.B: True\n",
      "model.layers.17.self_attn.v_proj.lora_magnitude: True\n",
      "model.layers.17.self_attn.v_proj.linear.weight: False\n",
      "model.layers.17.self_attn.v_proj.lora.A: True\n",
      "model.layers.17.self_attn.v_proj.lora.B: True\n",
      "model.layers.17.self_attn.o_proj.weight: False\n",
      "model.layers.17.mlp.gate_proj.weight: False\n",
      "model.layers.17.mlp.up_proj.weight: False\n",
      "model.layers.17.mlp.down_proj.weight: False\n",
      "model.layers.17.input_layernorm.weight: False\n",
      "model.layers.17.post_attention_layernorm.weight: False\n",
      "model.layers.18.self_attn.q_proj.weight: False\n",
      "model.layers.18.self_attn.k_proj.lora_magnitude: True\n",
      "model.layers.18.self_attn.k_proj.linear.weight: False\n",
      "model.layers.18.self_attn.k_proj.lora.A: True\n",
      "model.layers.18.self_attn.k_proj.lora.B: True\n",
      "model.layers.18.self_attn.v_proj.lora_magnitude: True\n",
      "model.layers.18.self_attn.v_proj.linear.weight: False\n",
      "model.layers.18.self_attn.v_proj.lora.A: True\n",
      "model.layers.18.self_attn.v_proj.lora.B: True\n",
      "model.layers.18.self_attn.o_proj.weight: False\n",
      "model.layers.18.mlp.gate_proj.weight: False\n",
      "model.layers.18.mlp.up_proj.weight: False\n",
      "model.layers.18.mlp.down_proj.weight: False\n",
      "model.layers.18.input_layernorm.weight: False\n",
      "model.layers.18.post_attention_layernorm.weight: False\n",
      "model.layers.19.self_attn.q_proj.weight: False\n",
      "model.layers.19.self_attn.k_proj.lora_magnitude: True\n",
      "model.layers.19.self_attn.k_proj.linear.weight: False\n",
      "model.layers.19.self_attn.k_proj.lora.A: True\n",
      "model.layers.19.self_attn.k_proj.lora.B: True\n",
      "model.layers.19.self_attn.v_proj.lora_magnitude: True\n",
      "model.layers.19.self_attn.v_proj.linear.weight: False\n",
      "model.layers.19.self_attn.v_proj.lora.A: True\n",
      "model.layers.19.self_attn.v_proj.lora.B: True\n",
      "model.layers.19.self_attn.o_proj.weight: False\n",
      "model.layers.19.mlp.gate_proj.weight: False\n",
      "model.layers.19.mlp.up_proj.weight: False\n",
      "model.layers.19.mlp.down_proj.weight: False\n",
      "model.layers.19.input_layernorm.weight: False\n",
      "model.layers.19.post_attention_layernorm.weight: False\n",
      "model.norm.weight: False\n",
      "lm_head.weight: False\n",
      "Train 465920/300067712 (0.16%) parameters\n"
     ]
    }
   ],
   "source": [
    "model = AutoModelForCausalLM.from_pretrained(MODEL_NAME)\n",
    "model = model.to(DEVICE)\n",
    "\n",
    "apply_peft_to_module(model, LinearWithDoRA, r=8, alpha=16, target_submodules=[\"k_proj\", \"v_proj\"])\n",
    "\n",
    "model = freeze_layers(model, [\"lora\"])"
   ]
  },
  {
   "cell_type": "markdown",
   "metadata": {
    "id": "j0zhC40OJYGu"
   },
   "source": [
    "### Обучение"
   ]
  },
  {
   "cell_type": "code",
   "execution_count": 35,
   "metadata": {
    "id": "VRkx5lW9tof3"
   },
   "outputs": [],
   "source": [
    "BATCH_SIZE = 16\n",
    "LEARNING_RATE = 3e-5\n",
    "NUM_EPOCHS = 1\n",
    "\n",
    "train_dataloader = DataLoader(\n",
    "    dataset[\"train\"].take(10_000),\n",
    "    batch_size=BATCH_SIZE,\n",
    "    shuffle=True,\n",
    "    collate_fn=partial(pad_collate_fn, pad_token_id=tokenizer.pad_token_id),\n",
    ")\n",
    "\n",
    "optimizer = torch.optim.AdamW(\n",
    "    [p for n, p in model.named_parameters() if \"lora\" in n], lr=LEARNING_RATE, weight_decay=0.01\n",
    ")"
   ]
  },
  {
   "cell_type": "code",
   "execution_count": 36,
   "metadata": {
    "colab": {
     "base_uri": "https://localhost:8080/",
     "height": 307,
     "referenced_widgets": [
      "760d96a580614f7a8d177a1db989e172",
      "1f27d4e6250a416580ef7e2a0a9fc2d3",
      "c8f54b4828ce4e9a94550ee15ce34724",
      "ec4afc80d0594392bf132dc43721f190",
      "3c0b645c5e6f44ce83abf2ad24ca1426",
      "70bf57cf22374ef5b365702801fd042f",
      "3e97495177634888b4188e51c6aec53d",
      "0a5a65fdfe3047728b83c57ba627169c",
      "8b05a52445b944a68e816b82488c4c66",
      "55e57c82eba744fc87c6e0d0cd1aef9d",
      "7a4daa99ef2e494d97a6784b741f8e18",
      "f53aea5dfb9c4f389a7e2a6ccee4b484",
      "f29aab533636470ebfe56da69034b19b",
      "f8559660a81a4ee8975bfec786b22404",
      "84bbf314a40f43cea6d0f694b7b1c037",
      "603f4f18159843949d35fa89862d2433",
      "b078df7a46074829906cec350f17891b",
      "64d1da6ba08c4fe6b001c8e5df19e3ba",
      "a6f9e19c3e59406c89f5cb7c9454357d",
      "44fec9ad7785447783ba0847e60a2fde",
      "365f7e45cdc143979756b67b251b7f03",
      "70130dda83d145c0bd7f41575a88b6dd"
     ]
    },
    "id": "VyxkGpb6joyP",
    "outputId": "89a2b5d8-dccf-44e6-96cd-5be70e3c14e9"
   },
   "outputs": [
    {
     "data": {
      "application/vnd.jupyter.widget-view+json": {
       "model_id": "760d96a580614f7a8d177a1db989e172",
       "version_major": 2,
       "version_minor": 0
      },
      "text/plain": [
       "  0%|          | 0/625 [00:00<?, ?it/s]"
      ]
     },
     "metadata": {},
     "output_type": "display_data"
    },
    {
     "name": "stdout",
     "output_type": "stream",
     "text": [
      "Epoch 1, Step 50 | Avg Loss: 1.7593\n",
      "Epoch 1, Step 100 | Avg Loss: 1.3665\n",
      "Epoch 1, Step 150 | Avg Loss: 1.1944\n",
      "Epoch 1, Step 200 | Avg Loss: 0.7437\n",
      "Epoch 1, Step 250 | Avg Loss: 1.4347\n",
      "Epoch 1, Step 300 | Avg Loss: 0.8928\n",
      "Epoch 1, Step 350 | Avg Loss: 1.1041\n",
      "Epoch 1, Step 400 | Avg Loss: 0.9776\n",
      "Epoch 1, Step 450 | Avg Loss: 0.8725\n",
      "Epoch 1, Step 500 | Avg Loss: 0.9755\n",
      "Epoch 1, Step 550 | Avg Loss: 0.8700\n",
      "Epoch 1, Step 600 | Avg Loss: 0.7274\n"
     ]
    },
    {
     "data": {
      "application/vnd.jupyter.widget-view+json": {
       "model_id": "f53aea5dfb9c4f389a7e2a6ccee4b484",
       "version_major": 2,
       "version_minor": 0
      },
      "text/plain": [
       "  0%|          | 0/20 [00:00<?, ?it/s]"
      ]
     },
     "metadata": {},
     "output_type": "display_data"
    },
    {
     "name": "stdout",
     "output_type": "stream",
     "text": [
      "Epoch 1 | Validation F1: 0.3635631897732481\n"
     ]
    }
   ],
   "source": [
    "model = train_model(model, optimizer, train_dataloader, dataset[\"validation\"], NUM_EPOCHS)"
   ]
  },
  {
   "cell_type": "code",
   "execution_count": 37,
   "metadata": {
    "colab": {
     "base_uri": "https://localhost:8080/"
    },
    "id": "eVpdAGlq_UVh",
    "outputId": "525dea2d-8997-4a16-ede4-3c064be35a0e"
   },
   "outputs": [
    {
     "name": "stdout",
     "output_type": "stream",
     "text": [
      "\"QT @user In the original draft of the 7th book, Remus Lupin survived the Battle of Hogwarts. #HappyBirthdayRemusLupin\"\n",
      "positive\n",
      "positive \n",
      "==========\n",
      "\"Ben Smith / Smith (concussion) remains out of the lineup Thursday, Curtis #NHL #SJ\"\n",
      "neutral\n",
      "neutral \n",
      "ralphralphralphralphralph\n",
      "==========\n",
      "Sorry bout the stream last night I crashed out but will be on tonight for sure. Then back to Minecraft in pc tomorrow night.\n",
      "neutral\n",
      "\n",
      "positive \n",
      "ralitive\n",
      "==========\n",
      "Chase Headley's RBI double in the 8th inning off David Price snapped a Yankees streak of 33 consecutive scoreless innings against Blue Jays\n",
      "neutral\n",
      "neutral \n",
      "ralicious\n",
      "==========\n",
      "@user Alciato: Bee will invest 150 million in January, another 200 in the Summer and plans to bring Messi by 2017\"\n",
      "positive\n",
      "neutral \n",
      "ralitive\n",
      "==========\n"
     ]
    }
   ],
   "source": [
    "for i in range(5):\n",
    "    input_ids = torch.tensor([dataset[\"train\"][i][\"input_ids\"]], device=DEVICE)\n",
    "    generated_text = generate_class(model, tokenizer, input_ids)\n",
    "    print(dataset[\"train\"][i][\"text\"])\n",
    "    print(dataset[\"train\"][i][\"str_label\"])\n",
    "    print(generated_text)\n",
    "    print(\"=\" * 10)"
   ]
  },
  {
   "cell_type": "code",
   "execution_count": 38,
   "metadata": {
    "colab": {
     "base_uri": "https://localhost:8080/",
     "height": 498,
     "referenced_widgets": [
      "17610ae3acaa4e0d93bbe3a885bc5559",
      "7524c455d76546e99d47d822772bc03e",
      "de89d11a151542c58b13c5a25a290607",
      "a8685f2a91cb41a0be81d032fbcf11a5",
      "81c81fd4e33e4171b4b479b8418d3630",
      "dd426d5c195149b3a4a645a7ee0f8c5f",
      "d017e53162b14b9ea2597fbc6ca8ef65",
      "6ab8f77bd2b64585b3824f6d4bf964a2",
      "814e32985cdc4cbca003b6ebdf9ea0cc",
      "ad8a5c3bfb28419095c3b67cbb9cdb9a",
      "627b5350aeb74eb595f9bd40c70915d9"
     ]
    },
    "id": "gn4CRy9gJYGu",
    "outputId": "7f8d90e1-c8ba-49e3-e8ae-5f9503918e2d"
   },
   "outputs": [
    {
     "data": {
      "application/vnd.jupyter.widget-view+json": {
       "model_id": "17610ae3acaa4e0d93bbe3a885bc5559",
       "version_major": 2,
       "version_minor": 0
      },
      "text/plain": [
       "  0%|          | 0/123 [00:00<?, ?it/s]"
      ]
     },
     "metadata": {},
     "output_type": "display_data"
    },
    {
     "name": "stdout",
     "output_type": "stream",
     "text": [
      "After DoRA Macro F1: 0.34\n"
     ]
    },
    {
     "data": {
      "image/png": "[encoded data removed]",
      "text/plain": [
       "<Figure size 640x480 with 2 Axes>"
      ]
     },
     "metadata": {},
     "output_type": "display_data"
    }
   ],
   "source": [
    "after_dora_f1 = eval(model, dataset[\"test\"], tokenizer)\n",
    "print(f\"After DoRA Macro F1: {after_dora_f1:.2f}\")"
   ]
  },
  {
   "cell_type": "markdown",
   "metadata": {
    "id": "Lsw1xNriLOK1"
   },
   "source": [
    "Для качественного обучения доры в этой задаче нужно постараться.\n",
    "Будем считать, что если качество > 0.5, то задание с учетом правильности кода решено верно"
   ]
  },
  {
   "cell_type": "code",
   "execution_count": 39,
   "metadata": {
    "colab": {
     "base_uri": "https://localhost:8080/",
     "height": 171,
     "referenced_widgets": [
      "578bb4e5913645cda565c2ab8cfe2ebb",
      "ab4ea703247e46c182a7bdfc58cc44fe",
      "b89822ac69f042d08600fe0746720b21",
      "229f4bd42d724a94bc4b924f0c0cc4cb",
      "3404911ce4f94c9ba71b1815233ef835",
      "60a609e04aae496394bca6204adb849a",
      "2fe8d7a29b2c439982d477a1e26b1f2b",
      "90947565f02845b79417502f3fe34a46",
      "54b20278a8b44f7a861d06ce40b4d2db",
      "103500997ef7410bbc54b5c5af45828c",
      "e7cf17fd3a6f4ecca97a3b7a5584b961"
     ]
    },
    "id": "iKx3V44Wtof4",
    "outputId": "d1ab81a7-0f15-42b4-9375-0aa335f6cab1"
   },
   "outputs": [
    {
     "data": {
      "application/vnd.jupyter.widget-view+json": {
       "model_id": "578bb4e5913645cda565c2ab8cfe2ebb",
       "version_major": 2,
       "version_minor": 0
      },
      "text/plain": [
       "README.md:   0%|          | 0.00/5.17k [00:00<?, ?B/s]"
      ]
     },
     "metadata": {},
     "output_type": "display_data"
    },
    {
     "name": "stderr",
     "output_type": "stream",
     "text": [
      "No files have been modified since last commit. Skipping to prevent empty commit.\n",
      "WARNING:huggingface_hub.hf_api:No files have been modified since last commit. Skipping to prevent empty commit.\n",
      "No files have been modified since last commit. Skipping to prevent empty commit.\n",
      "WARNING:huggingface_hub.hf_api:No files have been modified since last commit. Skipping to prevent empty commit.\n"
     ]
    },
    {
     "data": {
      "application/vnd.google.colaboratory.intrinsic+json": {
       "type": "string"
      },
      "text/plain": [
       "CommitInfo(commit_url='https://huggingface.co/xinyuema/llm-course-hw3-dora/commit/3ab4e9ae67dbf50ad9ade3f12b913018fecd433b', commit_message='Upload tokenizer', commit_description='', oid='3ab4e9ae67dbf50ad9ade3f12b913018fecd433b', pr_url=None, repo_url=RepoUrl('https://huggingface.co/xinyuema/llm-course-hw3-dora', endpoint='https://huggingface.co', repo_type='model', repo_id='xinyuema/llm-course-hw3-dora'), pr_revision=None, pr_num=None)"
      ]
     },
     "execution_count": 39,
     "metadata": {},
     "output_type": "execute_result"
    }
   ],
   "source": [
    "# Загружаем все на хаб\n",
    "\n",
    "model.push_to_hub(f\"{REPO_NAME}-dora\", private=True)\n",
    "tokenizer.push_to_hub(f\"{REPO_NAME}-dora\", private=True)"
   ]
  },
  {
   "cell_type": "code",
   "execution_count": 40,
   "metadata": {
    "id": "mfHn0cq2joyQ"
   },
   "outputs": [],
   "source": [
    "# Очистим память\n",
    "gc.collect()\n",
    "torch.cuda.empty_cache()"
   ]
  },
  {
   "cell_type": "markdown",
   "metadata": {
    "id": "RQ2oIfqq-luU"
   },
   "source": [
    "## Frameworks way [4 балла]\n",
    "\n",
    "### QLoRA: [Efficient Finetuning of Quantized LLMs](https://arxiv.org/pdf/2305.14314)\n",
    "\n",
    "Метод QLoRA направлен на эффективное дообучение предварительно обученных больших языковых моделей с использованием квантования весов. Основная идея заключается в том, что во время обратного распространения ошибки модель квантует исходные веса с точностью до 4 бит, что позволяет значительно сократить использование GPU памяти. Для обработки пиков памяти при этом применяются страничные оптимизаторы.\n",
    "\n",
    "В результате, применение QLoRA часто приводит к экономии GPU памяти примерно на $\\dfrac{1}{3}$, однако время обучения при этом может увеличиться почти на $\\dfrac{1}{4}$ по сравнению с традиционными методами дообучения.\n",
    "\n",
    "Такой компромисс между экономией памяти и увеличением времени обучения делает QLoRA привлекательным решением в сценариях, где ресурсы ограничены, а эффективность использования памяти критически важна."
   ]
  },
  {
   "cell_type": "markdown",
   "metadata": {
    "id": "rFawKYW2JYGu"
   },
   "source": [
    "Теперь с таким прекрасным инструментом как QLoRA можем рассмотреть более тяжелую модель аж 1.1B :)"
   ]
  },
  {
   "cell_type": "markdown",
   "metadata": {
    "id": "ORyx9BcxTeIB"
   },
   "source": [
    "Используйте документацию библиотек [HuggingFace Transformers](https://huggingface.co/docs/transformers/index) и [PEFT](https://huggingface.co/docs/peft/index).\n",
    "\n",
    "1. Конфигурация квантизации (`BitsAndBytesConfig`): Подберите тип 4-битной квантизации (`bnb_4bit_quant_type`) и размерность подсчёта (`bnb_4bit_compute_dtype`)\n",
    "\n",
    "2. Настройка LoRA-адаптеров (`LoraConfig`):\n",
    "    - Подберите и обоснуйте значения следующих гиперпараметров:\n",
    "        - `lora_alpha`\n",
    "        - `lora_dropout`\n",
    "        - `r`\n",
    "    - Выберите модули модели, к которым следует применять LoRA-адаптеры (`target_modules`).\n",
    "\n",
    "3. Настройка параметров обучения (`TrainingArguments`, `SFTTrainer`):\n",
    "Используя документацию и подберите параметры:\n",
    "    - `learning_rate`\n",
    "    - `num_train_epochs`\n",
    "    - `gradient_accumulation_steps`\n",
    "    - `lr_scheduler_type`\n",
    "    - `per_device_train_batch_size`\n",
    "    - другие параметры по необходимости\n",
    "\n",
    "4. Проведение обучения и анализ результатов:\n",
    "    - Запустите обучение модели.\n",
    "    - Оцените модель до и после обучения.\n",
    "    - сохраните модель\n"
   ]
  },
  {
   "cell_type": "code",
   "execution_count": 41,
   "metadata": {
    "colab": {
     "base_uri": "https://localhost:8080/",
     "height": 130,
     "referenced_widgets": [
      "1807814eff2b4a3a9cad407e32012964",
      "0848732ee261420899b063ed73f3b076",
      "311ca36afdfc4e29b8cc71fd54fb9078",
      "3034f8b2405d44f898ad865e21a06c4d",
      "cda3f218f29543f09da420e492956409",
      "87ec8a198726499ab8dbbe9d40deab44",
      "9e0bf737252c4fbd82b6861d49b10553",
      "d04b451ede3f44a8bbbffb243d3c508a",
      "9d5c8c85e7d04c8aa3cf124de7aa51fb",
      "df3849acaeb74a6caaae7ee3a2f237c0",
      "c71fb78f634c4b2697a5e11d42676dcf",
      "0204de60439944a6868a43929f28b367",
      "fad6ef1657214f1ba9e92a18fddd0660",
      "f9153d92285140cc86cf12cf8f596e23",
      "0a65d2eb3b6e4a5780096ee45d8f0f84",
      "908d22c72ed64e00b784ecaeafdf76dc",
      "c336008f2b364b57bad99b981dfc1a97",
      "9a64079a25d74941b345e9d2f4203705",
      "e974103d0a11480b9c6f2c7cc0478604",
      "3b620d162ca3408e858003cccbfdc1e4",
      "18ede8aaff7a47a0972d20fec9673d2e",
      "fe3711c6cda94e348d514dc0eef8ffa2",
      "6183f374bb65478abc82e5cc65e02a13",
      "adf34793e9b04b7eb91945bd80b4adeb",
      "55c66898e95c4a9385764526d8c759ef",
      "c8e799d68e3e471299e97f1223234aa4",
      "c976705515704b4981275ed843925b3d",
      "da4b93711ddb414b97e1ce12914e1707",
      "3b87df51d9d644348e56ceef2dd82f17",
      "1ae74c70a46448a2897d94cc9b025113",
      "5febc5305f71432e90e6fb51bdc596ba",
      "a63a61b9a95d4d428e7de1c0bb99216c",
      "37a1cabe762941f6a299d1fb79b3e535"
     ]
    },
    "id": "QbVVMEvgeCMq",
    "outputId": "e8210dbd-606b-4bdb-edc5-024d397a5bea"
   },
   "outputs": [
    {
     "data": {
      "application/vnd.jupyter.widget-view+json": {
       "model_id": "1807814eff2b4a3a9cad407e32012964",
       "version_major": 2,
       "version_minor": 0
      },
      "text/plain": [
       "config.json:   0%|          | 0.00/608 [00:00<?, ?B/s]"
      ]
     },
     "metadata": {},
     "output_type": "display_data"
    },
    {
     "name": "stderr",
     "output_type": "stream",
     "text": [
      "`low_cpu_mem_usage` was None, now default to True since model is quantized.\n"
     ]
    },
    {
     "data": {
      "application/vnd.jupyter.widget-view+json": {
       "model_id": "0204de60439944a6868a43929f28b367",
       "version_major": 2,
       "version_minor": 0
      },
      "text/plain": [
       "model.safetensors:   0%|          | 0.00/2.20G [00:00<?, ?B/s]"
      ]
     },
     "metadata": {},
     "output_type": "display_data"
    },
    {
     "data": {
      "application/vnd.jupyter.widget-view+json": {
       "model_id": "6183f374bb65478abc82e5cc65e02a13",
       "version_major": 2,
       "version_minor": 0
      },
      "text/plain": [
       "generation_config.json:   0%|          | 0.00/124 [00:00<?, ?B/s]"
      ]
     },
     "metadata": {},
     "output_type": "display_data"
    }
   ],
   "source": [
    "LARGE_MODEL_NAME = \"TinyLlama/TinyLlama-1.1B-Chat-v1.0\"\n",
    "\n",
    "# Заведем конфиг для квантизации\n",
    "bnb_config = BitsAndBytesConfig(\n",
    "    load_in_4bit=True,\n",
    "    bnb_4bit_quant_type=\"nf4\", # todo()\n",
    "    bnb_4bit_compute_dtype=torch.bfloat16, # todo()\n",
    ")\n",
    "\n",
    "# Инициализация квантованной модели\n",
    "model = AutoModelForCausalLM.from_pretrained(LARGE_MODEL_NAME, quantization_config=bnb_config)\n",
    "model = model.to(DEVICE)"
   ]
  },
  {
   "cell_type": "code",
   "execution_count": 42,
   "metadata": {
    "colab": {
     "base_uri": "https://localhost:8080/",
     "height": 145,
     "referenced_widgets": [
      "62a4fefe204f4e929f78f92d5efd8e1e",
      "0ebd78a31b5349a6b9eebac95f15c960",
      "69be3d167cc24fbfbf63ebdf85b205fa",
      "12ba12f490d141b88d8b1f84a821750d",
      "78af5ba6a6ca490fae330b71db57717c",
      "14039e47205c4ea5b9894369c76622cb",
      "6f2401c47efd461590f14139c83dbc25",
      "ea9856bdcccc47f2a845e599a58e24d0",
      "d2518392350544c0b2674c6d1e08ec4f",
      "d56daa6cc1f14b41810076fec02bbaa8",
      "717ea84ba5964184af95835deeb1bad4",
      "34a5a658631c4d57943a65e58789c1fa",
      "f02efff248524009a69273affe9a199f",
      "cc7fcedd258b470bb8a1f6ffd988dc99",
      "91b8064005c14cbfb403483830626874",
      "2907166c8fb14a9893a9a9676a91973e",
      "cd2882d300b848849210bffb2ba4aa30",
      "404a8a4f70b64937837b97ca500eb0d0",
      "b5d4059c5a7a4cb3a50907b0c29b964d",
      "7391bced145243e1a8f69086a3c99241",
      "4460186141be470cb3cb5a4c60f24a65",
      "dad6b4ed3d764bbdb771b0eb051cdf53",
      "1e03152c791943baa87a114cba1d6e32",
      "1229b917aef5438dad34e1513c19260e",
      "54218d58e83d448a8588decdd0667eee",
      "0c770fb81f6a40629873083195b433f9",
      "89e841f9aa274d0c956d39e85e48b741",
      "01b77aceee494b11a81d51d24d785183",
      "fb264355eefa4ba8abbdd28e878b0d9b",
      "0854ea27847f4a45b6d6d53bf1bcb072",
      "d5a0948b053647e89e8d0ae4568e12e5",
      "2f65d35dfc684223b4c362b1ef3b0aa4",
      "5e9336d74e8b42b3912f1dadc887f2a6",
      "27f51de1bd8449e1bb0dd516f6006675",
      "c440922c33da4cf9831840ec4e52fc77",
      "a1f347bcb14949dba3109b46d44b2c49",
      "d226525b13354ac4a1958461afddde2b",
      "20b27c51f36f4f5c979305e37abde76a",
      "bed7d1ce7b2741638c3fdcba8ea4e612",
      "166423a35d164bf7ad0715e530a556d6",
      "b28f530f8a6f45bf9dae04eed25be9fd",
      "f6364a188b9e46278b4697d7ccda0e27",
      "8b0cdb713c2b4f7d860422f9215017fb",
      "b75889cd80164e2c88525d4f237251c7"
     ]
    },
    "id": "x3eNbrPleCMr",
    "outputId": "76f0c872-dd69-4952-f1f9-1e32ca219d38"
   },
   "outputs": [
    {
     "data": {
      "application/vnd.jupyter.widget-view+json": {
       "model_id": "62a4fefe204f4e929f78f92d5efd8e1e",
       "version_major": 2,
       "version_minor": 0
      },
      "text/plain": [
       "tokenizer_config.json:   0%|          | 0.00/1.29k [00:00<?, ?B/s]"
      ]
     },
     "metadata": {},
     "output_type": "display_data"
    },
    {
     "data": {
      "application/vnd.jupyter.widget-view+json": {
       "model_id": "34a5a658631c4d57943a65e58789c1fa",
       "version_major": 2,
       "version_minor": 0
      },
      "text/plain": [
       "tokenizer.model:   0%|          | 0.00/500k [00:00<?, ?B/s]"
      ]
     },
     "metadata": {},
     "output_type": "display_data"
    },
    {
     "data": {
      "application/vnd.jupyter.widget-view+json": {
       "model_id": "1e03152c791943baa87a114cba1d6e32",
       "version_major": 2,
       "version_minor": 0
      },
      "text/plain": [
       "tokenizer.json:   0%|          | 0.00/1.84M [00:00<?, ?B/s]"
      ]
     },
     "metadata": {},
     "output_type": "display_data"
    },
    {
     "data": {
      "application/vnd.jupyter.widget-view+json": {
       "model_id": "27f51de1bd8449e1bb0dd516f6006675",
       "version_major": 2,
       "version_minor": 0
      },
      "text/plain": [
       "special_tokens_map.json:   0%|          | 0.00/551 [00:00<?, ?B/s]"
      ]
     },
     "metadata": {},
     "output_type": "display_data"
    }
   ],
   "source": [
    "tokenizer = AutoTokenizer.from_pretrained(LARGE_MODEL_NAME)\n",
    "# tokenizer.pad_token = \"<PAD>\"\n",
    "tokenizer.padding_side = \"left\""
   ]
  },
  {
   "cell_type": "code",
   "execution_count": 43,
   "metadata": {
    "colab": {
     "base_uri": "https://localhost:8080/",
     "height": 889,
     "referenced_widgets": [
      "81ef8e355fdf4591816e7ea34391865b",
      "fcc32cb9f34f4e4ebb234a4580e83ca9",
      "0553ca36929b46ab84164f4fc36be752",
      "a8faf5fd37ec4952910c902cf354e467",
      "70ac967c06664ef49de2b260e60f1595",
      "281632fda2c14edfa15f479d15ca7e95",
      "21de5b970fc543e28c35e6800512ae43",
      "095f45d871264fad81d0caf0555d059a",
      "9233a49828584a39b3e986fb8664006a",
      "c6bd686d677b49a4930f76fec9242827",
      "06ff9e094854427c9f584e431fae2e52",
      "31b5798c1ebd4407bb67ed66ee42d6bb",
      "74be671eb7374410b0a88c44550c9e23",
      "ba72be11c1d74556968f00b40b1088ca",
      "403893d25fac4a478722920e41bfc47c",
      "5096aed364664648a2104e390282aa64",
      "c9da620d4ded4c7f9eb6cff8317f73e7",
      "2803e812464e4b7cba509f04910aaf01",
      "1ee43cbc0cc748f6b411489adb89e152",
      "c6de69093aee4dd0b3c7f0314a7500b7",
      "69efed1dbc7d40b18280cd40603c5cd3",
      "aaf7b4cc9d384b6ba1c6bf84a028c81f",
      "39491e56ae284a31a694eb9ad1c393f8",
      "b50495f4ae174937b14649ada5373983",
      "1e12bdb82a8b4b418cd16da46a5ede09",
      "3b4e3c25e3cf4fcbb1ff9a4725cf9865",
      "278cd3ebb060489ea69dabea09187d4d",
      "b2f3930a562748d7ba15fae3443b1646",
      "7b0df3c13e88483999ae4ca9e9aae6a1",
      "7182e957cfbd45a49c0f96abf3e0a2c9",
      "d1bcb06dd9e448d4926791b70f1538dd",
      "a50ac063849442e69ceb05147cab1154",
      "0d071e670fbf4f4bbd3e96a9ff9ef62c",
      "d473bf574568475cad0ed66c00103e17",
      "ec78260c3af64db39024e4415380fc38",
      "bceaadd49596481f87b772f4dbfc69b2",
      "87d542afaca045f5bfae35fc731aac01",
      "85538cef205342cda86aa7d46b572383",
      "2b90c20db21d4110b5badd01210d1371",
      "f5c3ba0de83c4b3fb9338b3968e0b6d2",
      "67578172392b48ffaccca1870b747545",
      "42236e506e4f497893d0bb5cb3cc4abf",
      "c1a259975d924f618b0ea31cd776b12d",
      "a1bce1fd15a744ebaae959e5324b7401",
      "4c1d2d86335e4475a766ea6cebbcdf91",
      "4887fd409d1b47c9a136cea0e44f2cc3",
      "90fd90b711e04e6a82fd998c09d7f996",
      "bdb5cd415edb4dfbb4f4cf9b2432b9c5",
      "382adce4d2ab44cda000cf4d2dba3baf",
      "b7d87aa38cc84894b1d58be715076130",
      "5bcbc6ab9d3e46109c9fd2c67c3cacc7",
      "14d4ed0ef44249d8bf35aba1cd1ddfe0",
      "ad435485c2a94387aa390f0de6cc9b7f",
      "1923e14f34a34f868dc799e53b113dae",
      "241d8459a89949f2a7cb11b9f33340a6",
      "9825862b136545c4bf8a99aa6e2a76c6",
      "faf0217e7130469db7b04ac24dc4ef2b",
      "363b87100249425e9fd69118d2053039",
      "450bc1c0becc40d9b402b6d97c24af6e",
      "e4f861ba0d3b48b9bd3a83a3fc8e780c",
      "18adc06bc5274430afb57cad970110ad",
      "cb1d40abe1a94e1db323f00a18219cf3",
      "ad93529be8d3489aa82a30381c18ec9d",
      "8a92c9d5fad447cb9502b59e187d5036",
      "ee4683dcbef143bcbdb661f3899b797b",
      "1d7f589764244ddb9bf20f12fecee9d8"
     ]
    },
    "id": "EaC7cr07KR6w",
    "outputId": "1275e7a5-cbd9-4904-d0da-8d76aa9bb8e1"
   },
   "outputs": [
    {
     "data": {
      "application/vnd.jupyter.widget-view+json": {
       "model_id": "81ef8e355fdf4591816e7ea34391865b",
       "version_major": 2,
       "version_minor": 0
      },
      "text/plain": [
       "Map:   0%|          | 0/45615 [00:00<?, ? examples/s]"
      ]
     },
     "metadata": {},
     "output_type": "display_data"
    },
    {
     "data": {
      "application/vnd.jupyter.widget-view+json": {
       "model_id": "31b5798c1ebd4407bb67ed66ee42d6bb",
       "version_major": 2,
       "version_minor": 0
      },
      "text/plain": [
       "Map:   0%|          | 0/45615 [00:00<?, ? examples/s]"
      ]
     },
     "metadata": {},
     "output_type": "display_data"
    },
    {
     "data": {
      "application/vnd.jupyter.widget-view+json": {
       "model_id": "39491e56ae284a31a694eb9ad1c393f8",
       "version_major": 2,
       "version_minor": 0
      },
      "text/plain": [
       "Map:   0%|          | 0/12284 [00:00<?, ? examples/s]"
      ]
     },
     "metadata": {},
     "output_type": "display_data"
    },
    {
     "data": {
      "application/vnd.jupyter.widget-view+json": {
       "model_id": "d473bf574568475cad0ed66c00103e17",
       "version_major": 2,
       "version_minor": 0
      },
      "text/plain": [
       "Map:   0%|          | 0/12284 [00:00<?, ? examples/s]"
      ]
     },
     "metadata": {},
     "output_type": "display_data"
    },
    {
     "data": {
      "application/vnd.jupyter.widget-view+json": {
       "model_id": "4c1d2d86335e4475a766ea6cebbcdf91",
       "version_major": 2,
       "version_minor": 0
      },
      "text/plain": [
       "Map:   0%|          | 0/2000 [00:00<?, ? examples/s]"
      ]
     },
     "metadata": {},
     "output_type": "display_data"
    },
    {
     "data": {
      "application/vnd.jupyter.widget-view+json": {
       "model_id": "9825862b136545c4bf8a99aa6e2a76c6",
       "version_major": 2,
       "version_minor": 0
      },
      "text/plain": [
       "Map:   0%|          | 0/2000 [00:00<?, ? examples/s]"
      ]
     },
     "metadata": {},
     "output_type": "display_data"
    },
    {
     "name": "stdout",
     "output_type": "stream",
     "text": [
      "text: \"QT @user In the original draft of the 7th book, Remus Lupin survived the Battle of Hogwarts. #HappyBirthdayRemusLupin\"\n",
      "label: 2\n",
      "str_label: positive\n",
      "prompt: <|im_start|>system\n",
      "You are a tweet sentiment classifier. For each tweet input, analyze its sentiment and output exactly one word: \"negative\", \"neutral\", or \"positive\". Do not include any extra text.<|im_end|>\n",
      "<|im_start|>user\n",
      "\"QT @user In the original draft of the 7th book, Remus Lupin survived the Battle of Hogwarts. #HappyBirthdayRemusLupin\"<|im_end|>\n",
      "<|im_start|>assistant\n",
      "\n",
      "full_prompt: <|im_start|>system\n",
      "You are a tweet sentiment classifier. For each tweet input, analyze its sentiment and output exactly one word: \"negative\", \"neutral\", or \"positive\". Do not include any extra text.<|im_end|>\n",
      "<|im_start|>user\n",
      "\"QT @user In the original draft of the 7th book, Remus Lupin survived the Battle of Hogwarts. #HappyBirthdayRemusLupin\"<|im_end|>\n",
      "<|im_start|>assistant\n",
      "positive<|im_end|>\n",
      "\n",
      "input_ids: [1, 529, 29989, 326, 29918, 2962, 29989, 29958, 5205, 13, 3492, 526, 263, 7780, 300, 19688, 770, 3709, 29889, 1152, 1269, 7780, 300, 1881, 29892, 27599, 967, 19688, 322, 1962, 3721, 697, 1734, 29901, 376, 22198, 613, 376, 17821, 1705, 613, 470, 376, 1066, 3321, 1642, 1938, 451, 3160, 738, 4805, 1426, 19423, 29989, 326, 29918, 355, 29989, 29958, 13, 29966, 29989, 326, 29918, 2962, 29989, 29958, 1792, 13, 29908, 29984, 29911, 732, 1792, 512, 278, 2441, 18195, 310, 278, 29871, 29955, 386, 3143, 29892, 5240, 375, 365, 786, 262, 10503, 2347, 278, 12788, 310, 27675, 29893, 5708, 29889, 396, 29950, 14862, 29933, 7515, 3250, 7301, 375, 29931, 786, 262, 29908, 29966, 29989, 326, 29918, 355, 29989, 29958, 13, 29966, 29989, 326, 29918, 2962, 29989, 29958, 465, 22137, 13]\n",
      "full_input_ids: [1, 529, 29989, 326, 29918, 2962, 29989, 29958, 5205, 13, 3492, 526, 263, 7780, 300, 19688, 770, 3709, 29889, 1152, 1269, 7780, 300, 1881, 29892, 27599, 967, 19688, 322, 1962, 3721, 697, 1734, 29901, 376, 22198, 613, 376, 17821, 1705, 613, 470, 376, 1066, 3321, 1642, 1938, 451, 3160, 738, 4805, 1426, 19423, 29989, 326, 29918, 355, 29989, 29958, 13, 29966, 29989, 326, 29918, 2962, 29989, 29958, 1792, 13, 29908, 29984, 29911, 732, 1792, 512, 278, 2441, 18195, 310, 278, 29871, 29955, 386, 3143, 29892, 5240, 375, 365, 786, 262, 10503, 2347, 278, 12788, 310, 27675, 29893, 5708, 29889, 396, 29950, 14862, 29933, 7515, 3250, 7301, 375, 29931, 786, 262, 29908, 29966, 29989, 326, 29918, 355, 29989, 29958, 13, 29966, 29989, 326, 29918, 2962, 29989, 29958, 465, 22137, 13, 1066, 3321, 29966, 29989, 326, 29918, 355, 29989, 29958, 13]\n",
      "==========\n",
      "text: \"Ben Smith / Smith (concussion) remains out of the lineup Thursday, Curtis #NHL #SJ\"\n",
      "label: 1\n",
      "str_label: neutral\n",
      "prompt: <|im_start|>system\n",
      "You are a tweet sentiment classifier. For each tweet input, analyze its sentiment and output exactly one word: \"negative\", \"neutral\", or \"positive\". Do not include any extra text.<|im_end|>\n",
      "<|im_start|>user\n",
      "\"Ben Smith / Smith (concussion) remains out of the lineup Thursday, Curtis #NHL #SJ\"<|im_end|>\n",
      "<|im_start|>assistant\n",
      "\n",
      "full_prompt: <|im_start|>system\n",
      "You are a tweet sentiment classifier. For each tweet input, analyze its sentiment and output exactly one word: \"negative\", \"neutral\", or \"positive\". Do not include any extra text.<|im_end|>\n",
      "<|im_start|>user\n",
      "\"Ben Smith / Smith (concussion) remains out of the lineup Thursday, Curtis #NHL #SJ\"<|im_end|>\n",
      "<|im_start|>assistant\n",
      "neutral<|im_end|>\n",
      "\n",
      "input_ids: [1, 529, 29989, 326, 29918, 2962, 29989, 29958, 5205, 13, 3492, 526, 263, 7780, 300, 19688, 770, 3709, 29889, 1152, 1269, 7780, 300, 1881, 29892, 27599, 967, 19688, 322, 1962, 3721, 697, 1734, 29901, 376, 22198, 613, 376, 17821, 1705, 613, 470, 376, 1066, 3321, 1642, 1938, 451, 3160, 738, 4805, 1426, 19423, 29989, 326, 29918, 355, 29989, 29958, 13, 29966, 29989, 326, 29918, 2962, 29989, 29958, 1792, 13, 29908, 20841, 7075, 847, 7075, 313, 535, 17348, 29897, 9242, 714, 310, 278, 1196, 786, 498, 1295, 3250, 29892, 25141, 275, 396, 29940, 15444, 396, 29903, 29967, 29908, 29966, 29989, 326, 29918, 355, 29989, 29958, 13, 29966, 29989, 326, 29918, 2962, 29989, 29958, 465, 22137, 13]\n",
      "full_input_ids: [1, 529, 29989, 326, 29918, 2962, 29989, 29958, 5205, 13, 3492, 526, 263, 7780, 300, 19688, 770, 3709, 29889, 1152, 1269, 7780, 300, 1881, 29892, 27599, 967, 19688, 322, 1962, 3721, 697, 1734, 29901, 376, 22198, 613, 376, 17821, 1705, 613, 470, 376, 1066, 3321, 1642, 1938, 451, 3160, 738, 4805, 1426, 19423, 29989, 326, 29918, 355, 29989, 29958, 13, 29966, 29989, 326, 29918, 2962, 29989, 29958, 1792, 13, 29908, 20841, 7075, 847, 7075, 313, 535, 17348, 29897, 9242, 714, 310, 278, 1196, 786, 498, 1295, 3250, 29892, 25141, 275, 396, 29940, 15444, 396, 29903, 29967, 29908, 29966, 29989, 326, 29918, 355, 29989, 29958, 13, 29966, 29989, 326, 29918, 2962, 29989, 29958, 465, 22137, 13, 17821, 1705, 29966, 29989, 326, 29918, 355, 29989, 29958, 13]\n",
      "==========\n"
     ]
    }
   ],
   "source": [
    "for split, data in dataset.items():\n",
    "    dataset[split] = data.map(process_example, fn_kwargs={\"tokenizer\": tokenizer})\n",
    "    dataset[split] = data.map(tokenization, batched=True, fn_kwargs={\"tokenizer\": tokenizer})\n",
    "\n",
    "for i in range(2):\n",
    "    for k, v in dataset[\"train\"][i].items():\n",
    "        print(f\"{k}: {v}\")\n",
    "    print(\"=\" * 10)"
   ]
  },
  {
   "cell_type": "code",
   "execution_count": 44,
   "metadata": {
    "colab": {
     "base_uri": "https://localhost:8080/",
     "height": 530,
     "referenced_widgets": [
      "4bb9b7bea9fa45fcb46dc4d8a16de262",
      "3c0ccdcb9ead40f3ae9817f4a5b70ebe",
      "b491217558604d92ac9b64c1646cb1d0",
      "59bf22561db44105bdb5d4fd591ca44e",
      "228745e203de4b2189c7b8f5ef248a5e",
      "e1377f36d3b94cdbbf0d830538cb9056",
      "bd936f53b8ce4bcbbcb06d0ccc3ccf2a",
      "2f7c0072120c4b39b0d890445d628146",
      "8d2b79b836bf43d89d870430c7378452",
      "e3d84d92799f49cd8b3b6461703bcafe",
      "e064528114fb498b8ac2ab933034ed2f",
      "8e492a6ea1c947f9b5e15cb81eea8b26",
      "98b40e64792d4566b707bc110f08aa26",
      "59654160eebb4f51a4cd65146d99f272",
      "e7d65ccbc8a244c6bb0fae5b1941406d",
      "07f438638b474f71a392e78cfe626bd9",
      "310f3447f4af478cb44d3b2f89676954",
      "0f82815926094eaba9ef3c8de26e92e0",
      "19a76cd979db47af9c25fb35ae87906f",
      "3cb252f558424108a7c2ba6bc1f6d98c",
      "50259eae40a549a882ae62c9d28a6132",
      "e4e658d9d904462f8320c5520ed05954"
     ]
    },
    "id": "1RoZzzaJjoyQ",
    "outputId": "46380593-1cb7-4fab-c758-b83c58ce5911"
   },
   "outputs": [
    {
     "data": {
      "application/vnd.jupyter.widget-view+json": {
       "model_id": "4bb9b7bea9fa45fcb46dc4d8a16de262",
       "version_major": 2,
       "version_minor": 0
      },
      "text/plain": [
       "Batching examples:   0%|          | 0/12284 [00:00<?, ? examples/s]"
      ]
     },
     "metadata": {},
     "output_type": "display_data"
    },
    {
     "data": {
      "application/vnd.jupyter.widget-view+json": {
       "model_id": "8e492a6ea1c947f9b5e15cb81eea8b26",
       "version_major": 2,
       "version_minor": 0
      },
      "text/plain": [
       "  0%|          | 0/123 [00:00<?, ?it/s]"
      ]
     },
     "metadata": {},
     "output_type": "display_data"
    },
    {
     "name": "stdout",
     "output_type": "stream",
     "text": [
      "Initial F1 large model: 0.03\n"
     ]
    },
    {
     "data": {
      "image/png": "[encoded data removed]",
      "text/plain": [
       "<Figure size 640x480 with 2 Axes>"
      ]
     },
     "metadata": {},
     "output_type": "display_data"
    }
   ],
   "source": [
    "initial_f1_large_model = eval(model, dataset[\"test\"], tokenizer)\n",
    "print(f\"Initial F1 large model: {initial_f1_large_model:.2f}\")"
   ]
  },
  {
   "cell_type": "markdown",
   "metadata": {
    "id": "JPvkzXT4eCMr"
   },
   "source": [
    "### Обучим QLoRA"
   ]
  },
  {
   "cell_type": "code",
   "execution_count": 45,
   "metadata": {
    "colab": {
     "base_uri": "https://localhost:8080/"
    },
    "id": "akAtG5fqeCMr",
    "outputId": "0fa0a14a-8064-4ab7-987a-7aceab8473bb"
   },
   "outputs": [
    {
     "data": {
      "text/plain": [
       "PeftModelForCausalLM(\n",
       "  (base_model): LoraModel(\n",
       "    (model): LlamaForCausalLM(\n",
       "      (model): LlamaModel(\n",
       "        (embed_tokens): Embedding(32000, 2048)\n",
       "        (layers): ModuleList(\n",
       "          (0-21): 22 x LlamaDecoderLayer(\n",
       "            (self_attn): LlamaAttention(\n",
       "              (q_proj): Linear4bit(in_features=2048, out_features=2048, bias=False)\n",
       "              (k_proj): lora.Linear4bit(\n",
       "                (base_layer): Linear4bit(in_features=2048, out_features=256, bias=False)\n",
       "                (lora_dropout): ModuleDict(\n",
       "                  (default): Dropout(p=0.1, inplace=False)\n",
       "                )\n",
       "                (lora_A): ModuleDict(\n",
       "                  (default): Linear(in_features=2048, out_features=8, bias=False)\n",
       "                )\n",
       "                (lora_B): ModuleDict(\n",
       "                  (default): Linear(in_features=8, out_features=256, bias=False)\n",
       "                )\n",
       "                (lora_embedding_A): ParameterDict()\n",
       "                (lora_embedding_B): ParameterDict()\n",
       "                (lora_magnitude_vector): ModuleDict()\n",
       "              )\n",
       "              (v_proj): lora.Linear4bit(\n",
       "                (base_layer): Linear4bit(in_features=2048, out_features=256, bias=False)\n",
       "                (lora_dropout): ModuleDict(\n",
       "                  (default): Dropout(p=0.1, inplace=False)\n",
       "                )\n",
       "                (lora_A): ModuleDict(\n",
       "                  (default): Linear(in_features=2048, out_features=8, bias=False)\n",
       "                )\n",
       "                (lora_B): ModuleDict(\n",
       "                  (default): Linear(in_features=8, out_features=256, bias=False)\n",
       "                )\n",
       "                (lora_embedding_A): ParameterDict()\n",
       "                (lora_embedding_B): ParameterDict()\n",
       "                (lora_magnitude_vector): ModuleDict()\n",
       "              )\n",
       "              (o_proj): Linear4bit(in_features=2048, out_features=2048, bias=False)\n",
       "            )\n",
       "            (mlp): LlamaMLP(\n",
       "              (gate_proj): Linear4bit(in_features=2048, out_features=5632, bias=False)\n",
       "              (up_proj): Linear4bit(in_features=2048, out_features=5632, bias=False)\n",
       "              (down_proj): Linear4bit(in_features=5632, out_features=2048, bias=False)\n",
       "              (act_fn): SiLU()\n",
       "            )\n",
       "            (input_layernorm): LlamaRMSNorm((2048,), eps=1e-05)\n",
       "            (post_attention_layernorm): LlamaRMSNorm((2048,), eps=1e-05)\n",
       "          )\n",
       "        )\n",
       "        (norm): LlamaRMSNorm((2048,), eps=1e-05)\n",
       "        (rotary_emb): LlamaRotaryEmbedding()\n",
       "      )\n",
       "      (lm_head): Linear(in_features=2048, out_features=32000, bias=False)\n",
       "    )\n",
       "  )\n",
       ")"
      ]
     },
     "execution_count": 45,
     "metadata": {},
     "output_type": "execute_result"
    }
   ],
   "source": [
    "peft_config = LoraConfig(\n",
    "    lora_alpha=16, # todo()\n",
    "    lora_dropout=0.1, # todo()\n",
    "    r=8, # todo()\n",
    "    bias=\"none\",\n",
    "    task_type=\"CAUSAL_LM\",\n",
    "    target_modules=[\"k_proj\", \"v_proj\"],\n",
    ")\n",
    "\n",
    "model = prepare_model_for_kbit_training(model)\n",
    "model = get_peft_model(model, peft_config)\n",
    "model.train()"
   ]
  },
  {
   "cell_type": "markdown",
   "metadata": {
    "id": "tnekx15FOQf7"
   },
   "source": [
    "`SFTTrainer` supports conversational format:\n",
    "```\n",
    "{\"messages\": [{\"role\": \"system\", \"content\": \"You are helpful\"}, {\"role\": \"user\", \"content\": \"What's the capital of France?\"}, {\"role\": \"assistant\", \"content\": \"...\"}]}\n",
    "{\"messages\": [{\"role\": \"system\", \"content\": \"You are helpful\"}, {\"role\": \"user\", \"content\": \"Who wrote 'Romeo and Juliet'?\"}, {\"role\": \"assistant\", \"content\": \"...\"}]}\n",
    "{\"messages\": [{\"role\": \"system\", \"content\": \"You are helpful\"}, {\"role\": \"user\", \"content\": \"How far is the Moon from Earth?\"}, {\"role\": \"assistant\", \"content\": \"...\"}]}\n",
    "```"
   ]
  },
  {
   "cell_type": "code",
   "execution_count": 46,
   "metadata": {
    "colab": {
     "base_uri": "https://localhost:8080/",
     "height": 202,
     "referenced_widgets": [
      "24c6b00b7dfd4e13ad12db1952e3bb43",
      "6f2eb59c230d49489e56b1da36595828",
      "426ea842e03441a9880280a0b8fed09c",
      "c022df3ffac54747b617a12d2a4199b0",
      "13ff677a10e64d52ab8ed9c630a5269c",
      "0c5e113ddc6d4af0aee41a2d7085ebeb",
      "b5ce592b1cab4da7a01912137d0bf703",
      "27447a45d766484eb61409b0eda80a65",
      "46e14b1bf5fe4618a2dac42fc91bf688",
      "b2ae9182f9b344c38df1e3921a2ccf13",
      "290ec1edc0e94013839d78259a71bc2d",
      "9bee98b4c18f4005b7e2df009779806e",
      "34167943b0f143c2919c02c27d695b6b",
      "e9da2c49fcfe4be38e84ce86fe282471",
      "639bf605606f477ba10b9215dd6f386e",
      "091d45587bca4534bca7801c259f4fbe",
      "49450c63a0d64edb90881055c9ec0ee5",
      "c72b227b4a9e4f5c83050009ff55dbe5",
      "2d551ae24d3d40698f055b974b2bc78f",
      "21f907044915445bb35aea666768d0ab",
      "1e0ab1723ffb48908cf10d4be90c0d0b",
      "117ec536aa954ad0b443a652fd7751ed",
      "657b5cd2d31349e8bb64f7697add8f93",
      "a8c419e74904431db93c6448c947b2b3",
      "8b34848047404adaa9c9b3f5b4135650",
      "90a5915862c64940a424652b2cbfd3b4",
      "9d1452fc09e748f28d5e6a1e387e8937",
      "161c1e9a650b4a619180842d04349c42",
      "0c0cc34261dc44a38d0b2b96faf88e55",
      "1237eee1f4ff4099ae53b8437c8c5f44",
      "7bebeb868ef34f628a6bbd589c60121e",
      "d87000718d05490ca10b583998af0ff0",
      "3676c48c0e3a4687a947dd0aa205ed36"
     ]
    },
    "id": "EVpClyiJObAE",
    "outputId": "2254e69e-fc2a-4d91-e2d9-cd773e3ce815"
   },
   "outputs": [
    {
     "data": {
      "application/vnd.jupyter.widget-view+json": {
       "model_id": "24c6b00b7dfd4e13ad12db1952e3bb43",
       "version_major": 2,
       "version_minor": 0
      },
      "text/plain": [
       "Map:   0%|          | 0/45615 [00:00<?, ? examples/s]"
      ]
     },
     "metadata": {},
     "output_type": "display_data"
    },
    {
     "data": {
      "application/vnd.jupyter.widget-view+json": {
       "model_id": "9bee98b4c18f4005b7e2df009779806e",
       "version_major": 2,
       "version_minor": 0
      },
      "text/plain": [
       "Map:   0%|          | 0/12284 [00:00<?, ? examples/s]"
      ]
     },
     "metadata": {},
     "output_type": "display_data"
    },
    {
     "data": {
      "application/vnd.jupyter.widget-view+json": {
       "model_id": "657b5cd2d31349e8bb64f7697add8f93",
       "version_major": 2,
       "version_minor": 0
      },
      "text/plain": [
       "Map:   0%|          | 0/2000 [00:00<?, ? examples/s]"
      ]
     },
     "metadata": {},
     "output_type": "display_data"
    },
    {
     "name": "stdout",
     "output_type": "stream",
     "text": [
      "messages: [{'content': 'You are a tweet sentiment classifier. For each tweet input, analyze its sentiment and output exactly one word: \"negative\", \"neutral\", or \"positive\". Do not include any extra text.', 'role': 'system'}, {'content': 'Text: \"QT @user In the original draft of the 7th book, Remus Lupin survived the Battle of Hogwarts. #HappyBirthdayRemusLupin\"', 'role': 'user'}, {'content': 'positive', 'role': 'assistant'}]\n",
      "==========\n",
      "messages: [{'content': 'You are a tweet sentiment classifier. For each tweet input, analyze its sentiment and output exactly one word: \"negative\", \"neutral\", or \"positive\". Do not include any extra text.', 'role': 'system'}, {'content': 'Text: \"Ben Smith / Smith (concussion) remains out of the lineup Thursday, Curtis #NHL #SJ\"', 'role': 'user'}, {'content': 'neutral', 'role': 'assistant'}]\n",
      "==========\n"
     ]
    }
   ],
   "source": [
    "def convert_instruction_format(example, system_prompt=SYSTEM_PROMPT):\n",
    "    conversation = [\n",
    "        {\"role\": \"system\", \"content\": system_prompt},\n",
    "        {\"role\": \"user\", \"content\": f\"Text: {example['text']}\"},\n",
    "        {\"role\": \"assistant\", \"content\": example[\"str_label\"]},\n",
    "    ]\n",
    "    return {\"messages\": conversation}\n",
    "\n",
    "\n",
    "sft_dataset = dataset.copy()\n",
    "for split, data in dataset.items():\n",
    "    sft_dataset[split] = data.map(\n",
    "        convert_instruction_format,\n",
    "        remove_columns=[\"text\", \"label\", \"str_label\", \"prompt\", \"full_prompt\", \"input_ids\", \"full_input_ids\"],\n",
    "    )\n",
    "\n",
    "for i in range(2):\n",
    "    for k, v in sft_dataset[\"train\"][i].items():\n",
    "        print(f\"{k}: {v}\")\n",
    "    print(\"=\" * 10)"
   ]
  },
  {
   "cell_type": "code",
   "execution_count": 47,
   "metadata": {
    "colab": {
     "base_uri": "https://localhost:8080/",
     "height": 1000,
     "referenced_widgets": [
      "6e3c60fdddee401f85403284de05aa0e",
      "78b6ce8d5195432b81f4eed2be2166b6",
      "075a9b2fc3bd4560b4439d832c44252b",
      "09cec8188b634e4bac96a509fa85bd86",
      "e52bb32151474555a9ba3f70cff1b911",
      "55845f45970e4e5f91369d5a8852e884",
      "737974f6fc7843838b7a10311d034ec6",
      "1261d90ff0264f8e818047b7d1987118",
      "19b9fa09ec844149b275a944b4ce87df",
      "315539ba1f1b465d98af4ea1e6ece323",
      "d681b2dda4984b3abca064ef071bbb4c",
      "4313c7266a1541d7980c71ff326e8b20",
      "b6136c147fa146a1bc1c44f617aa8aeb",
      "8a696901972a46e5b96b529c10b03ee5",
      "a544c507b9aa44a3bad21b96482a0993",
      "aed2ddeb41d64b70af88578f37575bca",
      "f1ee57178fd34b3d9dde805e5ef649f8",
      "21c7d5a47dbf430993434bf32b4bd7d6",
      "a0cdfbf3ef514fbc8726e824ac6ed287",
      "4e7fae244c4f46a4a857c24a9d33fc9f",
      "f389835239bd4de5abe460c43f892d8e",
      "33dbf19f1fb24f66a88edec717960c0f",
      "2dc1518ac2ce450ba8266714964ecc53",
      "67203dba970c4150b550d07f39935fbd",
      "6ad09dfe297b44deb6863208d6017f5c",
      "84d3240423704045a201d8aea3c8cfff",
      "50a29fa6b4d5410bbb1a7ab7748c39f0",
      "9cb9720cff754697948d1e492ec53334",
      "41c5d15bcd5040ecad5e444ae6aa715f",
      "6fd94d890df94dbc985f84129de3f7c0",
      "cfededfbaa6443908a1a779f9cb3df51",
      "16ebd56b60714cfc8a2c76d7b21c1fc9",
      "fd7dbd71cf6e48ae85bb9f74781424cd",
      "fa9cfb4744c04d36a1b8c278e58f633f",
      "29979cd4092e4c8eac8bf9a5c00d36ef",
      "b9a1e44a20dd45e3aa27e4e12bc10419",
      "194f4bbb009244b78b07e3cfd2eb0ad7",
      "94083b9462654a8bbe1b475f59bf606b",
      "ee0cca7198774f17861f69488b2b0011",
      "1faa08138d39486796c734836129f688",
      "82fbc32388cb4fdfb46fd92bd6b7e613",
      "f08677c04a544af8a22b258d884074a0",
      "feecb4a01f814181ab6b0201aec7a030",
      "e6886bf231964eb899b228e17ac78096"
     ]
    },
    "id": "n_qexatpeCMr",
    "outputId": "2510a5db-ebb2-4a14-fe5d-93bb5ee092f7"
   },
   "outputs": [
    {
     "data": {
      "application/vnd.jupyter.widget-view+json": {
       "model_id": "6e3c60fdddee401f85403284de05aa0e",
       "version_major": 2,
       "version_minor": 0
      },
      "text/plain": [
       "Converting train dataset to ChatML:   0%|          | 0/45615 [00:00<?, ? examples/s]"
      ]
     },
     "metadata": {},
     "output_type": "display_data"
    },
    {
     "data": {
      "application/vnd.jupyter.widget-view+json": {
       "model_id": "4313c7266a1541d7980c71ff326e8b20",
       "version_major": 2,
       "version_minor": 0
      },
      "text/plain": [
       "Applying chat template to train dataset:   0%|          | 0/45615 [00:00<?, ? examples/s]"
      ]
     },
     "metadata": {},
     "output_type": "display_data"
    },
    {
     "data": {
      "application/vnd.jupyter.widget-view+json": {
       "model_id": "2dc1518ac2ce450ba8266714964ecc53",
       "version_major": 2,
       "version_minor": 0
      },
      "text/plain": [
       "Tokenizing train dataset:   0%|          | 0/45615 [00:00<?, ? examples/s]"
      ]
     },
     "metadata": {},
     "output_type": "display_data"
    },
    {
     "data": {
      "application/vnd.jupyter.widget-view+json": {
       "model_id": "fa9cfb4744c04d36a1b8c278e58f633f",
       "version_major": 2,
       "version_minor": 0
      },
      "text/plain": [
       "Truncating train dataset:   0%|          | 0/45615 [00:00<?, ? examples/s]"
      ]
     },
     "metadata": {},
     "output_type": "display_data"
    },
    {
     "name": "stderr",
     "output_type": "stream",
     "text": [
      "`use_cache=True` is incompatible with gradient checkpointing. Setting `use_cache=False`.\n",
      "/usr/local/lib/python3.11/dist-packages/torch/_dynamo/eval_frame.py:745: UserWarning: torch.utils.checkpoint: the use_reentrant parameter should be passed explicitly. In version 2.5 we will raise an exception if use_reentrant is not passed. use_reentrant=False is recommended, but if you need to preserve the current default behavior, you can pass use_reentrant=True. Refer to docs for more details on the differences between the two variants.\n",
      "  return fn(*args, **kwargs)\n"
     ]
    },
    {
     "data": {
      "text/html": [
       "\n",
       "    <div>\n",
       "      \n",
       "      <progress value='29' max='29' style='width:300px; height:20px; vertical-align: middle;'></progress>\n",
       "      [29/29 15:03, Epoch 0/1]\n",
       "    </div>\n",
       "    <table border=\"1\" class=\"dataframe\">\n",
       "  <thead>\n",
       " <tr style=\"text-align: left;\">\n",
       "      <th>Step</th>\n",
       "      <th>Training Loss</th>\n",
       "    </tr>\n",
       "  </thead>\n",
       "  <tbody>\n",
       "    <tr>\n",
       "      <td>1</td>\n",
       "      <td>2.601900</td>\n",
       "    </tr>\n",
       "    <tr>\n",
       "      <td>2</td>\n",
       "      <td>2.511600</td>\n",
       "    </tr>\n",
       "    <tr>\n",
       "      <td>3</td>\n",
       "      <td>2.392200</td>\n",
       "    </tr>\n",
       "    <tr>\n",
       "      <td>4</td>\n",
       "      <td>2.285800</td>\n",
       "    </tr>\n",
       "    <tr>\n",
       "      <td>5</td>\n",
       "      <td>2.153600</td>\n",
       "    </tr>\n",
       "    <tr>\n",
       "      <td>6</td>\n",
       "      <td>2.032700</td>\n",
       "    </tr>\n",
       "    <tr>\n",
       "      <td>7</td>\n",
       "      <td>1.909300</td>\n",
       "    </tr>\n",
       "    <tr>\n",
       "      <td>8</td>\n",
       "      <td>1.804600</td>\n",
       "    </tr>\n",
       "    <tr>\n",
       "      <td>9</td>\n",
       "      <td>1.730300</td>\n",
       "    </tr>\n",
       "    <tr>\n",
       "      <td>10</td>\n",
       "      <td>1.640900</td>\n",
       "    </tr>\n",
       "    <tr>\n",
       "      <td>11</td>\n",
       "      <td>1.563500</td>\n",
       "    </tr>\n",
       "    <tr>\n",
       "      <td>12</td>\n",
       "      <td>1.489500</td>\n",
       "    </tr>\n",
       "    <tr>\n",
       "      <td>13</td>\n",
       "      <td>1.429700</td>\n",
       "    </tr>\n",
       "    <tr>\n",
       "      <td>14</td>\n",
       "      <td>1.402400</td>\n",
       "    </tr>\n",
       "    <tr>\n",
       "      <td>15</td>\n",
       "      <td>1.341200</td>\n",
       "    </tr>\n",
       "    <tr>\n",
       "      <td>16</td>\n",
       "      <td>1.314700</td>\n",
       "    </tr>\n",
       "    <tr>\n",
       "      <td>17</td>\n",
       "      <td>1.282300</td>\n",
       "    </tr>\n",
       "    <tr>\n",
       "      <td>18</td>\n",
       "      <td>1.255900</td>\n",
       "    </tr>\n",
       "    <tr>\n",
       "      <td>19</td>\n",
       "      <td>1.233600</td>\n",
       "    </tr>\n",
       "    <tr>\n",
       "      <td>20</td>\n",
       "      <td>1.194100</td>\n",
       "    </tr>\n",
       "    <tr>\n",
       "      <td>21</td>\n",
       "      <td>1.186500</td>\n",
       "    </tr>\n",
       "    <tr>\n",
       "      <td>22</td>\n",
       "      <td>1.180600</td>\n",
       "    </tr>\n",
       "    <tr>\n",
       "      <td>23</td>\n",
       "      <td>1.154000</td>\n",
       "    </tr>\n",
       "    <tr>\n",
       "      <td>24</td>\n",
       "      <td>1.141500</td>\n",
       "    </tr>\n",
       "    <tr>\n",
       "      <td>25</td>\n",
       "      <td>1.147000</td>\n",
       "    </tr>\n",
       "    <tr>\n",
       "      <td>26</td>\n",
       "      <td>1.131300</td>\n",
       "    </tr>\n",
       "    <tr>\n",
       "      <td>27</td>\n",
       "      <td>1.144800</td>\n",
       "    </tr>\n",
       "    <tr>\n",
       "      <td>28</td>\n",
       "      <td>1.141500</td>\n",
       "    </tr>\n",
       "    <tr>\n",
       "      <td>29</td>\n",
       "      <td>1.135200</td>\n",
       "    </tr>\n",
       "  </tbody>\n",
       "</table><p>"
      ],
      "text/plain": [
       "<IPython.core.display.HTML object>"
      ]
     },
     "metadata": {},
     "output_type": "display_data"
    },
    {
     "data": {
      "text/plain": [
       "TrainOutput(global_step=29, training_loss=1.5493855435272743, metrics={'train_runtime': 936.2392, 'train_samples_per_second': 48.722, 'train_steps_per_second': 0.031, 'total_flos': 3.4906085530435584e+16, 'train_loss': 1.5493855435272743})"
      ]
     },
     "execution_count": 47,
     "metadata": {},
     "output_type": "execute_result"
    }
   ],
   "source": [
    "training_arguments = TrainingArguments(\n",
    "    # todo()\n",
    "    num_train_epochs=1,\n",
    "    per_device_train_batch_size=12,\n",
    "    gradient_accumulation_steps=128,\n",
    "    learning_rate=5e-4,\n",
    "    lr_scheduler_type=\"linear\",\n",
    "    seed=42,\n",
    "    logging_steps=1,\n",
    "    report_to=\"none\",\n",
    "    label_names=[]\n",
    ")\n",
    "\n",
    "trainer = SFTTrainer(\n",
    "    model=model,\n",
    "    train_dataset=sft_dataset[\"train\"],\n",
    "    args=training_arguments,\n",
    "    peft_config=peft_config,\n",
    "    processing_class=tokenizer\n",
    ")\n",
    "trainer.train()"
   ]
  },
  {
   "cell_type": "code",
   "execution_count": 48,
   "metadata": {
    "colab": {
     "base_uri": "https://localhost:8080/",
     "height": 589,
     "referenced_widgets": [
      "dd247ae85e1b42a0a6167526d44bf9bb",
      "4acc3d26dd8942dc8bd0a74305e25a5c",
      "391e8ca869ec413ba28b11a63c77a1a4",
      "7a5f7d3d1bec46e2a46f75ee9f039763",
      "c9268ea0550a432c9ec8ec01aa68a0ea",
      "8d8da03c28ac4fb7907fd1ec8763187a",
      "ef8f2f9cfab04f8f928efcbaa96668af",
      "d345864dc0e94ec19d8dc117ced29474",
      "65a64146f5fe4f9bb9cae39dc2382c7b",
      "39c7748b2dcf47c7ad17165325422a8f",
      "f1a21519d3ff4e458a543b757e4c0d36"
     ]
    },
    "id": "YWZD2lveJYGv",
    "outputId": "5a7fd515-c8ac-494c-a0dc-106880fa91af"
   },
   "outputs": [
    {
     "data": {
      "application/vnd.jupyter.widget-view+json": {
       "model_id": "dd247ae85e1b42a0a6167526d44bf9bb",
       "version_major": 2,
       "version_minor": 0
      },
      "text/plain": [
       "  0%|          | 0/123 [00:00<?, ?it/s]"
      ]
     },
     "metadata": {},
     "output_type": "display_data"
    },
    {
     "name": "stderr",
     "output_type": "stream",
     "text": [
      "/usr/local/lib/python3.11/dist-packages/torch/_dynamo/eval_frame.py:745: UserWarning: torch.utils.checkpoint: the use_reentrant parameter should be passed explicitly. In version 2.5 we will raise an exception if use_reentrant is not passed. use_reentrant=False is recommended, but if you need to preserve the current default behavior, you can pass use_reentrant=True. Refer to docs for more details on the differences between the two variants.\n",
      "  return fn(*args, **kwargs)\n",
      "/usr/local/lib/python3.11/dist-packages/torch/utils/checkpoint.py:87: UserWarning: None of the inputs have requires_grad=True. Gradients will be None\n",
      "  warnings.warn(\n"
     ]
    },
    {
     "name": "stdout",
     "output_type": "stream",
     "text": [
      "QLoRA F1 large model: 0.19\n"
     ]
    },
    {
     "data": {
      "image/png": "[encoded data removed]",
      "text/plain": [
       "<Figure size 640x480 with 2 Axes>"
      ]
     },
     "metadata": {},
     "output_type": "display_data"
    }
   ],
   "source": [
    "qlora_large_model = eval(model, dataset[\"test\"], tokenizer)\n",
    "print(f\"QLoRA F1 large model: {qlora_large_model:.2f}\")"
   ]
  },
  {
   "cell_type": "code",
   "execution_count": 49,
   "metadata": {
    "colab": {
     "base_uri": "https://localhost:8080/",
     "height": 133,
     "referenced_widgets": [
      "7bec5b1ce969470b80a9c44de3302451",
      "aa65e8149f1049d1a44105924dce3e87",
      "d83022f090af413d9992144cb760cb77",
      "21eea9a364e04607ae9cf8b5f8f912df",
      "4683433266b540ab922945d3b19b867d",
      "887faa119bd24ac19be1e50056ced485",
      "37b8a5d0e39e4189903f941d5eaddbca",
      "c3eeb541f5d04de9a20eb4880c386ec3",
      "ba64a3ddbdfa41a6a85736de2346be6b",
      "f39a427187104c07bb379fbf57c2c904",
      "f207a947588b4145900b7f814316acde",
      "88ba017a281847c5a4594c4d0cd4bc2c",
      "771138e1269c470480ab277d9df5e933",
      "b174f3852e1e4885aa329031c6d586f6",
      "c9a977c454ab4d75a4d042c033b81c77",
      "b983346d74214ce8a251d542a2121f79",
      "fc82ae1aadd14c92be76956cc78b8b88",
      "ec31521ba0484f39affa3efe39eeba07",
      "7898633afa9141e5a8e7c91c84361bf6",
      "6da3501b0a9f43fcb572d42fa8361b20",
      "35859cfe6ee64bda8590c62c4355f7f5",
      "1b97efc7c5994cdc977e5f5edff8482e"
     ]
    },
    "id": "DV8cJJTyJYGv",
    "outputId": "2facbe09-d6f5-4cb5-ea7d-f9990b785e93"
   },
   "outputs": [
    {
     "data": {
      "application/vnd.jupyter.widget-view+json": {
       "model_id": "7bec5b1ce969470b80a9c44de3302451",
       "version_major": 2,
       "version_minor": 0
      },
      "text/plain": [
       "adapter_model.safetensors:   0%|          | 0.00/3.26M [00:00<?, ?B/s]"
      ]
     },
     "metadata": {},
     "output_type": "display_data"
    },
    {
     "data": {
      "application/vnd.jupyter.widget-view+json": {
       "model_id": "88ba017a281847c5a4594c4d0cd4bc2c",
       "version_major": 2,
       "version_minor": 0
      },
      "text/plain": [
       "tokenizer.model:   0%|          | 0.00/500k [00:00<?, ?B/s]"
      ]
     },
     "metadata": {},
     "output_type": "display_data"
    },
    {
     "data": {
      "application/vnd.google.colaboratory.intrinsic+json": {
       "type": "string"
      },
      "text/plain": [
       "CommitInfo(commit_url='https://huggingface.co/xinyuema/llm-course-hw3-tinyllamma-qlora-tokenizer/commit/7394160ae77a53a92e5801201d6777be2e07489b', commit_message='Upload tokenizer', commit_description='', oid='7394160ae77a53a92e5801201d6777be2e07489b', pr_url=None, repo_url=RepoUrl('https://huggingface.co/xinyuema/llm-course-hw3-tinyllamma-qlora-tokenizer', endpoint='https://huggingface.co', repo_type='model', repo_id='xinyuema/llm-course-hw3-tinyllamma-qlora-tokenizer'), pr_revision=None, pr_num=None)"
      ]
     },
     "execution_count": 49,
     "metadata": {},
     "output_type": "execute_result"
    }
   ],
   "source": [
    "# Загружаем все на хаб\n",
    "model.push_to_hub(f\"{REPO_NAME}-tinyllama-qlora-model\", private=True)\n",
    "tokenizer.push_to_hub(f\"{REPO_NAME}-tinyllamma-qlora-tokenizer\", private=True)"
   ]
  }
 ],
 "metadata": {
  "accelerator": "GPU",
  "colab": {
   "gpuType": "A100",
   "machine_shape": "hm",
   "provenance": []
  },
  "kaggle": {
   "accelerator": "gpu",
   "dataSources": [],
   "dockerImageVersionId": 30919,
   "isGpuEnabled": true,
   "isInternetEnabled": true,
   "language": "python",
   "sourceType": "notebook"
  },
  "kernelspec": {
   "display_name": "Python 3",
   "name": "python3"
  },
  "language_info": {
   "codemirror_mode": {
    "name": "ipython",
    "version": 3
   },
   "file_extension": ".py",
   "mimetype": "text/x-python",
   "name": "python",
   "nbconvert_exporter": "python",
   "pygments_lexer": "ipython3",
   "version": "3.12.9"
  }
 },
 "nbformat": 4,
 "nbformat_minor": 0
}
